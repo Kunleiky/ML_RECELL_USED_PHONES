{
 "cells": [
  {
   "cell_type": "markdown",
   "metadata": {
    "id": "p2r5o8SR4rqH"
   },
   "source": [
    "# Supervised Learning - Foundations Project: ReCell "
   ]
  },
  {
   "cell_type": "markdown",
   "metadata": {
    "id": "3SntBY974rqJ"
   },
   "source": [
    "## Problem Statement"
   ]
  },
  {
   "cell_type": "markdown",
   "metadata": {
    "id": "RA_GXJwuhmVz"
   },
   "source": [
    "### Business Context\n",
    "\n",
    "Buying and selling used phones and tablets used to be something that happened on a handful of online marketplace sites. But the used and refurbished device market has grown considerably over the past decade, and a new IDC (International Data Corporation) forecast predicts that the used phone market would be worth \\\\$52.7bn by 2023 with a compound annual growth rate (CAGR) of 13.6% from 2018 to 2023. This growth can be attributed to an uptick in demand for used phones and tablets that offer considerable savings compared with new models.\n",
    "\n",
    "Refurbished and used devices continue to provide cost-effective alternatives to both consumers and businesses that are looking to save money when purchasing one. There are plenty of other benefits associated with the used device market. Used and refurbished devices can be sold with warranties and can also be insured with proof of purchase. Third-party vendors/platforms, such as Verizon, Amazon, etc., provide attractive offers to customers for refurbished devices. Maximizing the longevity of devices through second-hand trade also reduces their environmental impact and helps in recycling and reducing waste. The impact of the COVID-19 outbreak may further boost this segment as consumers cut back on discretionary spending and buy phones and tablets only for immediate needs.\n",
    "\n",
    " \n",
    "### Objective\n",
    "\n",
    "The rising potential of this comparatively under-the-radar market fuels the need for an ML-based solution to develop a dynamic pricing strategy for used and refurbished devices. ReCell, a startup aiming to tap the potential in this market, has hired you as a data scientist. They want you to analyze the data provided and build a linear regression model to predict the price of a used phone/tablet and identify factors that significantly influence it.\n",
    "\n",
    " \n",
    "### Data Description\n",
    "\n",
    "The data contains the different attributes of used/refurbished phones and tablets. The data was collected in the year 2021. The detailed data dictionary is given below.\n",
    "\n",
    "\n",
    "- brand_name: Name of manufacturing brand\n",
    "- os: OS on which the device runs\n",
    "- screen_size: Size of the screen in cm\n",
    "- 4g: Whether 4G is available or not\n",
    "- 5g: Whether 5G is available or not\n",
    "- main_camera_mp: Resolution of the rear camera in megapixels\n",
    "- selfie_camera_mp: Resolution of the front camera in megapixels\n",
    "- int_memory: Amount of internal memory (ROM) in GB\n",
    "- ram: Amount of RAM in GB\n",
    "- battery: Energy capacity of the device battery in mAh\n",
    "- weight: Weight of the device in grams\n",
    "- release_year: Year when the device model was released\n",
    "- days_used: Number of days the used/refurbished device has been used\n",
    "- normalized_new_price: Normalized price of a new device of the same model in euros\n",
    "- normalized_used_price: Normalized price of the used/refurbished device in euros"
   ]
  },
  {
   "cell_type": "markdown",
   "metadata": {
    "id": "v_-uuGqH-qTt"
   },
   "source": [
    "## Importing necessary libraries"
   ]
  },
  {
   "cell_type": "code",
   "execution_count": 10,
   "metadata": {
    "id": "zeF8YaNKDPyK"
   },
   "outputs": [
    {
     "data": {
      "application/javascript": [
       "\n",
       "            setTimeout(function() {\n",
       "                var nbb_cell_id = 10;\n",
       "                var nbb_unformatted_code = \"# Make the codes look well structured\\n%reload_ext nb_black\\n\\n# Libraries for data manipulation\\nimport numpy as np\\nimport pandas as pd\\n\\n# Libraries for data visualisation\\nimport matplotlib.pyplot as plt\\nimport seaborn as sns\\n\\n# Set the parameters for the style plots\\nsns.set_style(\\\"dark\\\")\\n# Enable the plots to stay inline,that is make plots appear in the notebook\\n%matplotlib inline\\n# Suppress any warning\\nimport warnings\\n\\nwarnings.filterwarnings(\\\"ignore\\\")\\n# Display all the rows of the data without limit\\npd.set_option(\\\"display.max_rows\\\", None)\\npd.set_option(\\\"display.max_columns\\\", None)\\nfrom sklearn.model_selection import train_test_split\\n\\n# Build the linear regrression model\\nimport statsmodels.api as sm\\n\\n# Check the performance of the model\\nfrom sklearn.metrics import mean_absolute_error, mean_squared_error, r2_score\";\n",
       "                var nbb_formatted_code = \"# Make the codes look well structured\\n%reload_ext nb_black\\n\\n# Libraries for data manipulation\\nimport numpy as np\\nimport pandas as pd\\n\\n# Libraries for data visualisation\\nimport matplotlib.pyplot as plt\\nimport seaborn as sns\\n\\n# Set the parameters for the style plots\\nsns.set_style(\\\"dark\\\")\\n# Enable the plots to stay inline,that is make plots appear in the notebook\\n%matplotlib inline\\n# Suppress any warning\\nimport warnings\\n\\nwarnings.filterwarnings(\\\"ignore\\\")\\n# Display all the rows of the data without limit\\npd.set_option(\\\"display.max_rows\\\", None)\\npd.set_option(\\\"display.max_columns\\\", None)\\nfrom sklearn.model_selection import train_test_split\\n\\n# Build the linear regrression model\\nimport statsmodels.api as sm\\n\\n# Check the performance of the model\\nfrom sklearn.metrics import mean_absolute_error, mean_squared_error, r2_score\";\n",
       "                var nbb_cells = Jupyter.notebook.get_cells();\n",
       "                for (var i = 0; i < nbb_cells.length; ++i) {\n",
       "                    if (nbb_cells[i].input_prompt_number == nbb_cell_id) {\n",
       "                        if (nbb_cells[i].get_text() == nbb_unformatted_code) {\n",
       "                             nbb_cells[i].set_text(nbb_formatted_code);\n",
       "                        }\n",
       "                        break;\n",
       "                    }\n",
       "                }\n",
       "            }, 500);\n",
       "            "
      ],
      "text/plain": [
       "<IPython.core.display.Javascript object>"
      ]
     },
     "metadata": {},
     "output_type": "display_data"
    },
    {
     "data": {
      "application/javascript": [
       "\n",
       "            setTimeout(function() {\n",
       "                var nbb_cell_id = 10;\n",
       "                var nbb_unformatted_code = \"# Make the codes look well structured\\n%reload_ext nb_black\\n\\n# Libraries for data manipulation\\nimport numpy as np\\nimport pandas as pd\\n\\n# Libraries for data visualisation\\nimport matplotlib.pyplot as plt\\nimport seaborn as sns\\n\\n# Set the parameters for the style plots\\nsns.set_style(\\\"dark\\\")\\n# Enable the plots to stay inline,that is make plots appear in the notebook\\n%matplotlib inline\\n# Suppress any warning\\nimport warnings\\n\\nwarnings.filterwarnings(\\\"ignore\\\")\\n# Display all the rows of the data without limit\\npd.set_option(\\\"display.max_rows\\\", None)\\npd.set_option(\\\"display.max_columns\\\", None)\\nfrom sklearn.model_selection import train_test_split\\n\\n# Build the linear regrression model\\nimport statsmodels.api as sm\\n\\n# Check the performance of the model\\nfrom sklearn.metrics import mean_absolute_error, mean_squared_error, r2_score\";\n",
       "                var nbb_formatted_code = \"# Make the codes look well structured\\n%reload_ext nb_black\\n\\n# Libraries for data manipulation\\nimport numpy as np\\nimport pandas as pd\\n\\n# Libraries for data visualisation\\nimport matplotlib.pyplot as plt\\nimport seaborn as sns\\n\\n# Set the parameters for the style plots\\nsns.set_style(\\\"dark\\\")\\n# Enable the plots to stay inline,that is make plots appear in the notebook\\n%matplotlib inline\\n# Suppress any warning\\nimport warnings\\n\\nwarnings.filterwarnings(\\\"ignore\\\")\\n# Display all the rows of the data without limit\\npd.set_option(\\\"display.max_rows\\\", None)\\npd.set_option(\\\"display.max_columns\\\", None)\\nfrom sklearn.model_selection import train_test_split\\n\\n# Build the linear regrression model\\nimport statsmodels.api as sm\\n\\n# Check the performance of the model\\nfrom sklearn.metrics import mean_absolute_error, mean_squared_error, r2_score\";\n",
       "                var nbb_cells = Jupyter.notebook.get_cells();\n",
       "                for (var i = 0; i < nbb_cells.length; ++i) {\n",
       "                    if (nbb_cells[i].input_prompt_number == nbb_cell_id) {\n",
       "                        if (nbb_cells[i].get_text() == nbb_unformatted_code) {\n",
       "                             nbb_cells[i].set_text(nbb_formatted_code);\n",
       "                        }\n",
       "                        break;\n",
       "                    }\n",
       "                }\n",
       "            }, 500);\n",
       "            "
      ],
      "text/plain": [
       "<IPython.core.display.Javascript object>"
      ]
     },
     "metadata": {},
     "output_type": "display_data"
    }
   ],
   "source": [
    "# Make the codes look well structured\n",
    "#nb-black package was first installed using pip install nb-black in the Jupyter terminal\n",
    "%load_ext nb_black\n",
    "\n",
    "# Libraries for data manipulation\n",
    "import numpy as np\n",
    "import pandas as pd\n",
    "\n",
    "# Libraries for data visualisation\n",
    "import matplotlib.pyplot as plt\n",
    "import seaborn as sns\n",
    "\n",
    "# Set the parameters for the style plots\n",
    "sns.set_style(\"dark\")\n",
    "# Enable the plots to stay inline,that is make plots appear in the notebook\n",
    "%matplotlib inline\n",
    "# Suppress any warning\n",
    "import warnings\n",
    "\n",
    "warnings.filterwarnings(\"ignore\")\n",
    "# Display all the rows of the data without limit\n",
    "pd.set_option(\"display.max_rows\", None)\n",
    "pd.set_option(\"display.max_columns\", None)\n",
    "from sklearn.model_selection import train_test_split\n",
    "\n",
    "# Build the linear regrression model\n",
    "import statsmodels.api as sm\n",
    "\n",
    "# Check the performance of the model\n",
    "from sklearn.metrics import mean_absolute_error, mean_squared_error, r2_score"
   ]
  },
  {
   "cell_type": "markdown",
   "metadata": {
    "id": "xxhpZv9y-qTw"
   },
   "source": [
    "## Loading the dataset"
   ]
  },
  {
   "cell_type": "code",
   "execution_count": null,
   "metadata": {},
   "outputs": [],
   "source": [
    "!pip install nb-black"
   ]
  },
  {
   "cell_type": "code",
   "execution_count": 246,
   "metadata": {
    "id": "ZJwX9wuc4rqL"
   },
   "outputs": [
    {
     "data": {
      "application/javascript": [
       "\n",
       "            setTimeout(function() {\n",
       "                var nbb_cell_id = 246;\n",
       "                var nbb_unformatted_code = \"df = pd.read_csv(\\\"used_device_data.csv\\\")\";\n",
       "                var nbb_formatted_code = \"df = pd.read_csv(\\\"used_device_data.csv\\\")\";\n",
       "                var nbb_cells = Jupyter.notebook.get_cells();\n",
       "                for (var i = 0; i < nbb_cells.length; ++i) {\n",
       "                    if (nbb_cells[i].input_prompt_number == nbb_cell_id) {\n",
       "                        if (nbb_cells[i].get_text() == nbb_unformatted_code) {\n",
       "                             nbb_cells[i].set_text(nbb_formatted_code);\n",
       "                        }\n",
       "                        break;\n",
       "                    }\n",
       "                }\n",
       "            }, 500);\n",
       "            "
      ],
      "text/plain": [
       "<IPython.core.display.Javascript object>"
      ]
     },
     "metadata": {},
     "output_type": "display_data"
    },
    {
     "data": {
      "application/javascript": [
       "\n",
       "            setTimeout(function() {\n",
       "                var nbb_cell_id = 246;\n",
       "                var nbb_unformatted_code = \"df = pd.read_csv(\\\"used_device_data.csv\\\")\";\n",
       "                var nbb_formatted_code = \"df = pd.read_csv(\\\"used_device_data.csv\\\")\";\n",
       "                var nbb_cells = Jupyter.notebook.get_cells();\n",
       "                for (var i = 0; i < nbb_cells.length; ++i) {\n",
       "                    if (nbb_cells[i].input_prompt_number == nbb_cell_id) {\n",
       "                        if (nbb_cells[i].get_text() == nbb_unformatted_code) {\n",
       "                             nbb_cells[i].set_text(nbb_formatted_code);\n",
       "                        }\n",
       "                        break;\n",
       "                    }\n",
       "                }\n",
       "            }, 500);\n",
       "            "
      ],
      "text/plain": [
       "<IPython.core.display.Javascript object>"
      ]
     },
     "metadata": {},
     "output_type": "display_data"
    }
   ],
   "source": [
    "df = pd.read_csv(\"used_device_data.csv\")"
   ]
  },
  {
   "cell_type": "markdown",
   "metadata": {
    "id": "UvpMDcaaMKtI"
   },
   "source": [
    "## Data Overview"
   ]
  },
  {
   "cell_type": "markdown",
   "metadata": {
    "id": "tIiCRwqZ54_C"
   },
   "source": [
    "- Observations\n",
    "- Sanity checks"
   ]
  },
  {
   "cell_type": "markdown",
   "metadata": {},
   "source": [
    "## Examine the first few rows of the data "
   ]
  },
  {
   "cell_type": "code",
   "execution_count": 7,
   "metadata": {
    "id": "01hJQ7EfMKtK"
   },
   "outputs": [
    {
     "data": {
      "text/html": [
       "<div>\n",
       "<style scoped>\n",
       "    .dataframe tbody tr th:only-of-type {\n",
       "        vertical-align: middle;\n",
       "    }\n",
       "\n",
       "    .dataframe tbody tr th {\n",
       "        vertical-align: top;\n",
       "    }\n",
       "\n",
       "    .dataframe thead th {\n",
       "        text-align: right;\n",
       "    }\n",
       "</style>\n",
       "<table border=\"1\" class=\"dataframe\">\n",
       "  <thead>\n",
       "    <tr style=\"text-align: right;\">\n",
       "      <th></th>\n",
       "      <th>brand_name</th>\n",
       "      <th>os</th>\n",
       "      <th>screen_size</th>\n",
       "      <th>4g</th>\n",
       "      <th>5g</th>\n",
       "      <th>main_camera_mp</th>\n",
       "      <th>selfie_camera_mp</th>\n",
       "      <th>int_memory</th>\n",
       "      <th>ram</th>\n",
       "      <th>battery</th>\n",
       "      <th>weight</th>\n",
       "      <th>release_year</th>\n",
       "      <th>days_used</th>\n",
       "      <th>normalized_used_price</th>\n",
       "      <th>normalized_new_price</th>\n",
       "    </tr>\n",
       "  </thead>\n",
       "  <tbody>\n",
       "    <tr>\n",
       "      <th>0</th>\n",
       "      <td>Honor</td>\n",
       "      <td>Android</td>\n",
       "      <td>14.50</td>\n",
       "      <td>yes</td>\n",
       "      <td>no</td>\n",
       "      <td>13.0</td>\n",
       "      <td>5.0</td>\n",
       "      <td>64.0</td>\n",
       "      <td>3.0</td>\n",
       "      <td>3020.0</td>\n",
       "      <td>146.0</td>\n",
       "      <td>2020</td>\n",
       "      <td>127</td>\n",
       "      <td>4.307572</td>\n",
       "      <td>4.715100</td>\n",
       "    </tr>\n",
       "    <tr>\n",
       "      <th>1</th>\n",
       "      <td>Honor</td>\n",
       "      <td>Android</td>\n",
       "      <td>17.30</td>\n",
       "      <td>yes</td>\n",
       "      <td>yes</td>\n",
       "      <td>13.0</td>\n",
       "      <td>16.0</td>\n",
       "      <td>128.0</td>\n",
       "      <td>8.0</td>\n",
       "      <td>4300.0</td>\n",
       "      <td>213.0</td>\n",
       "      <td>2020</td>\n",
       "      <td>325</td>\n",
       "      <td>5.162097</td>\n",
       "      <td>5.519018</td>\n",
       "    </tr>\n",
       "    <tr>\n",
       "      <th>2</th>\n",
       "      <td>Honor</td>\n",
       "      <td>Android</td>\n",
       "      <td>16.69</td>\n",
       "      <td>yes</td>\n",
       "      <td>yes</td>\n",
       "      <td>13.0</td>\n",
       "      <td>8.0</td>\n",
       "      <td>128.0</td>\n",
       "      <td>8.0</td>\n",
       "      <td>4200.0</td>\n",
       "      <td>213.0</td>\n",
       "      <td>2020</td>\n",
       "      <td>162</td>\n",
       "      <td>5.111084</td>\n",
       "      <td>5.884631</td>\n",
       "    </tr>\n",
       "    <tr>\n",
       "      <th>3</th>\n",
       "      <td>Honor</td>\n",
       "      <td>Android</td>\n",
       "      <td>25.50</td>\n",
       "      <td>yes</td>\n",
       "      <td>yes</td>\n",
       "      <td>13.0</td>\n",
       "      <td>8.0</td>\n",
       "      <td>64.0</td>\n",
       "      <td>6.0</td>\n",
       "      <td>7250.0</td>\n",
       "      <td>480.0</td>\n",
       "      <td>2020</td>\n",
       "      <td>345</td>\n",
       "      <td>5.135387</td>\n",
       "      <td>5.630961</td>\n",
       "    </tr>\n",
       "    <tr>\n",
       "      <th>4</th>\n",
       "      <td>Honor</td>\n",
       "      <td>Android</td>\n",
       "      <td>15.32</td>\n",
       "      <td>yes</td>\n",
       "      <td>no</td>\n",
       "      <td>13.0</td>\n",
       "      <td>8.0</td>\n",
       "      <td>64.0</td>\n",
       "      <td>3.0</td>\n",
       "      <td>5000.0</td>\n",
       "      <td>185.0</td>\n",
       "      <td>2020</td>\n",
       "      <td>293</td>\n",
       "      <td>4.389995</td>\n",
       "      <td>4.947837</td>\n",
       "    </tr>\n",
       "  </tbody>\n",
       "</table>\n",
       "</div>"
      ],
      "text/plain": [
       "  brand_name       os  screen_size   4g   5g  main_camera_mp  \\\n",
       "0      Honor  Android        14.50  yes   no            13.0   \n",
       "1      Honor  Android        17.30  yes  yes            13.0   \n",
       "2      Honor  Android        16.69  yes  yes            13.0   \n",
       "3      Honor  Android        25.50  yes  yes            13.0   \n",
       "4      Honor  Android        15.32  yes   no            13.0   \n",
       "\n",
       "   selfie_camera_mp  int_memory  ram  battery  weight  release_year  \\\n",
       "0               5.0        64.0  3.0   3020.0   146.0          2020   \n",
       "1              16.0       128.0  8.0   4300.0   213.0          2020   \n",
       "2               8.0       128.0  8.0   4200.0   213.0          2020   \n",
       "3               8.0        64.0  6.0   7250.0   480.0          2020   \n",
       "4               8.0        64.0  3.0   5000.0   185.0          2020   \n",
       "\n",
       "   days_used  normalized_used_price  normalized_new_price  \n",
       "0        127               4.307572              4.715100  \n",
       "1        325               5.162097              5.519018  \n",
       "2        162               5.111084              5.884631  \n",
       "3        345               5.135387              5.630961  \n",
       "4        293               4.389995              4.947837  "
      ]
     },
     "execution_count": 7,
     "metadata": {},
     "output_type": "execute_result"
    },
    {
     "data": {
      "application/javascript": [
       "\n",
       "            setTimeout(function() {\n",
       "                var nbb_cell_id = 7;\n",
       "                var nbb_unformatted_code = \"df.head()\";\n",
       "                var nbb_formatted_code = \"df.head()\";\n",
       "                var nbb_cells = Jupyter.notebook.get_cells();\n",
       "                for (var i = 0; i < nbb_cells.length; ++i) {\n",
       "                    if (nbb_cells[i].input_prompt_number == nbb_cell_id) {\n",
       "                        if (nbb_cells[i].get_text() == nbb_unformatted_code) {\n",
       "                             nbb_cells[i].set_text(nbb_formatted_code);\n",
       "                        }\n",
       "                        break;\n",
       "                    }\n",
       "                }\n",
       "            }, 500);\n",
       "            "
      ],
      "text/plain": [
       "<IPython.core.display.Javascript object>"
      ]
     },
     "metadata": {},
     "output_type": "display_data"
    }
   ],
   "source": [
    "df.head()"
   ]
  },
  {
   "cell_type": "markdown",
   "metadata": {},
   "source": [
    "## Check the number of rows and columns"
   ]
  },
  {
   "cell_type": "code",
   "execution_count": 8,
   "metadata": {},
   "outputs": [
    {
     "data": {
      "text/plain": [
       "(3454, 15)"
      ]
     },
     "execution_count": 8,
     "metadata": {},
     "output_type": "execute_result"
    },
    {
     "data": {
      "application/javascript": [
       "\n",
       "            setTimeout(function() {\n",
       "                var nbb_cell_id = 8;\n",
       "                var nbb_unformatted_code = \"df.shape\";\n",
       "                var nbb_formatted_code = \"df.shape\";\n",
       "                var nbb_cells = Jupyter.notebook.get_cells();\n",
       "                for (var i = 0; i < nbb_cells.length; ++i) {\n",
       "                    if (nbb_cells[i].input_prompt_number == nbb_cell_id) {\n",
       "                        if (nbb_cells[i].get_text() == nbb_unformatted_code) {\n",
       "                             nbb_cells[i].set_text(nbb_formatted_code);\n",
       "                        }\n",
       "                        break;\n",
       "                    }\n",
       "                }\n",
       "            }, 500);\n",
       "            "
      ],
      "text/plain": [
       "<IPython.core.display.Javascript object>"
      ]
     },
     "metadata": {},
     "output_type": "display_data"
    }
   ],
   "source": [
    "df.shape"
   ]
  },
  {
   "cell_type": "markdown",
   "metadata": {},
   "source": [
    "## Get information about the data, including data types of the columns"
   ]
  },
  {
   "cell_type": "code",
   "execution_count": 11,
   "metadata": {},
   "outputs": [
    {
     "name": "stdout",
     "output_type": "stream",
     "text": [
      "<class 'pandas.core.frame.DataFrame'>\n",
      "RangeIndex: 3454 entries, 0 to 3453\n",
      "Data columns (total 15 columns):\n",
      " #   Column                 Non-Null Count  Dtype  \n",
      "---  ------                 --------------  -----  \n",
      " 0   brand_name             3454 non-null   object \n",
      " 1   os                     3454 non-null   object \n",
      " 2   screen_size            3454 non-null   float64\n",
      " 3   4g                     3454 non-null   object \n",
      " 4   5g                     3454 non-null   object \n",
      " 5   main_camera_mp         3275 non-null   float64\n",
      " 6   selfie_camera_mp       3452 non-null   float64\n",
      " 7   int_memory             3450 non-null   float64\n",
      " 8   ram                    3450 non-null   float64\n",
      " 9   battery                3448 non-null   float64\n",
      " 10  weight                 3447 non-null   float64\n",
      " 11  release_year           3454 non-null   int64  \n",
      " 12  days_used              3454 non-null   int64  \n",
      " 13  normalized_used_price  3454 non-null   float64\n",
      " 14  normalized_new_price   3454 non-null   float64\n",
      "dtypes: float64(9), int64(2), object(4)\n",
      "memory usage: 404.9+ KB\n"
     ]
    },
    {
     "data": {
      "application/javascript": [
       "\n",
       "            setTimeout(function() {\n",
       "                var nbb_cell_id = 11;\n",
       "                var nbb_unformatted_code = \"df.info()\";\n",
       "                var nbb_formatted_code = \"df.info()\";\n",
       "                var nbb_cells = Jupyter.notebook.get_cells();\n",
       "                for (var i = 0; i < nbb_cells.length; ++i) {\n",
       "                    if (nbb_cells[i].input_prompt_number == nbb_cell_id) {\n",
       "                        if (nbb_cells[i].get_text() == nbb_unformatted_code) {\n",
       "                             nbb_cells[i].set_text(nbb_formatted_code);\n",
       "                        }\n",
       "                        break;\n",
       "                    }\n",
       "                }\n",
       "            }, 500);\n",
       "            "
      ],
      "text/plain": [
       "<IPython.core.display.Javascript object>"
      ]
     },
     "metadata": {},
     "output_type": "display_data"
    },
    {
     "data": {
      "application/javascript": [
       "\n",
       "            setTimeout(function() {\n",
       "                var nbb_cell_id = 11;\n",
       "                var nbb_unformatted_code = \"df.info()\";\n",
       "                var nbb_formatted_code = \"df.info()\";\n",
       "                var nbb_cells = Jupyter.notebook.get_cells();\n",
       "                for (var i = 0; i < nbb_cells.length; ++i) {\n",
       "                    if (nbb_cells[i].input_prompt_number == nbb_cell_id) {\n",
       "                        if (nbb_cells[i].get_text() == nbb_unformatted_code) {\n",
       "                             nbb_cells[i].set_text(nbb_formatted_code);\n",
       "                        }\n",
       "                        break;\n",
       "                    }\n",
       "                }\n",
       "            }, 500);\n",
       "            "
      ],
      "text/plain": [
       "<IPython.core.display.Javascript object>"
      ]
     },
     "metadata": {},
     "output_type": "display_data"
    }
   ],
   "source": [
    "df.info()"
   ]
  },
  {
   "cell_type": "markdown",
   "metadata": {},
   "source": [
    "## Check the columns of the data "
   ]
  },
  {
   "cell_type": "code",
   "execution_count": 15,
   "metadata": {},
   "outputs": [
    {
     "data": {
      "text/plain": [
       "['brand_name',\n",
       " 'os',\n",
       " 'screen_size',\n",
       " '4g',\n",
       " '5g',\n",
       " 'main_camera_mp',\n",
       " 'selfie_camera_mp',\n",
       " 'int_memory',\n",
       " 'ram',\n",
       " 'battery',\n",
       " 'weight',\n",
       " 'release_year',\n",
       " 'days_used',\n",
       " 'normalized_used_price',\n",
       " 'normalized_new_price']"
      ]
     },
     "execution_count": 15,
     "metadata": {},
     "output_type": "execute_result"
    },
    {
     "data": {
      "application/javascript": [
       "\n",
       "            setTimeout(function() {\n",
       "                var nbb_cell_id = 15;\n",
       "                var nbb_unformatted_code = \"df.columns.values.tolist()\";\n",
       "                var nbb_formatted_code = \"df.columns.values.tolist()\";\n",
       "                var nbb_cells = Jupyter.notebook.get_cells();\n",
       "                for (var i = 0; i < nbb_cells.length; ++i) {\n",
       "                    if (nbb_cells[i].input_prompt_number == nbb_cell_id) {\n",
       "                        if (nbb_cells[i].get_text() == nbb_unformatted_code) {\n",
       "                             nbb_cells[i].set_text(nbb_formatted_code);\n",
       "                        }\n",
       "                        break;\n",
       "                    }\n",
       "                }\n",
       "            }, 500);\n",
       "            "
      ],
      "text/plain": [
       "<IPython.core.display.Javascript object>"
      ]
     },
     "metadata": {},
     "output_type": "display_data"
    },
    {
     "data": {
      "application/javascript": [
       "\n",
       "            setTimeout(function() {\n",
       "                var nbb_cell_id = 15;\n",
       "                var nbb_unformatted_code = \"df.columns.values.tolist()\";\n",
       "                var nbb_formatted_code = \"df.columns.values.tolist()\";\n",
       "                var nbb_cells = Jupyter.notebook.get_cells();\n",
       "                for (var i = 0; i < nbb_cells.length; ++i) {\n",
       "                    if (nbb_cells[i].input_prompt_number == nbb_cell_id) {\n",
       "                        if (nbb_cells[i].get_text() == nbb_unformatted_code) {\n",
       "                             nbb_cells[i].set_text(nbb_formatted_code);\n",
       "                        }\n",
       "                        break;\n",
       "                    }\n",
       "                }\n",
       "            }, 500);\n",
       "            "
      ],
      "text/plain": [
       "<IPython.core.display.Javascript object>"
      ]
     },
     "metadata": {},
     "output_type": "display_data"
    }
   ],
   "source": [
    "df.columns.values.tolist()"
   ]
  },
  {
   "cell_type": "markdown",
   "metadata": {},
   "source": [
    "## Decriptive statistics of the data"
   ]
  },
  {
   "cell_type": "code",
   "execution_count": 17,
   "metadata": {},
   "outputs": [
    {
     "data": {
      "text/html": [
       "<div>\n",
       "<style scoped>\n",
       "    .dataframe tbody tr th:only-of-type {\n",
       "        vertical-align: middle;\n",
       "    }\n",
       "\n",
       "    .dataframe tbody tr th {\n",
       "        vertical-align: top;\n",
       "    }\n",
       "\n",
       "    .dataframe thead th {\n",
       "        text-align: right;\n",
       "    }\n",
       "</style>\n",
       "<table border=\"1\" class=\"dataframe\">\n",
       "  <thead>\n",
       "    <tr style=\"text-align: right;\">\n",
       "      <th></th>\n",
       "      <th>count</th>\n",
       "      <th>mean</th>\n",
       "      <th>std</th>\n",
       "      <th>min</th>\n",
       "      <th>25%</th>\n",
       "      <th>50%</th>\n",
       "      <th>75%</th>\n",
       "      <th>max</th>\n",
       "    </tr>\n",
       "  </thead>\n",
       "  <tbody>\n",
       "    <tr>\n",
       "      <th>screen_size</th>\n",
       "      <td>3454.0</td>\n",
       "      <td>13.713115</td>\n",
       "      <td>3.805280</td>\n",
       "      <td>5.080000</td>\n",
       "      <td>12.700000</td>\n",
       "      <td>12.830000</td>\n",
       "      <td>15.340000</td>\n",
       "      <td>30.710000</td>\n",
       "    </tr>\n",
       "    <tr>\n",
       "      <th>main_camera_mp</th>\n",
       "      <td>3275.0</td>\n",
       "      <td>9.460208</td>\n",
       "      <td>4.815461</td>\n",
       "      <td>0.080000</td>\n",
       "      <td>5.000000</td>\n",
       "      <td>8.000000</td>\n",
       "      <td>13.000000</td>\n",
       "      <td>48.000000</td>\n",
       "    </tr>\n",
       "    <tr>\n",
       "      <th>selfie_camera_mp</th>\n",
       "      <td>3452.0</td>\n",
       "      <td>6.554229</td>\n",
       "      <td>6.970372</td>\n",
       "      <td>0.000000</td>\n",
       "      <td>2.000000</td>\n",
       "      <td>5.000000</td>\n",
       "      <td>8.000000</td>\n",
       "      <td>32.000000</td>\n",
       "    </tr>\n",
       "    <tr>\n",
       "      <th>int_memory</th>\n",
       "      <td>3450.0</td>\n",
       "      <td>54.573099</td>\n",
       "      <td>84.972371</td>\n",
       "      <td>0.010000</td>\n",
       "      <td>16.000000</td>\n",
       "      <td>32.000000</td>\n",
       "      <td>64.000000</td>\n",
       "      <td>1024.000000</td>\n",
       "    </tr>\n",
       "    <tr>\n",
       "      <th>ram</th>\n",
       "      <td>3450.0</td>\n",
       "      <td>4.036122</td>\n",
       "      <td>1.365105</td>\n",
       "      <td>0.020000</td>\n",
       "      <td>4.000000</td>\n",
       "      <td>4.000000</td>\n",
       "      <td>4.000000</td>\n",
       "      <td>12.000000</td>\n",
       "    </tr>\n",
       "    <tr>\n",
       "      <th>battery</th>\n",
       "      <td>3448.0</td>\n",
       "      <td>3133.402697</td>\n",
       "      <td>1299.682844</td>\n",
       "      <td>500.000000</td>\n",
       "      <td>2100.000000</td>\n",
       "      <td>3000.000000</td>\n",
       "      <td>4000.000000</td>\n",
       "      <td>9720.000000</td>\n",
       "    </tr>\n",
       "    <tr>\n",
       "      <th>weight</th>\n",
       "      <td>3447.0</td>\n",
       "      <td>182.751871</td>\n",
       "      <td>88.413228</td>\n",
       "      <td>69.000000</td>\n",
       "      <td>142.000000</td>\n",
       "      <td>160.000000</td>\n",
       "      <td>185.000000</td>\n",
       "      <td>855.000000</td>\n",
       "    </tr>\n",
       "    <tr>\n",
       "      <th>release_year</th>\n",
       "      <td>3454.0</td>\n",
       "      <td>2015.965258</td>\n",
       "      <td>2.298455</td>\n",
       "      <td>2013.000000</td>\n",
       "      <td>2014.000000</td>\n",
       "      <td>2015.500000</td>\n",
       "      <td>2018.000000</td>\n",
       "      <td>2020.000000</td>\n",
       "    </tr>\n",
       "    <tr>\n",
       "      <th>days_used</th>\n",
       "      <td>3454.0</td>\n",
       "      <td>674.869716</td>\n",
       "      <td>248.580166</td>\n",
       "      <td>91.000000</td>\n",
       "      <td>533.500000</td>\n",
       "      <td>690.500000</td>\n",
       "      <td>868.750000</td>\n",
       "      <td>1094.000000</td>\n",
       "    </tr>\n",
       "    <tr>\n",
       "      <th>normalized_used_price</th>\n",
       "      <td>3454.0</td>\n",
       "      <td>4.364712</td>\n",
       "      <td>0.588914</td>\n",
       "      <td>1.536867</td>\n",
       "      <td>4.033931</td>\n",
       "      <td>4.405133</td>\n",
       "      <td>4.755700</td>\n",
       "      <td>6.619433</td>\n",
       "    </tr>\n",
       "    <tr>\n",
       "      <th>normalized_new_price</th>\n",
       "      <td>3454.0</td>\n",
       "      <td>5.233107</td>\n",
       "      <td>0.683637</td>\n",
       "      <td>2.901422</td>\n",
       "      <td>4.790342</td>\n",
       "      <td>5.245892</td>\n",
       "      <td>5.673718</td>\n",
       "      <td>7.847841</td>\n",
       "    </tr>\n",
       "  </tbody>\n",
       "</table>\n",
       "</div>"
      ],
      "text/plain": [
       "                        count         mean          std          min  \\\n",
       "screen_size            3454.0    13.713115     3.805280     5.080000   \n",
       "main_camera_mp         3275.0     9.460208     4.815461     0.080000   \n",
       "selfie_camera_mp       3452.0     6.554229     6.970372     0.000000   \n",
       "int_memory             3450.0    54.573099    84.972371     0.010000   \n",
       "ram                    3450.0     4.036122     1.365105     0.020000   \n",
       "battery                3448.0  3133.402697  1299.682844   500.000000   \n",
       "weight                 3447.0   182.751871    88.413228    69.000000   \n",
       "release_year           3454.0  2015.965258     2.298455  2013.000000   \n",
       "days_used              3454.0   674.869716   248.580166    91.000000   \n",
       "normalized_used_price  3454.0     4.364712     0.588914     1.536867   \n",
       "normalized_new_price   3454.0     5.233107     0.683637     2.901422   \n",
       "\n",
       "                               25%          50%          75%          max  \n",
       "screen_size              12.700000    12.830000    15.340000    30.710000  \n",
       "main_camera_mp            5.000000     8.000000    13.000000    48.000000  \n",
       "selfie_camera_mp          2.000000     5.000000     8.000000    32.000000  \n",
       "int_memory               16.000000    32.000000    64.000000  1024.000000  \n",
       "ram                       4.000000     4.000000     4.000000    12.000000  \n",
       "battery                2100.000000  3000.000000  4000.000000  9720.000000  \n",
       "weight                  142.000000   160.000000   185.000000   855.000000  \n",
       "release_year           2014.000000  2015.500000  2018.000000  2020.000000  \n",
       "days_used               533.500000   690.500000   868.750000  1094.000000  \n",
       "normalized_used_price     4.033931     4.405133     4.755700     6.619433  \n",
       "normalized_new_price      4.790342     5.245892     5.673718     7.847841  "
      ]
     },
     "execution_count": 17,
     "metadata": {},
     "output_type": "execute_result"
    },
    {
     "data": {
      "application/javascript": [
       "\n",
       "            setTimeout(function() {\n",
       "                var nbb_cell_id = 17;\n",
       "                var nbb_unformatted_code = \"df.describe().T\";\n",
       "                var nbb_formatted_code = \"df.describe().T\";\n",
       "                var nbb_cells = Jupyter.notebook.get_cells();\n",
       "                for (var i = 0; i < nbb_cells.length; ++i) {\n",
       "                    if (nbb_cells[i].input_prompt_number == nbb_cell_id) {\n",
       "                        if (nbb_cells[i].get_text() == nbb_unformatted_code) {\n",
       "                             nbb_cells[i].set_text(nbb_formatted_code);\n",
       "                        }\n",
       "                        break;\n",
       "                    }\n",
       "                }\n",
       "            }, 500);\n",
       "            "
      ],
      "text/plain": [
       "<IPython.core.display.Javascript object>"
      ]
     },
     "metadata": {},
     "output_type": "display_data"
    },
    {
     "data": {
      "application/javascript": [
       "\n",
       "            setTimeout(function() {\n",
       "                var nbb_cell_id = 17;\n",
       "                var nbb_unformatted_code = \"df.describe().T\";\n",
       "                var nbb_formatted_code = \"df.describe().T\";\n",
       "                var nbb_cells = Jupyter.notebook.get_cells();\n",
       "                for (var i = 0; i < nbb_cells.length; ++i) {\n",
       "                    if (nbb_cells[i].input_prompt_number == nbb_cell_id) {\n",
       "                        if (nbb_cells[i].get_text() == nbb_unformatted_code) {\n",
       "                             nbb_cells[i].set_text(nbb_formatted_code);\n",
       "                        }\n",
       "                        break;\n",
       "                    }\n",
       "                }\n",
       "            }, 500);\n",
       "            "
      ],
      "text/plain": [
       "<IPython.core.display.Javascript object>"
      ]
     },
     "metadata": {},
     "output_type": "display_data"
    }
   ],
   "source": [
    "df.describe().T"
   ]
  },
  {
   "cell_type": "markdown",
   "metadata": {},
   "source": [
    "- The average price of a new device is 5.23 euros.\n",
    "- The average price of a used device is 4.36 euros.\n",
    "- The maximum size of a device is 31cm.\n",
    "- The average weight of a device is 182 gram."
   ]
  },
  {
   "cell_type": "markdown",
   "metadata": {},
   "source": [
    "## Check for duplicate values in the data"
   ]
  },
  {
   "cell_type": "code",
   "execution_count": 18,
   "metadata": {},
   "outputs": [
    {
     "data": {
      "text/plain": [
       "0"
      ]
     },
     "execution_count": 18,
     "metadata": {},
     "output_type": "execute_result"
    },
    {
     "data": {
      "application/javascript": [
       "\n",
       "            setTimeout(function() {\n",
       "                var nbb_cell_id = 18;\n",
       "                var nbb_unformatted_code = \"df.duplicated().sum()\";\n",
       "                var nbb_formatted_code = \"df.duplicated().sum()\";\n",
       "                var nbb_cells = Jupyter.notebook.get_cells();\n",
       "                for (var i = 0; i < nbb_cells.length; ++i) {\n",
       "                    if (nbb_cells[i].input_prompt_number == nbb_cell_id) {\n",
       "                        if (nbb_cells[i].get_text() == nbb_unformatted_code) {\n",
       "                             nbb_cells[i].set_text(nbb_formatted_code);\n",
       "                        }\n",
       "                        break;\n",
       "                    }\n",
       "                }\n",
       "            }, 500);\n",
       "            "
      ],
      "text/plain": [
       "<IPython.core.display.Javascript object>"
      ]
     },
     "metadata": {},
     "output_type": "display_data"
    },
    {
     "data": {
      "application/javascript": [
       "\n",
       "            setTimeout(function() {\n",
       "                var nbb_cell_id = 18;\n",
       "                var nbb_unformatted_code = \"df.duplicated().sum()\";\n",
       "                var nbb_formatted_code = \"df.duplicated().sum()\";\n",
       "                var nbb_cells = Jupyter.notebook.get_cells();\n",
       "                for (var i = 0; i < nbb_cells.length; ++i) {\n",
       "                    if (nbb_cells[i].input_prompt_number == nbb_cell_id) {\n",
       "                        if (nbb_cells[i].get_text() == nbb_unformatted_code) {\n",
       "                             nbb_cells[i].set_text(nbb_formatted_code);\n",
       "                        }\n",
       "                        break;\n",
       "                    }\n",
       "                }\n",
       "            }, 500);\n",
       "            "
      ],
      "text/plain": [
       "<IPython.core.display.Javascript object>"
      ]
     },
     "metadata": {},
     "output_type": "display_data"
    }
   ],
   "source": [
    "df.duplicated().sum()"
   ]
  },
  {
   "cell_type": "raw",
   "metadata": {},
   "source": [
    "*There are no duplicate values"
   ]
  },
  {
   "cell_type": "markdown",
   "metadata": {},
   "source": [
    "## Check if there are missing values"
   ]
  },
  {
   "cell_type": "code",
   "execution_count": 20,
   "metadata": {},
   "outputs": [
    {
     "data": {
      "text/plain": [
       "brand_name                 0\n",
       "os                         0\n",
       "screen_size                0\n",
       "4g                         0\n",
       "5g                         0\n",
       "main_camera_mp           179\n",
       "selfie_camera_mp           2\n",
       "int_memory                 4\n",
       "ram                        4\n",
       "battery                    6\n",
       "weight                     7\n",
       "release_year               0\n",
       "days_used                  0\n",
       "normalized_used_price      0\n",
       "normalized_new_price       0\n",
       "dtype: int64"
      ]
     },
     "execution_count": 20,
     "metadata": {},
     "output_type": "execute_result"
    },
    {
     "data": {
      "application/javascript": [
       "\n",
       "            setTimeout(function() {\n",
       "                var nbb_cell_id = 20;\n",
       "                var nbb_unformatted_code = \"df.isnull().sum()\";\n",
       "                var nbb_formatted_code = \"df.isnull().sum()\";\n",
       "                var nbb_cells = Jupyter.notebook.get_cells();\n",
       "                for (var i = 0; i < nbb_cells.length; ++i) {\n",
       "                    if (nbb_cells[i].input_prompt_number == nbb_cell_id) {\n",
       "                        if (nbb_cells[i].get_text() == nbb_unformatted_code) {\n",
       "                             nbb_cells[i].set_text(nbb_formatted_code);\n",
       "                        }\n",
       "                        break;\n",
       "                    }\n",
       "                }\n",
       "            }, 500);\n",
       "            "
      ],
      "text/plain": [
       "<IPython.core.display.Javascript object>"
      ]
     },
     "metadata": {},
     "output_type": "display_data"
    },
    {
     "data": {
      "application/javascript": [
       "\n",
       "            setTimeout(function() {\n",
       "                var nbb_cell_id = 20;\n",
       "                var nbb_unformatted_code = \"df.isnull().sum()\";\n",
       "                var nbb_formatted_code = \"df.isnull().sum()\";\n",
       "                var nbb_cells = Jupyter.notebook.get_cells();\n",
       "                for (var i = 0; i < nbb_cells.length; ++i) {\n",
       "                    if (nbb_cells[i].input_prompt_number == nbb_cell_id) {\n",
       "                        if (nbb_cells[i].get_text() == nbb_unformatted_code) {\n",
       "                             nbb_cells[i].set_text(nbb_formatted_code);\n",
       "                        }\n",
       "                        break;\n",
       "                    }\n",
       "                }\n",
       "            }, 500);\n",
       "            "
      ],
      "text/plain": [
       "<IPython.core.display.Javascript object>"
      ]
     },
     "metadata": {},
     "output_type": "display_data"
    }
   ],
   "source": [
    "df.isnull().sum()"
   ]
  },
  {
   "cell_type": "raw",
   "metadata": {},
   "source": [
    "* It is revealed that a good number of the columns have missing values in them."
   ]
  },
  {
   "cell_type": "markdown",
   "metadata": {},
   "source": [
    "## Back up the original dataset so that it remains unchanged"
   ]
  },
  {
   "cell_type": "code",
   "execution_count": 23,
   "metadata": {},
   "outputs": [
    {
     "data": {
      "application/javascript": [
       "\n",
       "            setTimeout(function() {\n",
       "                var nbb_cell_id = 23;\n",
       "                var nbb_unformatted_code = \"df_backup = df.copy()\";\n",
       "                var nbb_formatted_code = \"df_backup = df.copy()\";\n",
       "                var nbb_cells = Jupyter.notebook.get_cells();\n",
       "                for (var i = 0; i < nbb_cells.length; ++i) {\n",
       "                    if (nbb_cells[i].input_prompt_number == nbb_cell_id) {\n",
       "                        if (nbb_cells[i].get_text() == nbb_unformatted_code) {\n",
       "                             nbb_cells[i].set_text(nbb_formatted_code);\n",
       "                        }\n",
       "                        break;\n",
       "                    }\n",
       "                }\n",
       "            }, 500);\n",
       "            "
      ],
      "text/plain": [
       "<IPython.core.display.Javascript object>"
      ]
     },
     "metadata": {},
     "output_type": "display_data"
    },
    {
     "data": {
      "application/javascript": [
       "\n",
       "            setTimeout(function() {\n",
       "                var nbb_cell_id = 23;\n",
       "                var nbb_unformatted_code = \"df_backup = df.copy()\";\n",
       "                var nbb_formatted_code = \"df_backup = df.copy()\";\n",
       "                var nbb_cells = Jupyter.notebook.get_cells();\n",
       "                for (var i = 0; i < nbb_cells.length; ++i) {\n",
       "                    if (nbb_cells[i].input_prompt_number == nbb_cell_id) {\n",
       "                        if (nbb_cells[i].get_text() == nbb_unformatted_code) {\n",
       "                             nbb_cells[i].set_text(nbb_formatted_code);\n",
       "                        }\n",
       "                        break;\n",
       "                    }\n",
       "                }\n",
       "            }, 500);\n",
       "            "
      ],
      "text/plain": [
       "<IPython.core.display.Javascript object>"
      ]
     },
     "metadata": {},
     "output_type": "display_data"
    }
   ],
   "source": [
    "df_backup = df.copy()"
   ]
  },
  {
   "cell_type": "markdown",
   "metadata": {
    "id": "__7ciGcIDPyk"
   },
   "source": [
    "## Exploratory Data Analysis (EDA)"
   ]
  },
  {
   "cell_type": "markdown",
   "metadata": {
    "id": "3bGVKmh75ri8"
   },
   "source": [
    "- EDA is an important part of any project involving data.\n",
    "- It is important to investigate and understand the data better before building a model with it.\n",
    "- A few questions have been mentioned below which will help you approach the analysis in the right manner and generate insights from the data.\n",
    "- A thorough analysis of the data, in addition to the questions mentioned below, should be done."
   ]
  },
  {
   "cell_type": "markdown",
   "metadata": {
    "id": "oEyqzdJBb0jU"
   },
   "source": [
    "**Questions**:\n",
    "\n",
    "1. What does the distribution of normalized used device prices look like?\n",
    "2. What percentage of the used device market is dominated by Android devices?\n",
    "3. The amount of RAM is important for the smooth functioning of a device. How does the amount of RAM vary with the brand?\n",
    "4. A large battery often increases a device's weight, making it feel uncomfortable in the hands. How does the weight vary for phones and tablets offering large batteries (more than 4500 mAh)?\n",
    "5. Bigger screens are desirable for entertainment purposes as they offer a better viewing experience. How many phones and tablets are available across different brands with a screen size larger than 6 inches?\n",
    "6. A lot of devices nowadays offer great selfie cameras, allowing us to capture our favorite moments with loved ones. What is the distribution of devices offering greater than 8MP selfie cameras across brands?\n",
    "7. Which attributes are highly correlated with the normalized price of a used device?"
   ]
  },
  {
   "cell_type": "markdown",
   "metadata": {},
   "source": [
    "## 1. Examine the distribution of normalized used device prices"
   ]
  },
  {
   "cell_type": "code",
   "execution_count": 122,
   "metadata": {},
   "outputs": [
    {
     "data": {
      "image/png": "[encoded data removed]",
      "text/plain": [
       "<Figure size 432x288 with 2 Axes>"
      ]
     },
     "metadata": {
      "needs_background": "light"
     },
     "output_type": "display_data"
    },
    {
     "data": {
      "text/plain": [
       "<Figure size 1080x576 with 0 Axes>"
      ]
     },
     "metadata": {},
     "output_type": "display_data"
    },
    {
     "data": {
      "application/javascript": [
       "\n",
       "            setTimeout(function() {\n",
       "                var nbb_cell_id = 122;\n",
       "                var nbb_unformatted_code = \"f, (ax_box, ax_hist) = plt.subplots(\\n    nrows=2, sharex=True, gridspec_kw={\\\"height_ratios\\\": (0.18, 0.90)},\\n)  # Create the two subplots\\nsns.boxplot(\\n    df[\\\"normalized_used_price\\\"], ax=ax_box, color=\\\"salmon\\\"\\n)  # Create the boxplot\\nsns.histplot(df[\\\"normalized_used_price\\\"], ax=ax_hist)  # Create the histogram\\nax_box.set(xlabel=\\\"\\\")  # Suppress label for the boxplot\\nplt.figure(figsize=(15, 8))\\nplt.show()\";\n",
       "                var nbb_formatted_code = \"f, (ax_box, ax_hist) = plt.subplots(\\n    nrows=2, sharex=True, gridspec_kw={\\\"height_ratios\\\": (0.18, 0.90)},\\n)  # Create the two subplots\\nsns.boxplot(\\n    df[\\\"normalized_used_price\\\"], ax=ax_box, color=\\\"salmon\\\"\\n)  # Create the boxplot\\nsns.histplot(df[\\\"normalized_used_price\\\"], ax=ax_hist)  # Create the histogram\\nax_box.set(xlabel=\\\"\\\")  # Suppress label for the boxplot\\nplt.figure(figsize=(15, 8))\\nplt.show()\";\n",
       "                var nbb_cells = Jupyter.notebook.get_cells();\n",
       "                for (var i = 0; i < nbb_cells.length; ++i) {\n",
       "                    if (nbb_cells[i].input_prompt_number == nbb_cell_id) {\n",
       "                        if (nbb_cells[i].get_text() == nbb_unformatted_code) {\n",
       "                             nbb_cells[i].set_text(nbb_formatted_code);\n",
       "                        }\n",
       "                        break;\n",
       "                    }\n",
       "                }\n",
       "            }, 500);\n",
       "            "
      ],
      "text/plain": [
       "<IPython.core.display.Javascript object>"
      ]
     },
     "metadata": {},
     "output_type": "display_data"
    },
    {
     "data": {
      "application/javascript": [
       "\n",
       "            setTimeout(function() {\n",
       "                var nbb_cell_id = 122;\n",
       "                var nbb_unformatted_code = \"f, (ax_box, ax_hist) = plt.subplots(\\n    nrows=2, sharex=True, gridspec_kw={\\\"height_ratios\\\": (0.18, 0.90)},\\n)  # Create the two subplots\\nsns.boxplot(\\n    df[\\\"normalized_used_price\\\"], ax=ax_box, color=\\\"salmon\\\"\\n)  # Create the boxplot\\nsns.histplot(df[\\\"normalized_used_price\\\"], ax=ax_hist)  # Create the histogram\\nax_box.set(xlabel=\\\"\\\")  # Suppress label for the boxplot\\nplt.figure(figsize=(15, 8))\\nplt.show()\";\n",
       "                var nbb_formatted_code = \"f, (ax_box, ax_hist) = plt.subplots(\\n    nrows=2, sharex=True, gridspec_kw={\\\"height_ratios\\\": (0.18, 0.90)},\\n)  # Create the two subplots\\nsns.boxplot(\\n    df[\\\"normalized_used_price\\\"], ax=ax_box, color=\\\"salmon\\\"\\n)  # Create the boxplot\\nsns.histplot(df[\\\"normalized_used_price\\\"], ax=ax_hist)  # Create the histogram\\nax_box.set(xlabel=\\\"\\\")  # Suppress label for the boxplot\\nplt.figure(figsize=(15, 8))\\nplt.show()\";\n",
       "                var nbb_cells = Jupyter.notebook.get_cells();\n",
       "                for (var i = 0; i < nbb_cells.length; ++i) {\n",
       "                    if (nbb_cells[i].input_prompt_number == nbb_cell_id) {\n",
       "                        if (nbb_cells[i].get_text() == nbb_unformatted_code) {\n",
       "                             nbb_cells[i].set_text(nbb_formatted_code);\n",
       "                        }\n",
       "                        break;\n",
       "                    }\n",
       "                }\n",
       "            }, 500);\n",
       "            "
      ],
      "text/plain": [
       "<IPython.core.display.Javascript object>"
      ]
     },
     "metadata": {},
     "output_type": "display_data"
    }
   ],
   "source": [
    "f, (ax_box, ax_hist) = plt.subplots(\n",
    "    nrows=2, sharex=True, gridspec_kw={\"height_ratios\": (0.18, 0.90)},\n",
    ")  # Create the two subplots\n",
    "sns.boxplot(\n",
    "    df[\"normalized_used_price\"], ax=ax_box, color=\"salmon\"\n",
    ")  # Create the boxplot\n",
    "sns.histplot(df[\"normalized_used_price\"], ax=ax_hist)  # Create the histogram\n",
    "ax_box.set(xlabel=\"\")  # Suppress label for the boxplot\n",
    "plt.show()"
   ]
  },
  {
   "cell_type": "markdown",
   "metadata": {},
   "source": [
    "- The distribution of normalized used device prices has a bell shape, with little more values skewing to the left than to the right\n",
    "- This is an indication that there are good number of used devices with cheaper prices."
   ]
  },
  {
   "cell_type": "markdown",
   "metadata": {},
   "source": [
    "## 2. Percentage of used device market dominated by Android devices"
   ]
  },
  {
   "cell_type": "code",
   "execution_count": 32,
   "metadata": {},
   "outputs": [
    {
     "data": {
      "application/javascript": [
       "\n",
       "            setTimeout(function() {\n",
       "                var nbb_cell_id = 32;\n",
       "                var nbb_unformatted_code = \"#Craete a dataframe for Android Devices\\ndf_android=df[df['os']=='Android']\";\n",
       "                var nbb_formatted_code = \"# Craete a dataframe for Android Devices\\ndf_android = df[df[\\\"os\\\"] == \\\"Android\\\"]\";\n",
       "                var nbb_cells = Jupyter.notebook.get_cells();\n",
       "                for (var i = 0; i < nbb_cells.length; ++i) {\n",
       "                    if (nbb_cells[i].input_prompt_number == nbb_cell_id) {\n",
       "                        if (nbb_cells[i].get_text() == nbb_unformatted_code) {\n",
       "                             nbb_cells[i].set_text(nbb_formatted_code);\n",
       "                        }\n",
       "                        break;\n",
       "                    }\n",
       "                }\n",
       "            }, 500);\n",
       "            "
      ],
      "text/plain": [
       "<IPython.core.display.Javascript object>"
      ]
     },
     "metadata": {},
     "output_type": "display_data"
    },
    {
     "data": {
      "application/javascript": [
       "\n",
       "            setTimeout(function() {\n",
       "                var nbb_cell_id = 32;\n",
       "                var nbb_unformatted_code = \"#Craete a dataframe for Android Devices\\ndf_android=df[df['os']=='Android']\";\n",
       "                var nbb_formatted_code = \"# Craete a dataframe for Android Devices\\ndf_android = df[df[\\\"os\\\"] == \\\"Android\\\"]\";\n",
       "                var nbb_cells = Jupyter.notebook.get_cells();\n",
       "                for (var i = 0; i < nbb_cells.length; ++i) {\n",
       "                    if (nbb_cells[i].input_prompt_number == nbb_cell_id) {\n",
       "                        if (nbb_cells[i].get_text() == nbb_unformatted_code) {\n",
       "                             nbb_cells[i].set_text(nbb_formatted_code);\n",
       "                        }\n",
       "                        break;\n",
       "                    }\n",
       "                }\n",
       "            }, 500);\n",
       "            "
      ],
      "text/plain": [
       "<IPython.core.display.Javascript object>"
      ]
     },
     "metadata": {},
     "output_type": "display_data"
    }
   ],
   "source": [
    "# Craete a dataframe for Android Devices\n",
    "df_android = df[df[\"os\"] == \"Android\"]"
   ]
  },
  {
   "cell_type": "code",
   "execution_count": 33,
   "metadata": {},
   "outputs": [
    {
     "data": {
      "application/javascript": [
       "\n",
       "            setTimeout(function() {\n",
       "                var nbb_cell_id = 33;\n",
       "                var nbb_unformatted_code = \"#First of all create a function for the division\\ndef div (a,b):\\n    return(a/b*100)\";\n",
       "                var nbb_formatted_code = \"# First of all create a function for the division\\ndef div(a, b):\\n    return a / b * 100\";\n",
       "                var nbb_cells = Jupyter.notebook.get_cells();\n",
       "                for (var i = 0; i < nbb_cells.length; ++i) {\n",
       "                    if (nbb_cells[i].input_prompt_number == nbb_cell_id) {\n",
       "                        if (nbb_cells[i].get_text() == nbb_unformatted_code) {\n",
       "                             nbb_cells[i].set_text(nbb_formatted_code);\n",
       "                        }\n",
       "                        break;\n",
       "                    }\n",
       "                }\n",
       "            }, 500);\n",
       "            "
      ],
      "text/plain": [
       "<IPython.core.display.Javascript object>"
      ]
     },
     "metadata": {},
     "output_type": "display_data"
    },
    {
     "data": {
      "application/javascript": [
       "\n",
       "            setTimeout(function() {\n",
       "                var nbb_cell_id = 33;\n",
       "                var nbb_unformatted_code = \"#First of all create a function for the division\\ndef div (a,b):\\n    return(a/b*100)\";\n",
       "                var nbb_formatted_code = \"# First of all create a function for the division\\ndef div(a, b):\\n    return a / b * 100\";\n",
       "                var nbb_cells = Jupyter.notebook.get_cells();\n",
       "                for (var i = 0; i < nbb_cells.length; ++i) {\n",
       "                    if (nbb_cells[i].input_prompt_number == nbb_cell_id) {\n",
       "                        if (nbb_cells[i].get_text() == nbb_unformatted_code) {\n",
       "                             nbb_cells[i].set_text(nbb_formatted_code);\n",
       "                        }\n",
       "                        break;\n",
       "                    }\n",
       "                }\n",
       "            }, 500);\n",
       "            "
      ],
      "text/plain": [
       "<IPython.core.display.Javascript object>"
      ]
     },
     "metadata": {},
     "output_type": "display_data"
    }
   ],
   "source": [
    "# First of all create a function for the division\n",
    "def div(a, b):\n",
    "    return a / b * 100"
   ]
  },
  {
   "cell_type": "code",
   "execution_count": 35,
   "metadata": {},
   "outputs": [
    {
     "data": {
      "application/javascript": [
       "\n",
       "            setTimeout(function() {\n",
       "                var nbb_cell_id = 35;\n",
       "                var nbb_unformatted_code = \"x= df_android[\\\"os\\\"].count()\";\n",
       "                var nbb_formatted_code = \"x = df_android[\\\"os\\\"].count()\";\n",
       "                var nbb_cells = Jupyter.notebook.get_cells();\n",
       "                for (var i = 0; i < nbb_cells.length; ++i) {\n",
       "                    if (nbb_cells[i].input_prompt_number == nbb_cell_id) {\n",
       "                        if (nbb_cells[i].get_text() == nbb_unformatted_code) {\n",
       "                             nbb_cells[i].set_text(nbb_formatted_code);\n",
       "                        }\n",
       "                        break;\n",
       "                    }\n",
       "                }\n",
       "            }, 500);\n",
       "            "
      ],
      "text/plain": [
       "<IPython.core.display.Javascript object>"
      ]
     },
     "metadata": {},
     "output_type": "display_data"
    },
    {
     "data": {
      "application/javascript": [
       "\n",
       "            setTimeout(function() {\n",
       "                var nbb_cell_id = 35;\n",
       "                var nbb_unformatted_code = \"x= df_android[\\\"os\\\"].count()\";\n",
       "                var nbb_formatted_code = \"x = df_android[\\\"os\\\"].count()\";\n",
       "                var nbb_cells = Jupyter.notebook.get_cells();\n",
       "                for (var i = 0; i < nbb_cells.length; ++i) {\n",
       "                    if (nbb_cells[i].input_prompt_number == nbb_cell_id) {\n",
       "                        if (nbb_cells[i].get_text() == nbb_unformatted_code) {\n",
       "                             nbb_cells[i].set_text(nbb_formatted_code);\n",
       "                        }\n",
       "                        break;\n",
       "                    }\n",
       "                }\n",
       "            }, 500);\n",
       "            "
      ],
      "text/plain": [
       "<IPython.core.display.Javascript object>"
      ]
     },
     "metadata": {},
     "output_type": "display_data"
    }
   ],
   "source": [
    "x = df_android[\"os\"].count()"
   ]
  },
  {
   "cell_type": "code",
   "execution_count": 38,
   "metadata": {},
   "outputs": [
    {
     "data": {
      "application/javascript": [
       "\n",
       "            setTimeout(function() {\n",
       "                var nbb_cell_id = 38;\n",
       "                var nbb_unformatted_code = \"y = df[\\\"os\\\"].count()\";\n",
       "                var nbb_formatted_code = \"y = df[\\\"os\\\"].count()\";\n",
       "                var nbb_cells = Jupyter.notebook.get_cells();\n",
       "                for (var i = 0; i < nbb_cells.length; ++i) {\n",
       "                    if (nbb_cells[i].input_prompt_number == nbb_cell_id) {\n",
       "                        if (nbb_cells[i].get_text() == nbb_unformatted_code) {\n",
       "                             nbb_cells[i].set_text(nbb_formatted_code);\n",
       "                        }\n",
       "                        break;\n",
       "                    }\n",
       "                }\n",
       "            }, 500);\n",
       "            "
      ],
      "text/plain": [
       "<IPython.core.display.Javascript object>"
      ]
     },
     "metadata": {},
     "output_type": "display_data"
    },
    {
     "data": {
      "application/javascript": [
       "\n",
       "            setTimeout(function() {\n",
       "                var nbb_cell_id = 38;\n",
       "                var nbb_unformatted_code = \"y = df[\\\"os\\\"].count()\";\n",
       "                var nbb_formatted_code = \"y = df[\\\"os\\\"].count()\";\n",
       "                var nbb_cells = Jupyter.notebook.get_cells();\n",
       "                for (var i = 0; i < nbb_cells.length; ++i) {\n",
       "                    if (nbb_cells[i].input_prompt_number == nbb_cell_id) {\n",
       "                        if (nbb_cells[i].get_text() == nbb_unformatted_code) {\n",
       "                             nbb_cells[i].set_text(nbb_formatted_code);\n",
       "                        }\n",
       "                        break;\n",
       "                    }\n",
       "                }\n",
       "            }, 500);\n",
       "            "
      ],
      "text/plain": [
       "<IPython.core.display.Javascript object>"
      ]
     },
     "metadata": {},
     "output_type": "display_data"
    }
   ],
   "source": [
    "y = df[\"os\"].count()"
   ]
  },
  {
   "cell_type": "code",
   "execution_count": 39,
   "metadata": {},
   "outputs": [
    {
     "data": {
      "text/plain": [
       "93.05153445280834"
      ]
     },
     "execution_count": 39,
     "metadata": {},
     "output_type": "execute_result"
    },
    {
     "data": {
      "application/javascript": [
       "\n",
       "            setTimeout(function() {\n",
       "                var nbb_cell_id = 39;\n",
       "                var nbb_unformatted_code = \"div(x,y)\";\n",
       "                var nbb_formatted_code = \"div(x, y)\";\n",
       "                var nbb_cells = Jupyter.notebook.get_cells();\n",
       "                for (var i = 0; i < nbb_cells.length; ++i) {\n",
       "                    if (nbb_cells[i].input_prompt_number == nbb_cell_id) {\n",
       "                        if (nbb_cells[i].get_text() == nbb_unformatted_code) {\n",
       "                             nbb_cells[i].set_text(nbb_formatted_code);\n",
       "                        }\n",
       "                        break;\n",
       "                    }\n",
       "                }\n",
       "            }, 500);\n",
       "            "
      ],
      "text/plain": [
       "<IPython.core.display.Javascript object>"
      ]
     },
     "metadata": {},
     "output_type": "display_data"
    },
    {
     "data": {
      "application/javascript": [
       "\n",
       "            setTimeout(function() {\n",
       "                var nbb_cell_id = 39;\n",
       "                var nbb_unformatted_code = \"div(x,y)\";\n",
       "                var nbb_formatted_code = \"div(x, y)\";\n",
       "                var nbb_cells = Jupyter.notebook.get_cells();\n",
       "                for (var i = 0; i < nbb_cells.length; ++i) {\n",
       "                    if (nbb_cells[i].input_prompt_number == nbb_cell_id) {\n",
       "                        if (nbb_cells[i].get_text() == nbb_unformatted_code) {\n",
       "                             nbb_cells[i].set_text(nbb_formatted_code);\n",
       "                        }\n",
       "                        break;\n",
       "                    }\n",
       "                }\n",
       "            }, 500);\n",
       "            "
      ],
      "text/plain": [
       "<IPython.core.display.Javascript object>"
      ]
     },
     "metadata": {},
     "output_type": "display_data"
    }
   ],
   "source": [
    "div(x, y)"
   ]
  },
  {
   "cell_type": "markdown",
   "metadata": {},
   "source": [
    "- Approximately 93% of the device market is dominated by Android devices."
   ]
  },
  {
   "cell_type": "markdown",
   "metadata": {},
   "source": [
    "## 3. How  the amount of RAM vary with the brand"
   ]
  },
  {
   "cell_type": "code",
   "execution_count": 84,
   "metadata": {},
   "outputs": [
    {
     "data": {
      "image/png": "[encoded data removed]",
      "text/plain": [
       "<Figure size 1080x576 with 1 Axes>"
      ]
     },
     "metadata": {
      "needs_background": "light"
     },
     "output_type": "display_data"
    },
    {
     "data": {
      "application/javascript": [
       "\n",
       "            setTimeout(function() {\n",
       "                var nbb_cell_id = 84;\n",
       "                var nbb_unformatted_code = \"plt.figure(figsize=(15, 8))\\nplt.title(\\\"Barplot of RAM sizes accross brands\\\", fontsize=14,weight=\\\"bold\\\",)\\nsns.barplot(x=\\\"brand_name\\\", y=\\\"ram\\\", data=df, estimator=sum)\\nplt.xticks(rotation=90)\\nplt.show()\";\n",
       "                var nbb_formatted_code = \"plt.figure(figsize=(15, 8))\\nplt.title(\\n    \\\"Barplot of RAM sizes accross brands\\\", fontsize=14, weight=\\\"bold\\\",\\n)\\nsns.barplot(x=\\\"brand_name\\\", y=\\\"ram\\\", data=df, estimator=sum)\\nplt.xticks(rotation=90)\\nplt.show()\";\n",
       "                var nbb_cells = Jupyter.notebook.get_cells();\n",
       "                for (var i = 0; i < nbb_cells.length; ++i) {\n",
       "                    if (nbb_cells[i].input_prompt_number == nbb_cell_id) {\n",
       "                        if (nbb_cells[i].get_text() == nbb_unformatted_code) {\n",
       "                             nbb_cells[i].set_text(nbb_formatted_code);\n",
       "                        }\n",
       "                        break;\n",
       "                    }\n",
       "                }\n",
       "            }, 500);\n",
       "            "
      ],
      "text/plain": [
       "<IPython.core.display.Javascript object>"
      ]
     },
     "metadata": {},
     "output_type": "display_data"
    },
    {
     "data": {
      "application/javascript": [
       "\n",
       "            setTimeout(function() {\n",
       "                var nbb_cell_id = 84;\n",
       "                var nbb_unformatted_code = \"plt.figure(figsize=(15, 8))\\nplt.title(\\\"Barplot of RAM sizes accross brands\\\", fontsize=14,weight=\\\"bold\\\",)\\nsns.barplot(x=\\\"brand_name\\\", y=\\\"ram\\\", data=df, estimator=sum)\\nplt.xticks(rotation=90)\\nplt.show()\";\n",
       "                var nbb_formatted_code = \"plt.figure(figsize=(15, 8))\\nplt.title(\\n    \\\"Barplot of RAM sizes accross brands\\\", fontsize=14, weight=\\\"bold\\\",\\n)\\nsns.barplot(x=\\\"brand_name\\\", y=\\\"ram\\\", data=df, estimator=sum)\\nplt.xticks(rotation=90)\\nplt.show()\";\n",
       "                var nbb_cells = Jupyter.notebook.get_cells();\n",
       "                for (var i = 0; i < nbb_cells.length; ++i) {\n",
       "                    if (nbb_cells[i].input_prompt_number == nbb_cell_id) {\n",
       "                        if (nbb_cells[i].get_text() == nbb_unformatted_code) {\n",
       "                             nbb_cells[i].set_text(nbb_formatted_code);\n",
       "                        }\n",
       "                        break;\n",
       "                    }\n",
       "                }\n",
       "            }, 500);\n",
       "            "
      ],
      "text/plain": [
       "<IPython.core.display.Javascript object>"
      ]
     },
     "metadata": {},
     "output_type": "display_data"
    }
   ],
   "source": [
    "plt.figure(figsize=(15, 8))\n",
    "plt.title(\n",
    "    \"Barplot of RAM sizes accross brands\", fontsize=14, weight=\"bold\",\n",
    ")\n",
    "sns.barplot(x=\"brand_name\", y=\"ram\", data=df, estimator=sum)\n",
    "plt.xticks(rotation=90)\n",
    "plt.show()"
   ]
  },
  {
   "cell_type": "markdown",
   "metadata": {},
   "source": [
    "## 4. How weight vary for phones and tablets offering large batteries (more than 4500 mAh)"
   ]
  },
  {
   "cell_type": "code",
   "execution_count": 45,
   "metadata": {},
   "outputs": [
    {
     "data": {
      "application/javascript": [
       "\n",
       "            setTimeout(function() {\n",
       "                var nbb_cell_id = 45;\n",
       "                var nbb_unformatted_code = \"df_large_battery = df[df[\\\"battery\\\"] > 4500]\";\n",
       "                var nbb_formatted_code = \"df_large_battery = df[df[\\\"battery\\\"] > 4500]\";\n",
       "                var nbb_cells = Jupyter.notebook.get_cells();\n",
       "                for (var i = 0; i < nbb_cells.length; ++i) {\n",
       "                    if (nbb_cells[i].input_prompt_number == nbb_cell_id) {\n",
       "                        if (nbb_cells[i].get_text() == nbb_unformatted_code) {\n",
       "                             nbb_cells[i].set_text(nbb_formatted_code);\n",
       "                        }\n",
       "                        break;\n",
       "                    }\n",
       "                }\n",
       "            }, 500);\n",
       "            "
      ],
      "text/plain": [
       "<IPython.core.display.Javascript object>"
      ]
     },
     "metadata": {},
     "output_type": "display_data"
    },
    {
     "data": {
      "application/javascript": [
       "\n",
       "            setTimeout(function() {\n",
       "                var nbb_cell_id = 45;\n",
       "                var nbb_unformatted_code = \"df_large_battery = df[df[\\\"battery\\\"] > 4500]\";\n",
       "                var nbb_formatted_code = \"df_large_battery = df[df[\\\"battery\\\"] > 4500]\";\n",
       "                var nbb_cells = Jupyter.notebook.get_cells();\n",
       "                for (var i = 0; i < nbb_cells.length; ++i) {\n",
       "                    if (nbb_cells[i].input_prompt_number == nbb_cell_id) {\n",
       "                        if (nbb_cells[i].get_text() == nbb_unformatted_code) {\n",
       "                             nbb_cells[i].set_text(nbb_formatted_code);\n",
       "                        }\n",
       "                        break;\n",
       "                    }\n",
       "                }\n",
       "            }, 500);\n",
       "            "
      ],
      "text/plain": [
       "<IPython.core.display.Javascript object>"
      ]
     },
     "metadata": {},
     "output_type": "display_data"
    }
   ],
   "source": [
    "df_large_battery = df[df[\"battery\"] > 4500]"
   ]
  },
  {
   "cell_type": "code",
   "execution_count": 97,
   "metadata": {},
   "outputs": [
    {
     "data": {
      "image/png": "[encoded data removed]",
      "text/plain": [
       "<Figure size 1080x576 with 1 Axes>"
      ]
     },
     "metadata": {
      "needs_background": "light"
     },
     "output_type": "display_data"
    },
    {
     "data": {
      "application/javascript": [
       "\n",
       "            setTimeout(function() {\n",
       "                var nbb_cell_id = 97;\n",
       "                var nbb_unformatted_code = \"plt.figure(figsize=(15, 8))\\nplt.title(\\n    \\\"Boxplot showing how weight vary for phones and tablets offering large batteries\\\",\\n    fontsize=14,\\n    weight=\\\"bold\\\",\\n)\\nsns.boxplot(x=\\\"weight\\\", y=\\\"brand_name\\\", data=df_large_battery)\\nplt.xticks(rotation=90)\\nplt.show()\";\n",
       "                var nbb_formatted_code = \"plt.figure(figsize=(15, 8))\\nplt.title(\\n    \\\"Boxplot showing how weight vary for phones and tablets offering large batteries\\\",\\n    fontsize=14,\\n    weight=\\\"bold\\\",\\n)\\nsns.boxplot(x=\\\"weight\\\", y=\\\"brand_name\\\", data=df_large_battery)\\nplt.xticks(rotation=90)\\nplt.show()\";\n",
       "                var nbb_cells = Jupyter.notebook.get_cells();\n",
       "                for (var i = 0; i < nbb_cells.length; ++i) {\n",
       "                    if (nbb_cells[i].input_prompt_number == nbb_cell_id) {\n",
       "                        if (nbb_cells[i].get_text() == nbb_unformatted_code) {\n",
       "                             nbb_cells[i].set_text(nbb_formatted_code);\n",
       "                        }\n",
       "                        break;\n",
       "                    }\n",
       "                }\n",
       "            }, 500);\n",
       "            "
      ],
      "text/plain": [
       "<IPython.core.display.Javascript object>"
      ]
     },
     "metadata": {},
     "output_type": "display_data"
    },
    {
     "data": {
      "application/javascript": [
       "\n",
       "            setTimeout(function() {\n",
       "                var nbb_cell_id = 97;\n",
       "                var nbb_unformatted_code = \"plt.figure(figsize=(15, 8))\\nplt.title(\\n    \\\"Boxplot showing how weight vary for phones and tablets offering large batteries\\\",\\n    fontsize=14,\\n    weight=\\\"bold\\\",\\n)\\nsns.boxplot(x=\\\"weight\\\", y=\\\"brand_name\\\", data=df_large_battery)\\nplt.xticks(rotation=90)\\nplt.show()\";\n",
       "                var nbb_formatted_code = \"plt.figure(figsize=(15, 8))\\nplt.title(\\n    \\\"Boxplot showing how weight vary for phones and tablets offering large batteries\\\",\\n    fontsize=14,\\n    weight=\\\"bold\\\",\\n)\\nsns.boxplot(x=\\\"weight\\\", y=\\\"brand_name\\\", data=df_large_battery)\\nplt.xticks(rotation=90)\\nplt.show()\";\n",
       "                var nbb_cells = Jupyter.notebook.get_cells();\n",
       "                for (var i = 0; i < nbb_cells.length; ++i) {\n",
       "                    if (nbb_cells[i].input_prompt_number == nbb_cell_id) {\n",
       "                        if (nbb_cells[i].get_text() == nbb_unformatted_code) {\n",
       "                             nbb_cells[i].set_text(nbb_formatted_code);\n",
       "                        }\n",
       "                        break;\n",
       "                    }\n",
       "                }\n",
       "            }, 500);\n",
       "            "
      ],
      "text/plain": [
       "<IPython.core.display.Javascript object>"
      ]
     },
     "metadata": {},
     "output_type": "display_data"
    }
   ],
   "source": [
    "plt.figure(figsize=(15, 8))\n",
    "plt.title(\n",
    "    \"Boxplot showing how weight vary for phones and tablets offering large batteries\",\n",
    "    fontsize=14,\n",
    "    weight=\"bold\",\n",
    ")\n",
    "sns.boxplot(x=\"weight\", y=\"brand_name\", data=df_large_battery)\n",
    "plt.xticks(rotation=90)\n",
    "plt.show()"
   ]
  },
  {
   "cell_type": "markdown",
   "metadata": {},
   "source": [
    "## 5.  Number of phones and tablets  available across different brands with a screen size larger than 6 inches"
   ]
  },
  {
   "cell_type": "code",
   "execution_count": 53,
   "metadata": {},
   "outputs": [
    {
     "data": {
      "application/javascript": [
       "\n",
       "            setTimeout(function() {\n",
       "                var nbb_cell_id = 53;\n",
       "                var nbb_unformatted_code = \"df_screen_size_above_6 = df[df[\\\"screen_size\\\"]>6]\";\n",
       "                var nbb_formatted_code = \"df_screen_size_above_6 = df[df[\\\"screen_size\\\"] > 6]\";\n",
       "                var nbb_cells = Jupyter.notebook.get_cells();\n",
       "                for (var i = 0; i < nbb_cells.length; ++i) {\n",
       "                    if (nbb_cells[i].input_prompt_number == nbb_cell_id) {\n",
       "                        if (nbb_cells[i].get_text() == nbb_unformatted_code) {\n",
       "                             nbb_cells[i].set_text(nbb_formatted_code);\n",
       "                        }\n",
       "                        break;\n",
       "                    }\n",
       "                }\n",
       "            }, 500);\n",
       "            "
      ],
      "text/plain": [
       "<IPython.core.display.Javascript object>"
      ]
     },
     "metadata": {},
     "output_type": "display_data"
    },
    {
     "data": {
      "application/javascript": [
       "\n",
       "            setTimeout(function() {\n",
       "                var nbb_cell_id = 53;\n",
       "                var nbb_unformatted_code = \"df_screen_size_above_6 = df[df[\\\"screen_size\\\"]>6]\";\n",
       "                var nbb_formatted_code = \"df_screen_size_above_6 = df[df[\\\"screen_size\\\"] > 6]\";\n",
       "                var nbb_cells = Jupyter.notebook.get_cells();\n",
       "                for (var i = 0; i < nbb_cells.length; ++i) {\n",
       "                    if (nbb_cells[i].input_prompt_number == nbb_cell_id) {\n",
       "                        if (nbb_cells[i].get_text() == nbb_unformatted_code) {\n",
       "                             nbb_cells[i].set_text(nbb_formatted_code);\n",
       "                        }\n",
       "                        break;\n",
       "                    }\n",
       "                }\n",
       "            }, 500);\n",
       "            "
      ],
      "text/plain": [
       "<IPython.core.display.Javascript object>"
      ]
     },
     "metadata": {},
     "output_type": "display_data"
    }
   ],
   "source": [
    "df_screen_size_above_6 = df[df[\"screen_size\"] > 6]"
   ]
  },
  {
   "cell_type": "code",
   "execution_count": 311,
   "metadata": {},
   "outputs": [
    {
     "data": {
      "image/png": "[encoded data removed]",
      "text/plain": [
       "<Figure size 1080x576 with 1 Axes>"
      ]
     },
     "metadata": {
      "needs_background": "light"
     },
     "output_type": "display_data"
    },
    {
     "data": {
      "application/javascript": [
       "\n",
       "            setTimeout(function() {\n",
       "                var nbb_cell_id = 311;\n",
       "                var nbb_unformatted_code = \"plt.figure(figsize=(15, 8))\\nplt.title(\\n    \\\"Countplot showing number of phones and tablets  available across different brands with a screen size larger than 6 inches\\\",\\n    fontsize=14,\\n    weight=\\\"bold\\\",\\n)\\nsns.countplot(x=\\\"brand_name\\\", data=df_screen_size_above_6)\\nplt.xticks(rotation=90)\\nplt.show()\";\n",
       "                var nbb_formatted_code = \"plt.figure(figsize=(15, 8))\\nplt.title(\\n    \\\"Countplot showing number of phones and tablets  available across different brands with a screen size larger than 6 inches\\\",\\n    fontsize=14,\\n    weight=\\\"bold\\\",\\n)\\nsns.countplot(x=\\\"brand_name\\\", data=df_screen_size_above_6)\\nplt.xticks(rotation=90)\\nplt.show()\";\n",
       "                var nbb_cells = Jupyter.notebook.get_cells();\n",
       "                for (var i = 0; i < nbb_cells.length; ++i) {\n",
       "                    if (nbb_cells[i].input_prompt_number == nbb_cell_id) {\n",
       "                        if (nbb_cells[i].get_text() == nbb_unformatted_code) {\n",
       "                             nbb_cells[i].set_text(nbb_formatted_code);\n",
       "                        }\n",
       "                        break;\n",
       "                    }\n",
       "                }\n",
       "            }, 500);\n",
       "            "
      ],
      "text/plain": [
       "<IPython.core.display.Javascript object>"
      ]
     },
     "metadata": {},
     "output_type": "display_data"
    },
    {
     "data": {
      "application/javascript": [
       "\n",
       "            setTimeout(function() {\n",
       "                var nbb_cell_id = 311;\n",
       "                var nbb_unformatted_code = \"plt.figure(figsize=(15, 8))\\nplt.title(\\n    \\\"Countplot showing number of phones and tablets  available across different brands with a screen size larger than 6 inches\\\",\\n    fontsize=14,\\n    weight=\\\"bold\\\",\\n)\\nsns.countplot(x=\\\"brand_name\\\", data=df_screen_size_above_6)\\nplt.xticks(rotation=90)\\nplt.show()\";\n",
       "                var nbb_formatted_code = \"plt.figure(figsize=(15, 8))\\nplt.title(\\n    \\\"Countplot showing number of phones and tablets  available across different brands with a screen size larger than 6 inches\\\",\\n    fontsize=14,\\n    weight=\\\"bold\\\",\\n)\\nsns.countplot(x=\\\"brand_name\\\", data=df_screen_size_above_6)\\nplt.xticks(rotation=90)\\nplt.show()\";\n",
       "                var nbb_cells = Jupyter.notebook.get_cells();\n",
       "                for (var i = 0; i < nbb_cells.length; ++i) {\n",
       "                    if (nbb_cells[i].input_prompt_number == nbb_cell_id) {\n",
       "                        if (nbb_cells[i].get_text() == nbb_unformatted_code) {\n",
       "                             nbb_cells[i].set_text(nbb_formatted_code);\n",
       "                        }\n",
       "                        break;\n",
       "                    }\n",
       "                }\n",
       "            }, 500);\n",
       "            "
      ],
      "text/plain": [
       "<IPython.core.display.Javascript object>"
      ]
     },
     "metadata": {},
     "output_type": "display_data"
    }
   ],
   "source": [
    "plt.figure(figsize=(15, 8))\n",
    "plt.title(\n",
    "    \"Countplot showing number of phones and tablets  available across different brands with a screen size larger than 6 inches\",\n",
    "    fontsize=14,\n",
    "    weight=\"bold\",\n",
    ")\n",
    "sns.countplot(x=\"brand_name\", data=df_screen_size_above_6)\n",
    "plt.xticks(rotation=90)\n",
    "plt.show()"
   ]
  },
  {
   "cell_type": "markdown",
   "metadata": {},
   "source": [
    "## 6. Distribution of devices offering greater than 8MP selfie cameras across brands"
   ]
  },
  {
   "cell_type": "code",
   "execution_count": 75,
   "metadata": {},
   "outputs": [
    {
     "data": {
      "application/javascript": [
       "\n",
       "            setTimeout(function() {\n",
       "                var nbb_cell_id = 75;\n",
       "                var nbb_unformatted_code = \"df_selfie_camera_mp_above8 = df[df[\\\"selfie_camera_mp\\\"]>8]\";\n",
       "                var nbb_formatted_code = \"df_selfie_camera_mp_above8 = df[df[\\\"selfie_camera_mp\\\"] > 8]\";\n",
       "                var nbb_cells = Jupyter.notebook.get_cells();\n",
       "                for (var i = 0; i < nbb_cells.length; ++i) {\n",
       "                    if (nbb_cells[i].input_prompt_number == nbb_cell_id) {\n",
       "                        if (nbb_cells[i].get_text() == nbb_unformatted_code) {\n",
       "                             nbb_cells[i].set_text(nbb_formatted_code);\n",
       "                        }\n",
       "                        break;\n",
       "                    }\n",
       "                }\n",
       "            }, 500);\n",
       "            "
      ],
      "text/plain": [
       "<IPython.core.display.Javascript object>"
      ]
     },
     "metadata": {},
     "output_type": "display_data"
    },
    {
     "data": {
      "application/javascript": [
       "\n",
       "            setTimeout(function() {\n",
       "                var nbb_cell_id = 75;\n",
       "                var nbb_unformatted_code = \"df_selfie_camera_mp_above8 = df[df[\\\"selfie_camera_mp\\\"]>8]\";\n",
       "                var nbb_formatted_code = \"df_selfie_camera_mp_above8 = df[df[\\\"selfie_camera_mp\\\"] > 8]\";\n",
       "                var nbb_cells = Jupyter.notebook.get_cells();\n",
       "                for (var i = 0; i < nbb_cells.length; ++i) {\n",
       "                    if (nbb_cells[i].input_prompt_number == nbb_cell_id) {\n",
       "                        if (nbb_cells[i].get_text() == nbb_unformatted_code) {\n",
       "                             nbb_cells[i].set_text(nbb_formatted_code);\n",
       "                        }\n",
       "                        break;\n",
       "                    }\n",
       "                }\n",
       "            }, 500);\n",
       "            "
      ],
      "text/plain": [
       "<IPython.core.display.Javascript object>"
      ]
     },
     "metadata": {},
     "output_type": "display_data"
    }
   ],
   "source": [
    "df_selfie_camera_mp_above8 = df[df[\"selfie_camera_mp\"] > 8]"
   ]
  },
  {
   "cell_type": "code",
   "execution_count": 89,
   "metadata": {},
   "outputs": [
    {
     "data": {
      "image/png": "[encoded data removed]",
      "text/plain": [
       "<Figure size 1080x576 with 1 Axes>"
      ]
     },
     "metadata": {
      "needs_background": "light"
     },
     "output_type": "display_data"
    },
    {
     "data": {
      "application/javascript": [
       "\n",
       "            setTimeout(function() {\n",
       "                var nbb_cell_id = 89;\n",
       "                var nbb_unformatted_code = \"plt.figure(figsize=(15, 8))\\nplt.title(\\n    \\\"Distribution of devices offering greater than 8MP selfie cameras across brands\\\",\\n    fontsize=14,\\n    weight=\\\"bold\\\",\\n)\\nsns.boxplot(x=\\\"selfie_camera_mp\\\", y=\\\"brand_name\\\", data=df_selfie_camera_mp_above8)\\nplt.show()\";\n",
       "                var nbb_formatted_code = \"plt.figure(figsize=(15, 8))\\nplt.title(\\n    \\\"Distribution of devices offering greater than 8MP selfie cameras across brands\\\",\\n    fontsize=14,\\n    weight=\\\"bold\\\",\\n)\\nsns.boxplot(x=\\\"selfie_camera_mp\\\", y=\\\"brand_name\\\", data=df_selfie_camera_mp_above8)\\nplt.show()\";\n",
       "                var nbb_cells = Jupyter.notebook.get_cells();\n",
       "                for (var i = 0; i < nbb_cells.length; ++i) {\n",
       "                    if (nbb_cells[i].input_prompt_number == nbb_cell_id) {\n",
       "                        if (nbb_cells[i].get_text() == nbb_unformatted_code) {\n",
       "                             nbb_cells[i].set_text(nbb_formatted_code);\n",
       "                        }\n",
       "                        break;\n",
       "                    }\n",
       "                }\n",
       "            }, 500);\n",
       "            "
      ],
      "text/plain": [
       "<IPython.core.display.Javascript object>"
      ]
     },
     "metadata": {},
     "output_type": "display_data"
    },
    {
     "data": {
      "application/javascript": [
       "\n",
       "            setTimeout(function() {\n",
       "                var nbb_cell_id = 89;\n",
       "                var nbb_unformatted_code = \"plt.figure(figsize=(15, 8))\\nplt.title(\\n    \\\"Distribution of devices offering greater than 8MP selfie cameras across brands\\\",\\n    fontsize=14,\\n    weight=\\\"bold\\\",\\n)\\nsns.boxplot(x=\\\"selfie_camera_mp\\\", y=\\\"brand_name\\\", data=df_selfie_camera_mp_above8)\\nplt.show()\";\n",
       "                var nbb_formatted_code = \"plt.figure(figsize=(15, 8))\\nplt.title(\\n    \\\"Distribution of devices offering greater than 8MP selfie cameras across brands\\\",\\n    fontsize=14,\\n    weight=\\\"bold\\\",\\n)\\nsns.boxplot(x=\\\"selfie_camera_mp\\\", y=\\\"brand_name\\\", data=df_selfie_camera_mp_above8)\\nplt.show()\";\n",
       "                var nbb_cells = Jupyter.notebook.get_cells();\n",
       "                for (var i = 0; i < nbb_cells.length; ++i) {\n",
       "                    if (nbb_cells[i].input_prompt_number == nbb_cell_id) {\n",
       "                        if (nbb_cells[i].get_text() == nbb_unformatted_code) {\n",
       "                             nbb_cells[i].set_text(nbb_formatted_code);\n",
       "                        }\n",
       "                        break;\n",
       "                    }\n",
       "                }\n",
       "            }, 500);\n",
       "            "
      ],
      "text/plain": [
       "<IPython.core.display.Javascript object>"
      ]
     },
     "metadata": {},
     "output_type": "display_data"
    }
   ],
   "source": [
    "plt.figure(figsize=(15, 8))\n",
    "plt.title(\n",
    "    \"Distribution of devices offering greater than 8MP selfie cameras across brands\",\n",
    "    fontsize=14,\n",
    "    weight=\"bold\",\n",
    ")\n",
    "sns.boxplot(x=\"selfie_camera_mp\", y=\"brand_name\", data=df_selfie_camera_mp_above8)\n",
    "plt.show()"
   ]
  },
  {
   "cell_type": "markdown",
   "metadata": {},
   "source": [
    "## 7. Correlation among the variables"
   ]
  },
  {
   "cell_type": "code",
   "execution_count": 78,
   "metadata": {},
   "outputs": [
    {
     "data": {
      "application/javascript": [
       "\n",
       "            setTimeout(function() {\n",
       "                var nbb_cell_id = 78;\n",
       "                var nbb_unformatted_code = \"# Create a list of the columns that are numeric\\nnumeric_cols = df.select_dtypes(include=np.number).columns.tolist()\\n\\n# Drop the release_year column since it is  not a numeric attribute\\nnumeric_cols.remove(\\\"release_year\\\")\";\n",
       "                var nbb_formatted_code = \"# Create a list of the columns that are numeric\\nnumeric_cols = df.select_dtypes(include=np.number).columns.tolist()\\n\\n# Drop the release_year column since it is  not a numeric attribute\\nnumeric_cols.remove(\\\"release_year\\\")\";\n",
       "                var nbb_cells = Jupyter.notebook.get_cells();\n",
       "                for (var i = 0; i < nbb_cells.length; ++i) {\n",
       "                    if (nbb_cells[i].input_prompt_number == nbb_cell_id) {\n",
       "                        if (nbb_cells[i].get_text() == nbb_unformatted_code) {\n",
       "                             nbb_cells[i].set_text(nbb_formatted_code);\n",
       "                        }\n",
       "                        break;\n",
       "                    }\n",
       "                }\n",
       "            }, 500);\n",
       "            "
      ],
      "text/plain": [
       "<IPython.core.display.Javascript object>"
      ]
     },
     "metadata": {},
     "output_type": "display_data"
    },
    {
     "data": {
      "application/javascript": [
       "\n",
       "            setTimeout(function() {\n",
       "                var nbb_cell_id = 78;\n",
       "                var nbb_unformatted_code = \"# Create a list of the columns that are numeric\\nnumeric_cols = df.select_dtypes(include=np.number).columns.tolist()\\n\\n# Drop the release_year column since it is  not a numeric attribute\\nnumeric_cols.remove(\\\"release_year\\\")\";\n",
       "                var nbb_formatted_code = \"# Create a list of the columns that are numeric\\nnumeric_cols = df.select_dtypes(include=np.number).columns.tolist()\\n\\n# Drop the release_year column since it is  not a numeric attribute\\nnumeric_cols.remove(\\\"release_year\\\")\";\n",
       "                var nbb_cells = Jupyter.notebook.get_cells();\n",
       "                for (var i = 0; i < nbb_cells.length; ++i) {\n",
       "                    if (nbb_cells[i].input_prompt_number == nbb_cell_id) {\n",
       "                        if (nbb_cells[i].get_text() == nbb_unformatted_code) {\n",
       "                             nbb_cells[i].set_text(nbb_formatted_code);\n",
       "                        }\n",
       "                        break;\n",
       "                    }\n",
       "                }\n",
       "            }, 500);\n",
       "            "
      ],
      "text/plain": [
       "<IPython.core.display.Javascript object>"
      ]
     },
     "metadata": {},
     "output_type": "display_data"
    }
   ],
   "source": [
    "# Create a list of the columns that are numeric\n",
    "numeric_cols = df.select_dtypes(include=np.number).columns.tolist()\n",
    "\n",
    "# Drop the release_year column since it is  not a numeric attribute\n",
    "numeric_cols.remove(\"release_year\")\n"
   ]
  },
  {
   "cell_type": "code",
   "execution_count": 119,
   "metadata": {},
   "outputs": [
    {
     "data": {
      "image/png": "[encoded data removed]",
      "text/plain": [
       "<Figure size 1080x576 with 2 Axes>"
      ]
     },
     "metadata": {
      "needs_background": "light"
     },
     "output_type": "display_data"
    },
    {
     "data": {
      "application/javascript": [
       "\n",
       "            setTimeout(function() {\n",
       "                var nbb_cell_id = 119;\n",
       "                var nbb_unformatted_code = \"plt.figure(figsize=(15, 8))\\nplt.title(\\n    \\\"Correlation among the attributes\\\", fontsize=14, weight=\\\"bold\\\",\\n)\\nsns.heatmap(\\n    df[numeric_cols].corr(), annot=True, vmin=-1, vmax=1, fmt=\\\".2f\\\", cmap=\\\"viridis\\\"\\n)\\nplt.show()\";\n",
       "                var nbb_formatted_code = \"plt.figure(figsize=(15, 8))\\nplt.title(\\n    \\\"Correlation among the attributes\\\", fontsize=14, weight=\\\"bold\\\",\\n)\\nsns.heatmap(\\n    df[numeric_cols].corr(), annot=True, vmin=-1, vmax=1, fmt=\\\".2f\\\", cmap=\\\"viridis\\\"\\n)\\nplt.show()\";\n",
       "                var nbb_cells = Jupyter.notebook.get_cells();\n",
       "                for (var i = 0; i < nbb_cells.length; ++i) {\n",
       "                    if (nbb_cells[i].input_prompt_number == nbb_cell_id) {\n",
       "                        if (nbb_cells[i].get_text() == nbb_unformatted_code) {\n",
       "                             nbb_cells[i].set_text(nbb_formatted_code);\n",
       "                        }\n",
       "                        break;\n",
       "                    }\n",
       "                }\n",
       "            }, 500);\n",
       "            "
      ],
      "text/plain": [
       "<IPython.core.display.Javascript object>"
      ]
     },
     "metadata": {},
     "output_type": "display_data"
    },
    {
     "data": {
      "application/javascript": [
       "\n",
       "            setTimeout(function() {\n",
       "                var nbb_cell_id = 119;\n",
       "                var nbb_unformatted_code = \"plt.figure(figsize=(15, 8))\\nplt.title(\\n    \\\"Correlation among the attributes\\\", fontsize=14, weight=\\\"bold\\\",\\n)\\nsns.heatmap(\\n    df[numeric_cols].corr(), annot=True, vmin=-1, vmax=1, fmt=\\\".2f\\\", cmap=\\\"viridis\\\"\\n)\\nplt.show()\";\n",
       "                var nbb_formatted_code = \"plt.figure(figsize=(15, 8))\\nplt.title(\\n    \\\"Correlation among the attributes\\\", fontsize=14, weight=\\\"bold\\\",\\n)\\nsns.heatmap(\\n    df[numeric_cols].corr(), annot=True, vmin=-1, vmax=1, fmt=\\\".2f\\\", cmap=\\\"viridis\\\"\\n)\\nplt.show()\";\n",
       "                var nbb_cells = Jupyter.notebook.get_cells();\n",
       "                for (var i = 0; i < nbb_cells.length; ++i) {\n",
       "                    if (nbb_cells[i].input_prompt_number == nbb_cell_id) {\n",
       "                        if (nbb_cells[i].get_text() == nbb_unformatted_code) {\n",
       "                             nbb_cells[i].set_text(nbb_formatted_code);\n",
       "                        }\n",
       "                        break;\n",
       "                    }\n",
       "                }\n",
       "            }, 500);\n",
       "            "
      ],
      "text/plain": [
       "<IPython.core.display.Javascript object>"
      ]
     },
     "metadata": {},
     "output_type": "display_data"
    }
   ],
   "source": [
    "plt.figure(figsize=(15, 8))\n",
    "plt.title(\n",
    "    \"Correlation among the attributes\", fontsize=14, weight=\"bold\",\n",
    ")\n",
    "sns.heatmap(\n",
    "    df[numeric_cols].corr(), annot=True, vmin=-1, vmax=1, fmt=\".2f\", cmap=\"viridis\"\n",
    ")\n",
    "plt.show()"
   ]
  },
  {
   "cell_type": "markdown",
   "metadata": {},
   "source": [
    "- There is generally a low correlation among the variables."
   ]
  },
  {
   "cell_type": "code",
   "execution_count": null,
   "metadata": {},
   "outputs": [],
   "source": []
  },
  {
   "cell_type": "markdown",
   "metadata": {
    "id": "pVn5toJ7MKte"
   },
   "source": [
    "## Data Preprocessing"
   ]
  },
  {
   "cell_type": "markdown",
   "metadata": {
    "id": "YcceZiPd5vGV"
   },
   "source": [
    "- Missing value treatment\n",
    "- Feature engineering (if needed)\n",
    "- Outlier detection and treatment (if needed)\n",
    "- Preparing data for modeling\n",
    "- Any other preprocessing steps (if needed)"
   ]
  },
  {
   "cell_type": "markdown",
   "metadata": {
    "id": "zUi6E9EUMKth"
   },
   "source": [
    "## Dealing with missing values"
   ]
  },
  {
   "cell_type": "code",
   "execution_count": 247,
   "metadata": {},
   "outputs": [
    {
     "data": {
      "application/javascript": [
       "\n",
       "            setTimeout(function() {\n",
       "                var nbb_cell_id = 247;\n",
       "                var nbb_unformatted_code = \"# Create a copy of the data to prevent making any alteration to it.\\ndf1 = df.copy()\";\n",
       "                var nbb_formatted_code = \"# Create a copy of the data to prevent making any alteration to it.\\ndf1 = df.copy()\";\n",
       "                var nbb_cells = Jupyter.notebook.get_cells();\n",
       "                for (var i = 0; i < nbb_cells.length; ++i) {\n",
       "                    if (nbb_cells[i].input_prompt_number == nbb_cell_id) {\n",
       "                        if (nbb_cells[i].get_text() == nbb_unformatted_code) {\n",
       "                             nbb_cells[i].set_text(nbb_formatted_code);\n",
       "                        }\n",
       "                        break;\n",
       "                    }\n",
       "                }\n",
       "            }, 500);\n",
       "            "
      ],
      "text/plain": [
       "<IPython.core.display.Javascript object>"
      ]
     },
     "metadata": {},
     "output_type": "display_data"
    },
    {
     "data": {
      "application/javascript": [
       "\n",
       "            setTimeout(function() {\n",
       "                var nbb_cell_id = 247;\n",
       "                var nbb_unformatted_code = \"# Create a copy of the data to prevent making any alteration to it.\\ndf1 = df.copy()\";\n",
       "                var nbb_formatted_code = \"# Create a copy of the data to prevent making any alteration to it.\\ndf1 = df.copy()\";\n",
       "                var nbb_cells = Jupyter.notebook.get_cells();\n",
       "                for (var i = 0; i < nbb_cells.length; ++i) {\n",
       "                    if (nbb_cells[i].input_prompt_number == nbb_cell_id) {\n",
       "                        if (nbb_cells[i].get_text() == nbb_unformatted_code) {\n",
       "                             nbb_cells[i].set_text(nbb_formatted_code);\n",
       "                        }\n",
       "                        break;\n",
       "                    }\n",
       "                }\n",
       "            }, 500);\n",
       "            "
      ],
      "text/plain": [
       "<IPython.core.display.Javascript object>"
      ]
     },
     "metadata": {},
     "output_type": "display_data"
    }
   ],
   "source": [
    "# Create a copy of the data to prevent making any alteration to it.\n",
    "df1 = df.copy()"
   ]
  },
  {
   "cell_type": "code",
   "execution_count": 248,
   "metadata": {},
   "outputs": [
    {
     "data": {
      "text/plain": [
       "brand_name                 0\n",
       "os                         0\n",
       "screen_size                0\n",
       "4g                         0\n",
       "5g                         0\n",
       "main_camera_mp           179\n",
       "selfie_camera_mp           2\n",
       "int_memory                 4\n",
       "ram                        4\n",
       "battery                    6\n",
       "weight                     7\n",
       "release_year               0\n",
       "days_used                  0\n",
       "normalized_used_price      0\n",
       "normalized_new_price       0\n",
       "dtype: int64"
      ]
     },
     "execution_count": 248,
     "metadata": {},
     "output_type": "execute_result"
    },
    {
     "data": {
      "application/javascript": [
       "\n",
       "            setTimeout(function() {\n",
       "                var nbb_cell_id = 248;\n",
       "                var nbb_unformatted_code = \"#Check out the columns with missing values\\ndf1.isnull().sum()\";\n",
       "                var nbb_formatted_code = \"# Check out the columns with missing values\\ndf1.isnull().sum()\";\n",
       "                var nbb_cells = Jupyter.notebook.get_cells();\n",
       "                for (var i = 0; i < nbb_cells.length; ++i) {\n",
       "                    if (nbb_cells[i].input_prompt_number == nbb_cell_id) {\n",
       "                        if (nbb_cells[i].get_text() == nbb_unformatted_code) {\n",
       "                             nbb_cells[i].set_text(nbb_formatted_code);\n",
       "                        }\n",
       "                        break;\n",
       "                    }\n",
       "                }\n",
       "            }, 500);\n",
       "            "
      ],
      "text/plain": [
       "<IPython.core.display.Javascript object>"
      ]
     },
     "metadata": {},
     "output_type": "display_data"
    },
    {
     "data": {
      "application/javascript": [
       "\n",
       "            setTimeout(function() {\n",
       "                var nbb_cell_id = 248;\n",
       "                var nbb_unformatted_code = \"#Check out the columns with missing values\\ndf1.isnull().sum()\";\n",
       "                var nbb_formatted_code = \"# Check out the columns with missing values\\ndf1.isnull().sum()\";\n",
       "                var nbb_cells = Jupyter.notebook.get_cells();\n",
       "                for (var i = 0; i < nbb_cells.length; ++i) {\n",
       "                    if (nbb_cells[i].input_prompt_number == nbb_cell_id) {\n",
       "                        if (nbb_cells[i].get_text() == nbb_unformatted_code) {\n",
       "                             nbb_cells[i].set_text(nbb_formatted_code);\n",
       "                        }\n",
       "                        break;\n",
       "                    }\n",
       "                }\n",
       "            }, 500);\n",
       "            "
      ],
      "text/plain": [
       "<IPython.core.display.Javascript object>"
      ]
     },
     "metadata": {},
     "output_type": "display_data"
    }
   ],
   "source": [
    "# Check out the columns with missing values\n",
    "df1.isnull().sum()"
   ]
  },
  {
   "cell_type": "code",
   "execution_count": 249,
   "metadata": {},
   "outputs": [
    {
     "data": {
      "application/javascript": [
       "\n",
       "            setTimeout(function() {\n",
       "                var nbb_cell_id = 249;\n",
       "                var nbb_unformatted_code = \"# Replace the missing values with the median of each affected column\\ndf1[\\\"main_camera_mp\\\"] = df1[\\\"main_camera_mp\\\"].fillna(\\n    value=df1[\\\"main_camera_mp\\\"].median()\\n)\\n\\ndf1[\\\"selfie_camera_mp\\\"] = df1[\\\"selfie_camera_mp\\\"].fillna(\\n    value=df1[\\\"selfie_camera_mp\\\"].median()\\n)\\ndf1[\\\"int_memory\\\"] = df1[\\\"int_memory\\\"].fillna(value=df1[\\\"int_memory\\\"].median())\\n\\ndf1[\\\"ram\\\"] = df1[\\\"ram\\\"].fillna(value=df1[\\\"ram\\\"].median())\\ndf1[\\\"battery\\\"] = df1[\\\"battery\\\"].fillna(value=df1[\\\"battery\\\"].median())\\n\\ndf1[\\\"weight\\\"] = df1[\\\"weight\\\"].fillna(value=df1[\\\"weight\\\"].median())\";\n",
       "                var nbb_formatted_code = \"# Replace the missing values with the median of each affected column\\ndf1[\\\"main_camera_mp\\\"] = df1[\\\"main_camera_mp\\\"].fillna(\\n    value=df1[\\\"main_camera_mp\\\"].median()\\n)\\n\\ndf1[\\\"selfie_camera_mp\\\"] = df1[\\\"selfie_camera_mp\\\"].fillna(\\n    value=df1[\\\"selfie_camera_mp\\\"].median()\\n)\\ndf1[\\\"int_memory\\\"] = df1[\\\"int_memory\\\"].fillna(value=df1[\\\"int_memory\\\"].median())\\n\\ndf1[\\\"ram\\\"] = df1[\\\"ram\\\"].fillna(value=df1[\\\"ram\\\"].median())\\ndf1[\\\"battery\\\"] = df1[\\\"battery\\\"].fillna(value=df1[\\\"battery\\\"].median())\\n\\ndf1[\\\"weight\\\"] = df1[\\\"weight\\\"].fillna(value=df1[\\\"weight\\\"].median())\";\n",
       "                var nbb_cells = Jupyter.notebook.get_cells();\n",
       "                for (var i = 0; i < nbb_cells.length; ++i) {\n",
       "                    if (nbb_cells[i].input_prompt_number == nbb_cell_id) {\n",
       "                        if (nbb_cells[i].get_text() == nbb_unformatted_code) {\n",
       "                             nbb_cells[i].set_text(nbb_formatted_code);\n",
       "                        }\n",
       "                        break;\n",
       "                    }\n",
       "                }\n",
       "            }, 500);\n",
       "            "
      ],
      "text/plain": [
       "<IPython.core.display.Javascript object>"
      ]
     },
     "metadata": {},
     "output_type": "display_data"
    },
    {
     "data": {
      "application/javascript": [
       "\n",
       "            setTimeout(function() {\n",
       "                var nbb_cell_id = 249;\n",
       "                var nbb_unformatted_code = \"# Replace the missing values with the median of each affected column\\ndf1[\\\"main_camera_mp\\\"] = df1[\\\"main_camera_mp\\\"].fillna(\\n    value=df1[\\\"main_camera_mp\\\"].median()\\n)\\n\\ndf1[\\\"selfie_camera_mp\\\"] = df1[\\\"selfie_camera_mp\\\"].fillna(\\n    value=df1[\\\"selfie_camera_mp\\\"].median()\\n)\\ndf1[\\\"int_memory\\\"] = df1[\\\"int_memory\\\"].fillna(value=df1[\\\"int_memory\\\"].median())\\n\\ndf1[\\\"ram\\\"] = df1[\\\"ram\\\"].fillna(value=df1[\\\"ram\\\"].median())\\ndf1[\\\"battery\\\"] = df1[\\\"battery\\\"].fillna(value=df1[\\\"battery\\\"].median())\\n\\ndf1[\\\"weight\\\"] = df1[\\\"weight\\\"].fillna(value=df1[\\\"weight\\\"].median())\";\n",
       "                var nbb_formatted_code = \"# Replace the missing values with the median of each affected column\\ndf1[\\\"main_camera_mp\\\"] = df1[\\\"main_camera_mp\\\"].fillna(\\n    value=df1[\\\"main_camera_mp\\\"].median()\\n)\\n\\ndf1[\\\"selfie_camera_mp\\\"] = df1[\\\"selfie_camera_mp\\\"].fillna(\\n    value=df1[\\\"selfie_camera_mp\\\"].median()\\n)\\ndf1[\\\"int_memory\\\"] = df1[\\\"int_memory\\\"].fillna(value=df1[\\\"int_memory\\\"].median())\\n\\ndf1[\\\"ram\\\"] = df1[\\\"ram\\\"].fillna(value=df1[\\\"ram\\\"].median())\\ndf1[\\\"battery\\\"] = df1[\\\"battery\\\"].fillna(value=df1[\\\"battery\\\"].median())\\n\\ndf1[\\\"weight\\\"] = df1[\\\"weight\\\"].fillna(value=df1[\\\"weight\\\"].median())\";\n",
       "                var nbb_cells = Jupyter.notebook.get_cells();\n",
       "                for (var i = 0; i < nbb_cells.length; ++i) {\n",
       "                    if (nbb_cells[i].input_prompt_number == nbb_cell_id) {\n",
       "                        if (nbb_cells[i].get_text() == nbb_unformatted_code) {\n",
       "                             nbb_cells[i].set_text(nbb_formatted_code);\n",
       "                        }\n",
       "                        break;\n",
       "                    }\n",
       "                }\n",
       "            }, 500);\n",
       "            "
      ],
      "text/plain": [
       "<IPython.core.display.Javascript object>"
      ]
     },
     "metadata": {},
     "output_type": "display_data"
    }
   ],
   "source": [
    "# Replace the missing values with the median of each affected column\n",
    "df1[\"main_camera_mp\"] = df1[\"main_camera_mp\"].fillna(\n",
    "    value=df1[\"main_camera_mp\"].median()\n",
    ")\n",
    "\n",
    "df1[\"selfie_camera_mp\"] = df1[\"selfie_camera_mp\"].fillna(\n",
    "    value=df1[\"selfie_camera_mp\"].median()\n",
    ")\n",
    "df1[\"int_memory\"] = df1[\"int_memory\"].fillna(value=df1[\"int_memory\"].median())\n",
    "\n",
    "df1[\"ram\"] = df1[\"ram\"].fillna(value=df1[\"ram\"].median())\n",
    "df1[\"battery\"] = df1[\"battery\"].fillna(value=df1[\"battery\"].median())\n",
    "\n",
    "df1[\"weight\"] = df1[\"weight\"].fillna(value=df1[\"weight\"].median())"
   ]
  },
  {
   "cell_type": "code",
   "execution_count": 250,
   "metadata": {},
   "outputs": [
    {
     "data": {
      "text/plain": [
       "brand_name               0\n",
       "os                       0\n",
       "screen_size              0\n",
       "4g                       0\n",
       "5g                       0\n",
       "main_camera_mp           0\n",
       "selfie_camera_mp         0\n",
       "int_memory               0\n",
       "ram                      0\n",
       "battery                  0\n",
       "weight                   0\n",
       "release_year             0\n",
       "days_used                0\n",
       "normalized_used_price    0\n",
       "normalized_new_price     0\n",
       "dtype: int64"
      ]
     },
     "execution_count": 250,
     "metadata": {},
     "output_type": "execute_result"
    },
    {
     "data": {
      "application/javascript": [
       "\n",
       "            setTimeout(function() {\n",
       "                var nbb_cell_id = 250;\n",
       "                var nbb_unformatted_code = \"df1.isnull().sum()\";\n",
       "                var nbb_formatted_code = \"df1.isnull().sum()\";\n",
       "                var nbb_cells = Jupyter.notebook.get_cells();\n",
       "                for (var i = 0; i < nbb_cells.length; ++i) {\n",
       "                    if (nbb_cells[i].input_prompt_number == nbb_cell_id) {\n",
       "                        if (nbb_cells[i].get_text() == nbb_unformatted_code) {\n",
       "                             nbb_cells[i].set_text(nbb_formatted_code);\n",
       "                        }\n",
       "                        break;\n",
       "                    }\n",
       "                }\n",
       "            }, 500);\n",
       "            "
      ],
      "text/plain": [
       "<IPython.core.display.Javascript object>"
      ]
     },
     "metadata": {},
     "output_type": "display_data"
    },
    {
     "data": {
      "application/javascript": [
       "\n",
       "            setTimeout(function() {\n",
       "                var nbb_cell_id = 250;\n",
       "                var nbb_unformatted_code = \"df1.isnull().sum()\";\n",
       "                var nbb_formatted_code = \"df1.isnull().sum()\";\n",
       "                var nbb_cells = Jupyter.notebook.get_cells();\n",
       "                for (var i = 0; i < nbb_cells.length; ++i) {\n",
       "                    if (nbb_cells[i].input_prompt_number == nbb_cell_id) {\n",
       "                        if (nbb_cells[i].get_text() == nbb_unformatted_code) {\n",
       "                             nbb_cells[i].set_text(nbb_formatted_code);\n",
       "                        }\n",
       "                        break;\n",
       "                    }\n",
       "                }\n",
       "            }, 500);\n",
       "            "
      ],
      "text/plain": [
       "<IPython.core.display.Javascript object>"
      ]
     },
     "metadata": {},
     "output_type": "display_data"
    }
   ],
   "source": [
    "df1.isnull().sum()"
   ]
  },
  {
   "cell_type": "raw",
   "metadata": {},
   "source": [
    "* There are no more missing values."
   ]
  },
  {
   "cell_type": "raw",
   "metadata": {},
   "source": [
    "* There is no need for feature engineering, since no new feature is being created. "
   ]
  },
  {
   "cell_type": "markdown",
   "metadata": {},
   "source": [
    "## Outlier Detection"
   ]
  },
  {
   "cell_type": "code",
   "execution_count": 251,
   "metadata": {},
   "outputs": [
    {
     "data": {
      "image/png": "[encoded data removed]",
      "text/plain": [
       "<Figure size 1080x576 with 10 Axes>"
      ]
     },
     "metadata": {
      "needs_background": "light"
     },
     "output_type": "display_data"
    },
    {
     "data": {
      "application/javascript": [
       "\n",
       "            setTimeout(function() {\n",
       "                var nbb_cell_id = 251;\n",
       "                var nbb_unformatted_code = \"# outlier detection using boxplot\\nnumeric_cols = df1.select_dtypes(include=np.number).columns.tolist()\\n\\n# Drop the release_year column since it is  not a numeric attribute\\nnumeric_cols.remove(\\\"release_year\\\")\\n\\nplt.figure(figsize=(15, 8))\\n\\nfor i, variable in enumerate(numeric_cols):\\n    plt.subplot(2, 5, i + 1)\\n    sns.boxplot(data=df1, x=variable, color=\\\"green\\\")\\n    plt.tight_layout(pad=2)\\n\\nplt.show()\";\n",
       "                var nbb_formatted_code = \"# outlier detection using boxplot\\nnumeric_cols = df1.select_dtypes(include=np.number).columns.tolist()\\n\\n# Drop the release_year column since it is  not a numeric attribute\\nnumeric_cols.remove(\\\"release_year\\\")\\n\\nplt.figure(figsize=(15, 8))\\n\\nfor i, variable in enumerate(numeric_cols):\\n    plt.subplot(2, 5, i + 1)\\n    sns.boxplot(data=df1, x=variable, color=\\\"green\\\")\\n    plt.tight_layout(pad=2)\\n\\nplt.show()\";\n",
       "                var nbb_cells = Jupyter.notebook.get_cells();\n",
       "                for (var i = 0; i < nbb_cells.length; ++i) {\n",
       "                    if (nbb_cells[i].input_prompt_number == nbb_cell_id) {\n",
       "                        if (nbb_cells[i].get_text() == nbb_unformatted_code) {\n",
       "                             nbb_cells[i].set_text(nbb_formatted_code);\n",
       "                        }\n",
       "                        break;\n",
       "                    }\n",
       "                }\n",
       "            }, 500);\n",
       "            "
      ],
      "text/plain": [
       "<IPython.core.display.Javascript object>"
      ]
     },
     "metadata": {},
     "output_type": "display_data"
    },
    {
     "data": {
      "application/javascript": [
       "\n",
       "            setTimeout(function() {\n",
       "                var nbb_cell_id = 251;\n",
       "                var nbb_unformatted_code = \"# outlier detection using boxplot\\nnumeric_cols = df1.select_dtypes(include=np.number).columns.tolist()\\n\\n# Drop the release_year column since it is  not a numeric attribute\\nnumeric_cols.remove(\\\"release_year\\\")\\n\\nplt.figure(figsize=(15, 8))\\n\\nfor i, variable in enumerate(numeric_cols):\\n    plt.subplot(2, 5, i + 1)\\n    sns.boxplot(data=df1, x=variable, color=\\\"green\\\")\\n    plt.tight_layout(pad=2)\\n\\nplt.show()\";\n",
       "                var nbb_formatted_code = \"# outlier detection using boxplot\\nnumeric_cols = df1.select_dtypes(include=np.number).columns.tolist()\\n\\n# Drop the release_year column since it is  not a numeric attribute\\nnumeric_cols.remove(\\\"release_year\\\")\\n\\nplt.figure(figsize=(15, 8))\\n\\nfor i, variable in enumerate(numeric_cols):\\n    plt.subplot(2, 5, i + 1)\\n    sns.boxplot(data=df1, x=variable, color=\\\"green\\\")\\n    plt.tight_layout(pad=2)\\n\\nplt.show()\";\n",
       "                var nbb_cells = Jupyter.notebook.get_cells();\n",
       "                for (var i = 0; i < nbb_cells.length; ++i) {\n",
       "                    if (nbb_cells[i].input_prompt_number == nbb_cell_id) {\n",
       "                        if (nbb_cells[i].get_text() == nbb_unformatted_code) {\n",
       "                             nbb_cells[i].set_text(nbb_formatted_code);\n",
       "                        }\n",
       "                        break;\n",
       "                    }\n",
       "                }\n",
       "            }, 500);\n",
       "            "
      ],
      "text/plain": [
       "<IPython.core.display.Javascript object>"
      ]
     },
     "metadata": {},
     "output_type": "display_data"
    }
   ],
   "source": [
    "# outlier detection using boxplot\n",
    "numeric_cols = df1.select_dtypes(include=np.number).columns.tolist()\n",
    "\n",
    "# Drop the release_year column since it is  not a numeric attribute\n",
    "numeric_cols.remove(\"release_year\")\n",
    "\n",
    "plt.figure(figsize=(15, 8))\n",
    "\n",
    "for i, variable in enumerate(numeric_cols):\n",
    "    plt.subplot(2, 5, i + 1)\n",
    "    sns.boxplot(data=df1, x=variable, color=\"green\")\n",
    "    plt.tight_layout(pad=2)\n",
    "\n",
    "plt.show()"
   ]
  },
  {
   "cell_type": "markdown",
   "metadata": {},
   "source": [
    "* The data points lying below the lower bound and above the upper bound.\n",
    "* Outliers are present in many of the olumns of this data.\n",
    "* It is observed that 'days_used' does not have an outier.\n",
    "* Outliers will not be treated for 'screen_size', 'battery' and 'weight'. This is because the values are expected to vary widely betweeen phones and tablets. For instance, the screen size of a tablet is expectedly bigger than that of a phone."
   ]
  },
  {
   "cell_type": "markdown",
   "metadata": {},
   "source": [
    "## Treat the Outliers using interquartile range (IQR) method "
   ]
  },
  {
   "cell_type": "markdown",
   "metadata": {},
   "source": [
    "### Using the IQR method, the data points that are outliers are removed from the following columns:\n",
    "- main_camera_mp\n",
    "- selfie_camera_mp\n",
    "- int_memory\n",
    "- normalized_used_price\n",
    "- normalized_new_price"
   ]
  },
  {
   "cell_type": "markdown",
   "metadata": {},
   "source": [
    "- First, we find the lower and upper bounds, then replace the values that fall outside these bounds with null values.\n",
    "- This is done for each affected column using for loop."
   ]
  },
  {
   "cell_type": "code",
   "execution_count": 252,
   "metadata": {},
   "outputs": [
    {
     "data": {
      "application/javascript": [
       "\n",
       "            setTimeout(function() {\n",
       "                var nbb_cell_id = 252;\n",
       "                var nbb_unformatted_code = \"for x in [\\\"main_camera_mp\\\"]:\\n    q75, q25 = np.percentile(df1.loc[:, x], [75, 25])\\n    iqr = q75 - q25\\n    max = q75 + (1.5 * iqr)\\n    min = q25 - (1.5 * iqr)\\n    df1.loc[df1[x] < min, x] = np.nan\\n    df1.loc[df1[x] > max, x] = np.nan\";\n",
       "                var nbb_formatted_code = \"for x in [\\\"main_camera_mp\\\"]:\\n    q75, q25 = np.percentile(df1.loc[:, x], [75, 25])\\n    iqr = q75 - q25\\n    max = q75 + (1.5 * iqr)\\n    min = q25 - (1.5 * iqr)\\n    df1.loc[df1[x] < min, x] = np.nan\\n    df1.loc[df1[x] > max, x] = np.nan\";\n",
       "                var nbb_cells = Jupyter.notebook.get_cells();\n",
       "                for (var i = 0; i < nbb_cells.length; ++i) {\n",
       "                    if (nbb_cells[i].input_prompt_number == nbb_cell_id) {\n",
       "                        if (nbb_cells[i].get_text() == nbb_unformatted_code) {\n",
       "                             nbb_cells[i].set_text(nbb_formatted_code);\n",
       "                        }\n",
       "                        break;\n",
       "                    }\n",
       "                }\n",
       "            }, 500);\n",
       "            "
      ],
      "text/plain": [
       "<IPython.core.display.Javascript object>"
      ]
     },
     "metadata": {},
     "output_type": "display_data"
    },
    {
     "data": {
      "application/javascript": [
       "\n",
       "            setTimeout(function() {\n",
       "                var nbb_cell_id = 252;\n",
       "                var nbb_unformatted_code = \"for x in [\\\"main_camera_mp\\\"]:\\n    q75, q25 = np.percentile(df1.loc[:, x], [75, 25])\\n    iqr = q75 - q25\\n    max = q75 + (1.5 * iqr)\\n    min = q25 - (1.5 * iqr)\\n    df1.loc[df1[x] < min, x] = np.nan\\n    df1.loc[df1[x] > max, x] = np.nan\";\n",
       "                var nbb_formatted_code = \"for x in [\\\"main_camera_mp\\\"]:\\n    q75, q25 = np.percentile(df1.loc[:, x], [75, 25])\\n    iqr = q75 - q25\\n    max = q75 + (1.5 * iqr)\\n    min = q25 - (1.5 * iqr)\\n    df1.loc[df1[x] < min, x] = np.nan\\n    df1.loc[df1[x] > max, x] = np.nan\";\n",
       "                var nbb_cells = Jupyter.notebook.get_cells();\n",
       "                for (var i = 0; i < nbb_cells.length; ++i) {\n",
       "                    if (nbb_cells[i].input_prompt_number == nbb_cell_id) {\n",
       "                        if (nbb_cells[i].get_text() == nbb_unformatted_code) {\n",
       "                             nbb_cells[i].set_text(nbb_formatted_code);\n",
       "                        }\n",
       "                        break;\n",
       "                    }\n",
       "                }\n",
       "            }, 500);\n",
       "            "
      ],
      "text/plain": [
       "<IPython.core.display.Javascript object>"
      ]
     },
     "metadata": {},
     "output_type": "display_data"
    }
   ],
   "source": [
    "for x in [\"main_camera_mp\"]:\n",
    "    q75, q25 = np.percentile(df1.loc[:, x], [75, 25])\n",
    "    iqr = q75 - q25\n",
    "    max = q75 + (1.5 * iqr)\n",
    "    min = q25 - (1.5 * iqr)\n",
    "    df1.loc[df1[x] < min, x] = np.nan\n",
    "    df1.loc[df1[x] > max, x] = np.nan"
   ]
  },
  {
   "cell_type": "code",
   "execution_count": 254,
   "metadata": {},
   "outputs": [
    {
     "data": {
      "application/javascript": [
       "\n",
       "            setTimeout(function() {\n",
       "                var nbb_cell_id = 254;\n",
       "                var nbb_unformatted_code = \"for x in [\\\"selfie_camera_mp\\\"]:\\n    q75, q25 = np.percentile(df1.loc[:, x], [75, 25])\\n    iqr = q75 - q25\\n    max = q75 + (1.5 * iqr)\\n    min = q25 - (1.5 * iqr)\\n    df1.loc[df1[x] < min, x] = np.nan\\n    df1.loc[df1[x] > max, x] = np.nan\";\n",
       "                var nbb_formatted_code = \"for x in [\\\"selfie_camera_mp\\\"]:\\n    q75, q25 = np.percentile(df1.loc[:, x], [75, 25])\\n    iqr = q75 - q25\\n    max = q75 + (1.5 * iqr)\\n    min = q25 - (1.5 * iqr)\\n    df1.loc[df1[x] < min, x] = np.nan\\n    df1.loc[df1[x] > max, x] = np.nan\";\n",
       "                var nbb_cells = Jupyter.notebook.get_cells();\n",
       "                for (var i = 0; i < nbb_cells.length; ++i) {\n",
       "                    if (nbb_cells[i].input_prompt_number == nbb_cell_id) {\n",
       "                        if (nbb_cells[i].get_text() == nbb_unformatted_code) {\n",
       "                             nbb_cells[i].set_text(nbb_formatted_code);\n",
       "                        }\n",
       "                        break;\n",
       "                    }\n",
       "                }\n",
       "            }, 500);\n",
       "            "
      ],
      "text/plain": [
       "<IPython.core.display.Javascript object>"
      ]
     },
     "metadata": {},
     "output_type": "display_data"
    },
    {
     "data": {
      "application/javascript": [
       "\n",
       "            setTimeout(function() {\n",
       "                var nbb_cell_id = 254;\n",
       "                var nbb_unformatted_code = \"for x in [\\\"selfie_camera_mp\\\"]:\\n    q75, q25 = np.percentile(df1.loc[:, x], [75, 25])\\n    iqr = q75 - q25\\n    max = q75 + (1.5 * iqr)\\n    min = q25 - (1.5 * iqr)\\n    df1.loc[df1[x] < min, x] = np.nan\\n    df1.loc[df1[x] > max, x] = np.nan\";\n",
       "                var nbb_formatted_code = \"for x in [\\\"selfie_camera_mp\\\"]:\\n    q75, q25 = np.percentile(df1.loc[:, x], [75, 25])\\n    iqr = q75 - q25\\n    max = q75 + (1.5 * iqr)\\n    min = q25 - (1.5 * iqr)\\n    df1.loc[df1[x] < min, x] = np.nan\\n    df1.loc[df1[x] > max, x] = np.nan\";\n",
       "                var nbb_cells = Jupyter.notebook.get_cells();\n",
       "                for (var i = 0; i < nbb_cells.length; ++i) {\n",
       "                    if (nbb_cells[i].input_prompt_number == nbb_cell_id) {\n",
       "                        if (nbb_cells[i].get_text() == nbb_unformatted_code) {\n",
       "                             nbb_cells[i].set_text(nbb_formatted_code);\n",
       "                        }\n",
       "                        break;\n",
       "                    }\n",
       "                }\n",
       "            }, 500);\n",
       "            "
      ],
      "text/plain": [
       "<IPython.core.display.Javascript object>"
      ]
     },
     "metadata": {},
     "output_type": "display_data"
    }
   ],
   "source": [
    "for x in [\"selfie_camera_mp\"]:\n",
    "    q75, q25 = np.percentile(df1.loc[:, x], [75, 25])\n",
    "    iqr = q75 - q25\n",
    "    max = q75 + (1.5 * iqr)\n",
    "    min = q25 - (1.5 * iqr)\n",
    "    df1.loc[df1[x] < min, x] = np.nan\n",
    "    df1.loc[df1[x] > max, x] = np.nan"
   ]
  },
  {
   "cell_type": "code",
   "execution_count": 255,
   "metadata": {},
   "outputs": [
    {
     "data": {
      "application/javascript": [
       "\n",
       "            setTimeout(function() {\n",
       "                var nbb_cell_id = 255;\n",
       "                var nbb_unformatted_code = \"for x in [\\\"int_memory\\\"]:\\n    q75, q25 = np.percentile(df1.loc[:, x], [75, 25])\\n    iqr = q75 - q25\\n    max = q75 + (1.5 * iqr)\\n    min = q25 - (1.5 * iqr)\\n    df1.loc[df1[x] < min, x] = np.nan\\n    df1.loc[df1[x] > max, x] = np.nan\";\n",
       "                var nbb_formatted_code = \"for x in [\\\"int_memory\\\"]:\\n    q75, q25 = np.percentile(df1.loc[:, x], [75, 25])\\n    iqr = q75 - q25\\n    max = q75 + (1.5 * iqr)\\n    min = q25 - (1.5 * iqr)\\n    df1.loc[df1[x] < min, x] = np.nan\\n    df1.loc[df1[x] > max, x] = np.nan\";\n",
       "                var nbb_cells = Jupyter.notebook.get_cells();\n",
       "                for (var i = 0; i < nbb_cells.length; ++i) {\n",
       "                    if (nbb_cells[i].input_prompt_number == nbb_cell_id) {\n",
       "                        if (nbb_cells[i].get_text() == nbb_unformatted_code) {\n",
       "                             nbb_cells[i].set_text(nbb_formatted_code);\n",
       "                        }\n",
       "                        break;\n",
       "                    }\n",
       "                }\n",
       "            }, 500);\n",
       "            "
      ],
      "text/plain": [
       "<IPython.core.display.Javascript object>"
      ]
     },
     "metadata": {},
     "output_type": "display_data"
    },
    {
     "data": {
      "application/javascript": [
       "\n",
       "            setTimeout(function() {\n",
       "                var nbb_cell_id = 255;\n",
       "                var nbb_unformatted_code = \"for x in [\\\"int_memory\\\"]:\\n    q75, q25 = np.percentile(df1.loc[:, x], [75, 25])\\n    iqr = q75 - q25\\n    max = q75 + (1.5 * iqr)\\n    min = q25 - (1.5 * iqr)\\n    df1.loc[df1[x] < min, x] = np.nan\\n    df1.loc[df1[x] > max, x] = np.nan\";\n",
       "                var nbb_formatted_code = \"for x in [\\\"int_memory\\\"]:\\n    q75, q25 = np.percentile(df1.loc[:, x], [75, 25])\\n    iqr = q75 - q25\\n    max = q75 + (1.5 * iqr)\\n    min = q25 - (1.5 * iqr)\\n    df1.loc[df1[x] < min, x] = np.nan\\n    df1.loc[df1[x] > max, x] = np.nan\";\n",
       "                var nbb_cells = Jupyter.notebook.get_cells();\n",
       "                for (var i = 0; i < nbb_cells.length; ++i) {\n",
       "                    if (nbb_cells[i].input_prompt_number == nbb_cell_id) {\n",
       "                        if (nbb_cells[i].get_text() == nbb_unformatted_code) {\n",
       "                             nbb_cells[i].set_text(nbb_formatted_code);\n",
       "                        }\n",
       "                        break;\n",
       "                    }\n",
       "                }\n",
       "            }, 500);\n",
       "            "
      ],
      "text/plain": [
       "<IPython.core.display.Javascript object>"
      ]
     },
     "metadata": {},
     "output_type": "display_data"
    }
   ],
   "source": [
    "for x in [\"int_memory\"]:\n",
    "    q75, q25 = np.percentile(df1.loc[:, x], [75, 25])\n",
    "    iqr = q75 - q25\n",
    "    max = q75 + (1.5 * iqr)\n",
    "    min = q25 - (1.5 * iqr)\n",
    "    df1.loc[df1[x] < min, x] = np.nan\n",
    "    df1.loc[df1[x] > max, x] = np.nan"
   ]
  },
  {
   "cell_type": "code",
   "execution_count": 256,
   "metadata": {},
   "outputs": [
    {
     "data": {
      "application/javascript": [
       "\n",
       "            setTimeout(function() {\n",
       "                var nbb_cell_id = 256;\n",
       "                var nbb_unformatted_code = \"for x in [\\\"normalized_used_price\\\"]:\\n    q75, q25 = np.percentile(df1.loc[:, x], [75, 25])\\n    iqr = q75 - q25\\n    max = q75 + (1.5 * iqr)\\n    min = q25 - (1.5 * iqr)\\n    df1.loc[df1[x] < min, x] = np.nan\\n    df1.loc[df1[x] > max, x] = np.nan\";\n",
       "                var nbb_formatted_code = \"for x in [\\\"normalized_used_price\\\"]:\\n    q75, q25 = np.percentile(df1.loc[:, x], [75, 25])\\n    iqr = q75 - q25\\n    max = q75 + (1.5 * iqr)\\n    min = q25 - (1.5 * iqr)\\n    df1.loc[df1[x] < min, x] = np.nan\\n    df1.loc[df1[x] > max, x] = np.nan\";\n",
       "                var nbb_cells = Jupyter.notebook.get_cells();\n",
       "                for (var i = 0; i < nbb_cells.length; ++i) {\n",
       "                    if (nbb_cells[i].input_prompt_number == nbb_cell_id) {\n",
       "                        if (nbb_cells[i].get_text() == nbb_unformatted_code) {\n",
       "                             nbb_cells[i].set_text(nbb_formatted_code);\n",
       "                        }\n",
       "                        break;\n",
       "                    }\n",
       "                }\n",
       "            }, 500);\n",
       "            "
      ],
      "text/plain": [
       "<IPython.core.display.Javascript object>"
      ]
     },
     "metadata": {},
     "output_type": "display_data"
    },
    {
     "data": {
      "application/javascript": [
       "\n",
       "            setTimeout(function() {\n",
       "                var nbb_cell_id = 256;\n",
       "                var nbb_unformatted_code = \"for x in [\\\"normalized_used_price\\\"]:\\n    q75, q25 = np.percentile(df1.loc[:, x], [75, 25])\\n    iqr = q75 - q25\\n    max = q75 + (1.5 * iqr)\\n    min = q25 - (1.5 * iqr)\\n    df1.loc[df1[x] < min, x] = np.nan\\n    df1.loc[df1[x] > max, x] = np.nan\";\n",
       "                var nbb_formatted_code = \"for x in [\\\"normalized_used_price\\\"]:\\n    q75, q25 = np.percentile(df1.loc[:, x], [75, 25])\\n    iqr = q75 - q25\\n    max = q75 + (1.5 * iqr)\\n    min = q25 - (1.5 * iqr)\\n    df1.loc[df1[x] < min, x] = np.nan\\n    df1.loc[df1[x] > max, x] = np.nan\";\n",
       "                var nbb_cells = Jupyter.notebook.get_cells();\n",
       "                for (var i = 0; i < nbb_cells.length; ++i) {\n",
       "                    if (nbb_cells[i].input_prompt_number == nbb_cell_id) {\n",
       "                        if (nbb_cells[i].get_text() == nbb_unformatted_code) {\n",
       "                             nbb_cells[i].set_text(nbb_formatted_code);\n",
       "                        }\n",
       "                        break;\n",
       "                    }\n",
       "                }\n",
       "            }, 500);\n",
       "            "
      ],
      "text/plain": [
       "<IPython.core.display.Javascript object>"
      ]
     },
     "metadata": {},
     "output_type": "display_data"
    }
   ],
   "source": [
    "for x in [\"normalized_used_price\"]:\n",
    "    q75, q25 = np.percentile(df1.loc[:, x], [75, 25])\n",
    "    iqr = q75 - q25\n",
    "    max = q75 + (1.5 * iqr)\n",
    "    min = q25 - (1.5 * iqr)\n",
    "    df1.loc[df1[x] < min, x] = np.nan\n",
    "    df1.loc[df1[x] > max, x] = np.nan"
   ]
  },
  {
   "cell_type": "code",
   "execution_count": 257,
   "metadata": {},
   "outputs": [
    {
     "data": {
      "application/javascript": [
       "\n",
       "            setTimeout(function() {\n",
       "                var nbb_cell_id = 257;\n",
       "                var nbb_unformatted_code = \"for x in [\\\"normalized_new_price\\\"]:\\n    q75, q25 = np.percentile(df1.loc[:, x], [75, 25])\\n    iqr = q75 - q25\\n    max = q75 + (1.5 * iqr)\\n    min = q25 - (1.5 * iqr)\\n    df1.loc[df1[x] < min, x] = np.nan\\n    df1.loc[df1[x] > max, x] = np.nan\";\n",
       "                var nbb_formatted_code = \"for x in [\\\"normalized_new_price\\\"]:\\n    q75, q25 = np.percentile(df1.loc[:, x], [75, 25])\\n    iqr = q75 - q25\\n    max = q75 + (1.5 * iqr)\\n    min = q25 - (1.5 * iqr)\\n    df1.loc[df1[x] < min, x] = np.nan\\n    df1.loc[df1[x] > max, x] = np.nan\";\n",
       "                var nbb_cells = Jupyter.notebook.get_cells();\n",
       "                for (var i = 0; i < nbb_cells.length; ++i) {\n",
       "                    if (nbb_cells[i].input_prompt_number == nbb_cell_id) {\n",
       "                        if (nbb_cells[i].get_text() == nbb_unformatted_code) {\n",
       "                             nbb_cells[i].set_text(nbb_formatted_code);\n",
       "                        }\n",
       "                        break;\n",
       "                    }\n",
       "                }\n",
       "            }, 500);\n",
       "            "
      ],
      "text/plain": [
       "<IPython.core.display.Javascript object>"
      ]
     },
     "metadata": {},
     "output_type": "display_data"
    },
    {
     "data": {
      "application/javascript": [
       "\n",
       "            setTimeout(function() {\n",
       "                var nbb_cell_id = 257;\n",
       "                var nbb_unformatted_code = \"for x in [\\\"normalized_new_price\\\"]:\\n    q75, q25 = np.percentile(df1.loc[:, x], [75, 25])\\n    iqr = q75 - q25\\n    max = q75 + (1.5 * iqr)\\n    min = q25 - (1.5 * iqr)\\n    df1.loc[df1[x] < min, x] = np.nan\\n    df1.loc[df1[x] > max, x] = np.nan\";\n",
       "                var nbb_formatted_code = \"for x in [\\\"normalized_new_price\\\"]:\\n    q75, q25 = np.percentile(df1.loc[:, x], [75, 25])\\n    iqr = q75 - q25\\n    max = q75 + (1.5 * iqr)\\n    min = q25 - (1.5 * iqr)\\n    df1.loc[df1[x] < min, x] = np.nan\\n    df1.loc[df1[x] > max, x] = np.nan\";\n",
       "                var nbb_cells = Jupyter.notebook.get_cells();\n",
       "                for (var i = 0; i < nbb_cells.length; ++i) {\n",
       "                    if (nbb_cells[i].input_prompt_number == nbb_cell_id) {\n",
       "                        if (nbb_cells[i].get_text() == nbb_unformatted_code) {\n",
       "                             nbb_cells[i].set_text(nbb_formatted_code);\n",
       "                        }\n",
       "                        break;\n",
       "                    }\n",
       "                }\n",
       "            }, 500);\n",
       "            "
      ],
      "text/plain": [
       "<IPython.core.display.Javascript object>"
      ]
     },
     "metadata": {},
     "output_type": "display_data"
    }
   ],
   "source": [
    "for x in [\"normalized_new_price\"]:\n",
    "    q75, q25 = np.percentile(df1.loc[:, x], [75, 25])\n",
    "    iqr = q75 - q25\n",
    "    max = q75 + (1.5 * iqr)\n",
    "    min = q25 - (1.5 * iqr)\n",
    "    df1.loc[df1[x] < min, x] = np.nan\n",
    "    df1.loc[df1[x] > max, x] = np.nan"
   ]
  },
  {
   "cell_type": "code",
   "execution_count": 258,
   "metadata": {},
   "outputs": [
    {
     "data": {
      "text/plain": [
       "brand_name                 0\n",
       "os                         0\n",
       "screen_size                0\n",
       "4g                         0\n",
       "5g                         0\n",
       "main_camera_mp             5\n",
       "selfie_camera_mp         221\n",
       "int_memory               138\n",
       "ram                        0\n",
       "battery                    0\n",
       "weight                     0\n",
       "release_year               0\n",
       "days_used                  0\n",
       "normalized_used_price     85\n",
       "normalized_new_price      66\n",
       "dtype: int64"
      ]
     },
     "execution_count": 258,
     "metadata": {},
     "output_type": "execute_result"
    },
    {
     "data": {
      "application/javascript": [
       "\n",
       "            setTimeout(function() {\n",
       "                var nbb_cell_id = 258;\n",
       "                var nbb_unformatted_code = \"# Now check the missing values in each column\\ndf1.isnull().sum()\";\n",
       "                var nbb_formatted_code = \"# Now check the missing values in each column\\ndf1.isnull().sum()\";\n",
       "                var nbb_cells = Jupyter.notebook.get_cells();\n",
       "                for (var i = 0; i < nbb_cells.length; ++i) {\n",
       "                    if (nbb_cells[i].input_prompt_number == nbb_cell_id) {\n",
       "                        if (nbb_cells[i].get_text() == nbb_unformatted_code) {\n",
       "                             nbb_cells[i].set_text(nbb_formatted_code);\n",
       "                        }\n",
       "                        break;\n",
       "                    }\n",
       "                }\n",
       "            }, 500);\n",
       "            "
      ],
      "text/plain": [
       "<IPython.core.display.Javascript object>"
      ]
     },
     "metadata": {},
     "output_type": "display_data"
    },
    {
     "data": {
      "application/javascript": [
       "\n",
       "            setTimeout(function() {\n",
       "                var nbb_cell_id = 258;\n",
       "                var nbb_unformatted_code = \"# Now check the missing values in each column\\ndf1.isnull().sum()\";\n",
       "                var nbb_formatted_code = \"# Now check the missing values in each column\\ndf1.isnull().sum()\";\n",
       "                var nbb_cells = Jupyter.notebook.get_cells();\n",
       "                for (var i = 0; i < nbb_cells.length; ++i) {\n",
       "                    if (nbb_cells[i].input_prompt_number == nbb_cell_id) {\n",
       "                        if (nbb_cells[i].get_text() == nbb_unformatted_code) {\n",
       "                             nbb_cells[i].set_text(nbb_formatted_code);\n",
       "                        }\n",
       "                        break;\n",
       "                    }\n",
       "                }\n",
       "            }, 500);\n",
       "            "
      ],
      "text/plain": [
       "<IPython.core.display.Javascript object>"
      ]
     },
     "metadata": {},
     "output_type": "display_data"
    }
   ],
   "source": [
    "# Now check the missing values in each column\n",
    "df1.isnull().sum()"
   ]
  },
  {
   "cell_type": "code",
   "execution_count": 259,
   "metadata": {},
   "outputs": [
    {
     "data": {
      "text/plain": [
       "(3454, 15)"
      ]
     },
     "execution_count": 259,
     "metadata": {},
     "output_type": "execute_result"
    },
    {
     "data": {
      "application/javascript": [
       "\n",
       "            setTimeout(function() {\n",
       "                var nbb_cell_id = 259;\n",
       "                var nbb_unformatted_code = \"#Check to see no row is deleted in the process of removing outliers\\ndf1.shape\";\n",
       "                var nbb_formatted_code = \"# Check to see no row is deleted in the process of removing outliers\\ndf1.shape\";\n",
       "                var nbb_cells = Jupyter.notebook.get_cells();\n",
       "                for (var i = 0; i < nbb_cells.length; ++i) {\n",
       "                    if (nbb_cells[i].input_prompt_number == nbb_cell_id) {\n",
       "                        if (nbb_cells[i].get_text() == nbb_unformatted_code) {\n",
       "                             nbb_cells[i].set_text(nbb_formatted_code);\n",
       "                        }\n",
       "                        break;\n",
       "                    }\n",
       "                }\n",
       "            }, 500);\n",
       "            "
      ],
      "text/plain": [
       "<IPython.core.display.Javascript object>"
      ]
     },
     "metadata": {},
     "output_type": "display_data"
    },
    {
     "data": {
      "application/javascript": [
       "\n",
       "            setTimeout(function() {\n",
       "                var nbb_cell_id = 259;\n",
       "                var nbb_unformatted_code = \"#Check to see no row is deleted in the process of removing outliers\\ndf1.shape\";\n",
       "                var nbb_formatted_code = \"# Check to see no row is deleted in the process of removing outliers\\ndf1.shape\";\n",
       "                var nbb_cells = Jupyter.notebook.get_cells();\n",
       "                for (var i = 0; i < nbb_cells.length; ++i) {\n",
       "                    if (nbb_cells[i].input_prompt_number == nbb_cell_id) {\n",
       "                        if (nbb_cells[i].get_text() == nbb_unformatted_code) {\n",
       "                             nbb_cells[i].set_text(nbb_formatted_code);\n",
       "                        }\n",
       "                        break;\n",
       "                    }\n",
       "                }\n",
       "            }, 500);\n",
       "            "
      ],
      "text/plain": [
       "<IPython.core.display.Javascript object>"
      ]
     },
     "metadata": {},
     "output_type": "display_data"
    }
   ],
   "source": [
    "# Check to see no row is deleted in the process of removing outliers\n",
    "df1.shape"
   ]
  },
  {
   "cell_type": "markdown",
   "metadata": {},
   "source": [
    "### The removed data points are imputed with the median of ecah afftected column"
   ]
  },
  {
   "cell_type": "code",
   "execution_count": 260,
   "metadata": {},
   "outputs": [
    {
     "data": {
      "application/javascript": [
       "\n",
       "            setTimeout(function() {\n",
       "                var nbb_cell_id = 260;\n",
       "                var nbb_unformatted_code = \"# Replace the missing values with the median of each affected column\\ndf1[\\\"main_camera_mp\\\"] = df1[\\\"main_camera_mp\\\"].fillna(\\n    value=df1[\\\"main_camera_mp\\\"].median()\\n)\\n\\ndf1[\\\"selfie_camera_mp\\\"] = df1[\\\"selfie_camera_mp\\\"].fillna(\\n    value=df1[\\\"selfie_camera_mp\\\"].median()\\n)\\ndf1[\\\"int_memory\\\"] = df1[\\\"int_memory\\\"].fillna(value=df1[\\\"int_memory\\\"].median())\\n\\n#df1[\\\"ram\\\"] = df1[\\\"ram\\\"].fillna(value=df1[\\\"ram\\\"].median())\\n\\ndf1[\\\"normalized_used_price\\\"] = df1[\\\"normalized_used_price\\\"].fillna(value=df1[\\\"normalized_used_price\\\"].median())\\n\\ndf1[\\\"normalized_new_price\\\"] = df1[\\\"normalized_new_price\\\"].fillna(value=df1[\\\"normalized_new_price\\\"].median())\";\n",
       "                var nbb_formatted_code = \"# Replace the missing values with the median of each affected column\\ndf1[\\\"main_camera_mp\\\"] = df1[\\\"main_camera_mp\\\"].fillna(\\n    value=df1[\\\"main_camera_mp\\\"].median()\\n)\\n\\ndf1[\\\"selfie_camera_mp\\\"] = df1[\\\"selfie_camera_mp\\\"].fillna(\\n    value=df1[\\\"selfie_camera_mp\\\"].median()\\n)\\ndf1[\\\"int_memory\\\"] = df1[\\\"int_memory\\\"].fillna(value=df1[\\\"int_memory\\\"].median())\\n\\n# df1[\\\"ram\\\"] = df1[\\\"ram\\\"].fillna(value=df1[\\\"ram\\\"].median())\\n\\ndf1[\\\"normalized_used_price\\\"] = df1[\\\"normalized_used_price\\\"].fillna(\\n    value=df1[\\\"normalized_used_price\\\"].median()\\n)\\n\\ndf1[\\\"normalized_new_price\\\"] = df1[\\\"normalized_new_price\\\"].fillna(\\n    value=df1[\\\"normalized_new_price\\\"].median()\\n)\";\n",
       "                var nbb_cells = Jupyter.notebook.get_cells();\n",
       "                for (var i = 0; i < nbb_cells.length; ++i) {\n",
       "                    if (nbb_cells[i].input_prompt_number == nbb_cell_id) {\n",
       "                        if (nbb_cells[i].get_text() == nbb_unformatted_code) {\n",
       "                             nbb_cells[i].set_text(nbb_formatted_code);\n",
       "                        }\n",
       "                        break;\n",
       "                    }\n",
       "                }\n",
       "            }, 500);\n",
       "            "
      ],
      "text/plain": [
       "<IPython.core.display.Javascript object>"
      ]
     },
     "metadata": {},
     "output_type": "display_data"
    },
    {
     "data": {
      "application/javascript": [
       "\n",
       "            setTimeout(function() {\n",
       "                var nbb_cell_id = 260;\n",
       "                var nbb_unformatted_code = \"# Replace the missing values with the median of each affected column\\ndf1[\\\"main_camera_mp\\\"] = df1[\\\"main_camera_mp\\\"].fillna(\\n    value=df1[\\\"main_camera_mp\\\"].median()\\n)\\n\\ndf1[\\\"selfie_camera_mp\\\"] = df1[\\\"selfie_camera_mp\\\"].fillna(\\n    value=df1[\\\"selfie_camera_mp\\\"].median()\\n)\\ndf1[\\\"int_memory\\\"] = df1[\\\"int_memory\\\"].fillna(value=df1[\\\"int_memory\\\"].median())\\n\\n#df1[\\\"ram\\\"] = df1[\\\"ram\\\"].fillna(value=df1[\\\"ram\\\"].median())\\n\\ndf1[\\\"normalized_used_price\\\"] = df1[\\\"normalized_used_price\\\"].fillna(value=df1[\\\"normalized_used_price\\\"].median())\\n\\ndf1[\\\"normalized_new_price\\\"] = df1[\\\"normalized_new_price\\\"].fillna(value=df1[\\\"normalized_new_price\\\"].median())\";\n",
       "                var nbb_formatted_code = \"# Replace the missing values with the median of each affected column\\ndf1[\\\"main_camera_mp\\\"] = df1[\\\"main_camera_mp\\\"].fillna(\\n    value=df1[\\\"main_camera_mp\\\"].median()\\n)\\n\\ndf1[\\\"selfie_camera_mp\\\"] = df1[\\\"selfie_camera_mp\\\"].fillna(\\n    value=df1[\\\"selfie_camera_mp\\\"].median()\\n)\\ndf1[\\\"int_memory\\\"] = df1[\\\"int_memory\\\"].fillna(value=df1[\\\"int_memory\\\"].median())\\n\\n# df1[\\\"ram\\\"] = df1[\\\"ram\\\"].fillna(value=df1[\\\"ram\\\"].median())\\n\\ndf1[\\\"normalized_used_price\\\"] = df1[\\\"normalized_used_price\\\"].fillna(\\n    value=df1[\\\"normalized_used_price\\\"].median()\\n)\\n\\ndf1[\\\"normalized_new_price\\\"] = df1[\\\"normalized_new_price\\\"].fillna(\\n    value=df1[\\\"normalized_new_price\\\"].median()\\n)\";\n",
       "                var nbb_cells = Jupyter.notebook.get_cells();\n",
       "                for (var i = 0; i < nbb_cells.length; ++i) {\n",
       "                    if (nbb_cells[i].input_prompt_number == nbb_cell_id) {\n",
       "                        if (nbb_cells[i].get_text() == nbb_unformatted_code) {\n",
       "                             nbb_cells[i].set_text(nbb_formatted_code);\n",
       "                        }\n",
       "                        break;\n",
       "                    }\n",
       "                }\n",
       "            }, 500);\n",
       "            "
      ],
      "text/plain": [
       "<IPython.core.display.Javascript object>"
      ]
     },
     "metadata": {},
     "output_type": "display_data"
    }
   ],
   "source": [
    "# Replace the missing values with the median of each affected column\n",
    "df1[\"main_camera_mp\"] = df1[\"main_camera_mp\"].fillna(\n",
    "    value=df1[\"main_camera_mp\"].median()\n",
    ")\n",
    "\n",
    "df1[\"selfie_camera_mp\"] = df1[\"selfie_camera_mp\"].fillna(\n",
    "    value=df1[\"selfie_camera_mp\"].median()\n",
    ")\n",
    "df1[\"int_memory\"] = df1[\"int_memory\"].fillna(value=df1[\"int_memory\"].median())\n",
    "\n",
    "df1[\"normalized_used_price\"] = df1[\"normalized_used_price\"].fillna(value=df1[\"normalized_used_price\"].median())\n",
    "\n",
    "df1[\"normalized_new_price\"] = df1[\"normalized_new_price\"].fillna(value=df1[\"normalized_new_price\"].median())\n"
   ]
  },
  {
   "cell_type": "code",
   "execution_count": 261,
   "metadata": {},
   "outputs": [
    {
     "data": {
      "text/plain": [
       "brand_name               0\n",
       "os                       0\n",
       "screen_size              0\n",
       "4g                       0\n",
       "5g                       0\n",
       "main_camera_mp           0\n",
       "selfie_camera_mp         0\n",
       "int_memory               0\n",
       "ram                      0\n",
       "battery                  0\n",
       "weight                   0\n",
       "release_year             0\n",
       "days_used                0\n",
       "normalized_used_price    0\n",
       "normalized_new_price     0\n",
       "dtype: int64"
      ]
     },
     "execution_count": 261,
     "metadata": {},
     "output_type": "execute_result"
    },
    {
     "data": {
      "application/javascript": [
       "\n",
       "            setTimeout(function() {\n",
       "                var nbb_cell_id = 261;\n",
       "                var nbb_unformatted_code = \"# Now check the missing values in each column after the imputation\\ndf1.isnull().sum()\";\n",
       "                var nbb_formatted_code = \"# Now check the missing values in each column after the imputation\\ndf1.isnull().sum()\";\n",
       "                var nbb_cells = Jupyter.notebook.get_cells();\n",
       "                for (var i = 0; i < nbb_cells.length; ++i) {\n",
       "                    if (nbb_cells[i].input_prompt_number == nbb_cell_id) {\n",
       "                        if (nbb_cells[i].get_text() == nbb_unformatted_code) {\n",
       "                             nbb_cells[i].set_text(nbb_formatted_code);\n",
       "                        }\n",
       "                        break;\n",
       "                    }\n",
       "                }\n",
       "            }, 500);\n",
       "            "
      ],
      "text/plain": [
       "<IPython.core.display.Javascript object>"
      ]
     },
     "metadata": {},
     "output_type": "display_data"
    },
    {
     "data": {
      "application/javascript": [
       "\n",
       "            setTimeout(function() {\n",
       "                var nbb_cell_id = 261;\n",
       "                var nbb_unformatted_code = \"# Now check the missing values in each column after the imputation\\ndf1.isnull().sum()\";\n",
       "                var nbb_formatted_code = \"# Now check the missing values in each column after the imputation\\ndf1.isnull().sum()\";\n",
       "                var nbb_cells = Jupyter.notebook.get_cells();\n",
       "                for (var i = 0; i < nbb_cells.length; ++i) {\n",
       "                    if (nbb_cells[i].input_prompt_number == nbb_cell_id) {\n",
       "                        if (nbb_cells[i].get_text() == nbb_unformatted_code) {\n",
       "                             nbb_cells[i].set_text(nbb_formatted_code);\n",
       "                        }\n",
       "                        break;\n",
       "                    }\n",
       "                }\n",
       "            }, 500);\n",
       "            "
      ],
      "text/plain": [
       "<IPython.core.display.Javascript object>"
      ]
     },
     "metadata": {},
     "output_type": "display_data"
    }
   ],
   "source": [
    "# Now check the missing values in each column after the imputation\n",
    "df1.isnull().sum()"
   ]
  },
  {
   "cell_type": "markdown",
   "metadata": {},
   "source": [
    "* The missing values have been replaced with the median values of their respective columns"
   ]
  },
  {
   "cell_type": "code",
   "execution_count": 262,
   "metadata": {},
   "outputs": [
    {
     "data": {
      "text/html": [
       "<div>\n",
       "<style scoped>\n",
       "    .dataframe tbody tr th:only-of-type {\n",
       "        vertical-align: middle;\n",
       "    }\n",
       "\n",
       "    .dataframe tbody tr th {\n",
       "        vertical-align: top;\n",
       "    }\n",
       "\n",
       "    .dataframe thead th {\n",
       "        text-align: right;\n",
       "    }\n",
       "</style>\n",
       "<table border=\"1\" class=\"dataframe\">\n",
       "  <thead>\n",
       "    <tr style=\"text-align: right;\">\n",
       "      <th></th>\n",
       "      <th>brand_name</th>\n",
       "      <th>os</th>\n",
       "      <th>screen_size</th>\n",
       "      <th>4g</th>\n",
       "      <th>5g</th>\n",
       "      <th>main_camera_mp</th>\n",
       "      <th>selfie_camera_mp</th>\n",
       "      <th>int_memory</th>\n",
       "      <th>ram</th>\n",
       "      <th>battery</th>\n",
       "      <th>weight</th>\n",
       "      <th>release_year</th>\n",
       "      <th>days_used</th>\n",
       "      <th>normalized_used_price</th>\n",
       "      <th>normalized_new_price</th>\n",
       "    </tr>\n",
       "  </thead>\n",
       "  <tbody>\n",
       "    <tr>\n",
       "      <th>0</th>\n",
       "      <td>Honor</td>\n",
       "      <td>Android</td>\n",
       "      <td>14.50</td>\n",
       "      <td>yes</td>\n",
       "      <td>no</td>\n",
       "      <td>13.0</td>\n",
       "      <td>5.0</td>\n",
       "      <td>64.0</td>\n",
       "      <td>3.0</td>\n",
       "      <td>3020.0</td>\n",
       "      <td>146.0</td>\n",
       "      <td>2020</td>\n",
       "      <td>127</td>\n",
       "      <td>4.307572</td>\n",
       "      <td>4.715100</td>\n",
       "    </tr>\n",
       "    <tr>\n",
       "      <th>1</th>\n",
       "      <td>Honor</td>\n",
       "      <td>Android</td>\n",
       "      <td>17.30</td>\n",
       "      <td>yes</td>\n",
       "      <td>yes</td>\n",
       "      <td>13.0</td>\n",
       "      <td>16.0</td>\n",
       "      <td>128.0</td>\n",
       "      <td>8.0</td>\n",
       "      <td>4300.0</td>\n",
       "      <td>213.0</td>\n",
       "      <td>2020</td>\n",
       "      <td>325</td>\n",
       "      <td>5.162097</td>\n",
       "      <td>5.519018</td>\n",
       "    </tr>\n",
       "    <tr>\n",
       "      <th>2</th>\n",
       "      <td>Honor</td>\n",
       "      <td>Android</td>\n",
       "      <td>16.69</td>\n",
       "      <td>yes</td>\n",
       "      <td>yes</td>\n",
       "      <td>13.0</td>\n",
       "      <td>8.0</td>\n",
       "      <td>128.0</td>\n",
       "      <td>8.0</td>\n",
       "      <td>4200.0</td>\n",
       "      <td>213.0</td>\n",
       "      <td>2020</td>\n",
       "      <td>162</td>\n",
       "      <td>5.111084</td>\n",
       "      <td>5.884631</td>\n",
       "    </tr>\n",
       "    <tr>\n",
       "      <th>3</th>\n",
       "      <td>Honor</td>\n",
       "      <td>Android</td>\n",
       "      <td>25.50</td>\n",
       "      <td>yes</td>\n",
       "      <td>yes</td>\n",
       "      <td>13.0</td>\n",
       "      <td>8.0</td>\n",
       "      <td>64.0</td>\n",
       "      <td>6.0</td>\n",
       "      <td>7250.0</td>\n",
       "      <td>480.0</td>\n",
       "      <td>2020</td>\n",
       "      <td>345</td>\n",
       "      <td>5.135387</td>\n",
       "      <td>5.630961</td>\n",
       "    </tr>\n",
       "    <tr>\n",
       "      <th>4</th>\n",
       "      <td>Honor</td>\n",
       "      <td>Android</td>\n",
       "      <td>15.32</td>\n",
       "      <td>yes</td>\n",
       "      <td>no</td>\n",
       "      <td>13.0</td>\n",
       "      <td>8.0</td>\n",
       "      <td>64.0</td>\n",
       "      <td>3.0</td>\n",
       "      <td>5000.0</td>\n",
       "      <td>185.0</td>\n",
       "      <td>2020</td>\n",
       "      <td>293</td>\n",
       "      <td>4.389995</td>\n",
       "      <td>4.947837</td>\n",
       "    </tr>\n",
       "  </tbody>\n",
       "</table>\n",
       "</div>"
      ],
      "text/plain": [
       "  brand_name       os  screen_size   4g   5g  main_camera_mp  \\\n",
       "0      Honor  Android        14.50  yes   no            13.0   \n",
       "1      Honor  Android        17.30  yes  yes            13.0   \n",
       "2      Honor  Android        16.69  yes  yes            13.0   \n",
       "3      Honor  Android        25.50  yes  yes            13.0   \n",
       "4      Honor  Android        15.32  yes   no            13.0   \n",
       "\n",
       "   selfie_camera_mp  int_memory  ram  battery  weight  release_year  \\\n",
       "0               5.0        64.0  3.0   3020.0   146.0          2020   \n",
       "1              16.0       128.0  8.0   4300.0   213.0          2020   \n",
       "2               8.0       128.0  8.0   4200.0   213.0          2020   \n",
       "3               8.0        64.0  6.0   7250.0   480.0          2020   \n",
       "4               8.0        64.0  3.0   5000.0   185.0          2020   \n",
       "\n",
       "   days_used  normalized_used_price  normalized_new_price  \n",
       "0        127               4.307572              4.715100  \n",
       "1        325               5.162097              5.519018  \n",
       "2        162               5.111084              5.884631  \n",
       "3        345               5.135387              5.630961  \n",
       "4        293               4.389995              4.947837  "
      ]
     },
     "execution_count": 262,
     "metadata": {},
     "output_type": "execute_result"
    },
    {
     "data": {
      "application/javascript": [
       "\n",
       "            setTimeout(function() {\n",
       "                var nbb_cell_id = 262;\n",
       "                var nbb_unformatted_code = \"# Check the first few rows of the data\\ndf1.head()\";\n",
       "                var nbb_formatted_code = \"# Check the first few rows of the data\\ndf1.head()\";\n",
       "                var nbb_cells = Jupyter.notebook.get_cells();\n",
       "                for (var i = 0; i < nbb_cells.length; ++i) {\n",
       "                    if (nbb_cells[i].input_prompt_number == nbb_cell_id) {\n",
       "                        if (nbb_cells[i].get_text() == nbb_unformatted_code) {\n",
       "                             nbb_cells[i].set_text(nbb_formatted_code);\n",
       "                        }\n",
       "                        break;\n",
       "                    }\n",
       "                }\n",
       "            }, 500);\n",
       "            "
      ],
      "text/plain": [
       "<IPython.core.display.Javascript object>"
      ]
     },
     "metadata": {},
     "output_type": "display_data"
    },
    {
     "data": {
      "application/javascript": [
       "\n",
       "            setTimeout(function() {\n",
       "                var nbb_cell_id = 262;\n",
       "                var nbb_unformatted_code = \"# Check the first few rows of the data\\ndf1.head()\";\n",
       "                var nbb_formatted_code = \"# Check the first few rows of the data\\ndf1.head()\";\n",
       "                var nbb_cells = Jupyter.notebook.get_cells();\n",
       "                for (var i = 0; i < nbb_cells.length; ++i) {\n",
       "                    if (nbb_cells[i].input_prompt_number == nbb_cell_id) {\n",
       "                        if (nbb_cells[i].get_text() == nbb_unformatted_code) {\n",
       "                             nbb_cells[i].set_text(nbb_formatted_code);\n",
       "                        }\n",
       "                        break;\n",
       "                    }\n",
       "                }\n",
       "            }, 500);\n",
       "            "
      ],
      "text/plain": [
       "<IPython.core.display.Javascript object>"
      ]
     },
     "metadata": {},
     "output_type": "display_data"
    }
   ],
   "source": [
    "# Check the first few rows of the data\n",
    "df1.head()"
   ]
  },
  {
   "cell_type": "code",
   "execution_count": 263,
   "metadata": {},
   "outputs": [
    {
     "data": {
      "text/html": [
       "<div>\n",
       "<style scoped>\n",
       "    .dataframe tbody tr th:only-of-type {\n",
       "        vertical-align: middle;\n",
       "    }\n",
       "\n",
       "    .dataframe tbody tr th {\n",
       "        vertical-align: top;\n",
       "    }\n",
       "\n",
       "    .dataframe thead th {\n",
       "        text-align: right;\n",
       "    }\n",
       "</style>\n",
       "<table border=\"1\" class=\"dataframe\">\n",
       "  <thead>\n",
       "    <tr style=\"text-align: right;\">\n",
       "      <th></th>\n",
       "      <th>brand_name</th>\n",
       "      <th>os</th>\n",
       "      <th>screen_size</th>\n",
       "      <th>4g</th>\n",
       "      <th>5g</th>\n",
       "      <th>main_camera_mp</th>\n",
       "      <th>selfie_camera_mp</th>\n",
       "      <th>int_memory</th>\n",
       "      <th>ram</th>\n",
       "      <th>battery</th>\n",
       "      <th>weight</th>\n",
       "      <th>release_year</th>\n",
       "      <th>days_used</th>\n",
       "      <th>normalized_used_price</th>\n",
       "      <th>normalized_new_price</th>\n",
       "    </tr>\n",
       "  </thead>\n",
       "  <tbody>\n",
       "    <tr>\n",
       "      <th>0</th>\n",
       "      <td>Honor</td>\n",
       "      <td>Android</td>\n",
       "      <td>14.50</td>\n",
       "      <td>yes</td>\n",
       "      <td>no</td>\n",
       "      <td>13.0</td>\n",
       "      <td>5.0</td>\n",
       "      <td>64.0</td>\n",
       "      <td>3.0</td>\n",
       "      <td>3020.0</td>\n",
       "      <td>146.0</td>\n",
       "      <td>2020</td>\n",
       "      <td>127</td>\n",
       "      <td>4.307572</td>\n",
       "      <td>4.715100</td>\n",
       "    </tr>\n",
       "    <tr>\n",
       "      <th>1</th>\n",
       "      <td>Honor</td>\n",
       "      <td>Android</td>\n",
       "      <td>17.30</td>\n",
       "      <td>yes</td>\n",
       "      <td>yes</td>\n",
       "      <td>13.0</td>\n",
       "      <td>16.0</td>\n",
       "      <td>128.0</td>\n",
       "      <td>8.0</td>\n",
       "      <td>4300.0</td>\n",
       "      <td>213.0</td>\n",
       "      <td>2020</td>\n",
       "      <td>325</td>\n",
       "      <td>5.162097</td>\n",
       "      <td>5.519018</td>\n",
       "    </tr>\n",
       "    <tr>\n",
       "      <th>2</th>\n",
       "      <td>Honor</td>\n",
       "      <td>Android</td>\n",
       "      <td>16.69</td>\n",
       "      <td>yes</td>\n",
       "      <td>yes</td>\n",
       "      <td>13.0</td>\n",
       "      <td>8.0</td>\n",
       "      <td>128.0</td>\n",
       "      <td>8.0</td>\n",
       "      <td>4200.0</td>\n",
       "      <td>213.0</td>\n",
       "      <td>2020</td>\n",
       "      <td>162</td>\n",
       "      <td>5.111084</td>\n",
       "      <td>5.884631</td>\n",
       "    </tr>\n",
       "    <tr>\n",
       "      <th>3</th>\n",
       "      <td>Honor</td>\n",
       "      <td>Android</td>\n",
       "      <td>25.50</td>\n",
       "      <td>yes</td>\n",
       "      <td>yes</td>\n",
       "      <td>13.0</td>\n",
       "      <td>8.0</td>\n",
       "      <td>64.0</td>\n",
       "      <td>6.0</td>\n",
       "      <td>7250.0</td>\n",
       "      <td>480.0</td>\n",
       "      <td>2020</td>\n",
       "      <td>345</td>\n",
       "      <td>5.135387</td>\n",
       "      <td>5.630961</td>\n",
       "    </tr>\n",
       "    <tr>\n",
       "      <th>4</th>\n",
       "      <td>Honor</td>\n",
       "      <td>Android</td>\n",
       "      <td>15.32</td>\n",
       "      <td>yes</td>\n",
       "      <td>no</td>\n",
       "      <td>13.0</td>\n",
       "      <td>8.0</td>\n",
       "      <td>64.0</td>\n",
       "      <td>3.0</td>\n",
       "      <td>5000.0</td>\n",
       "      <td>185.0</td>\n",
       "      <td>2020</td>\n",
       "      <td>293</td>\n",
       "      <td>4.389995</td>\n",
       "      <td>4.947837</td>\n",
       "    </tr>\n",
       "  </tbody>\n",
       "</table>\n",
       "</div>"
      ],
      "text/plain": [
       "  brand_name       os  screen_size   4g   5g  main_camera_mp  \\\n",
       "0      Honor  Android        14.50  yes   no            13.0   \n",
       "1      Honor  Android        17.30  yes  yes            13.0   \n",
       "2      Honor  Android        16.69  yes  yes            13.0   \n",
       "3      Honor  Android        25.50  yes  yes            13.0   \n",
       "4      Honor  Android        15.32  yes   no            13.0   \n",
       "\n",
       "   selfie_camera_mp  int_memory  ram  battery  weight  release_year  \\\n",
       "0               5.0        64.0  3.0   3020.0   146.0          2020   \n",
       "1              16.0       128.0  8.0   4300.0   213.0          2020   \n",
       "2               8.0       128.0  8.0   4200.0   213.0          2020   \n",
       "3               8.0        64.0  6.0   7250.0   480.0          2020   \n",
       "4               8.0        64.0  3.0   5000.0   185.0          2020   \n",
       "\n",
       "   days_used  normalized_used_price  normalized_new_price  \n",
       "0        127               4.307572              4.715100  \n",
       "1        325               5.162097              5.519018  \n",
       "2        162               5.111084              5.884631  \n",
       "3        345               5.135387              5.630961  \n",
       "4        293               4.389995              4.947837  "
      ]
     },
     "execution_count": 263,
     "metadata": {},
     "output_type": "execute_result"
    },
    {
     "data": {
      "application/javascript": [
       "\n",
       "            setTimeout(function() {\n",
       "                var nbb_cell_id = 263;\n",
       "                var nbb_unformatted_code = \"# Check the last few rows of the data\\ndf1.head()\";\n",
       "                var nbb_formatted_code = \"# Check the last few rows of the data\\ndf1.head()\";\n",
       "                var nbb_cells = Jupyter.notebook.get_cells();\n",
       "                for (var i = 0; i < nbb_cells.length; ++i) {\n",
       "                    if (nbb_cells[i].input_prompt_number == nbb_cell_id) {\n",
       "                        if (nbb_cells[i].get_text() == nbb_unformatted_code) {\n",
       "                             nbb_cells[i].set_text(nbb_formatted_code);\n",
       "                        }\n",
       "                        break;\n",
       "                    }\n",
       "                }\n",
       "            }, 500);\n",
       "            "
      ],
      "text/plain": [
       "<IPython.core.display.Javascript object>"
      ]
     },
     "metadata": {},
     "output_type": "display_data"
    },
    {
     "data": {
      "application/javascript": [
       "\n",
       "            setTimeout(function() {\n",
       "                var nbb_cell_id = 263;\n",
       "                var nbb_unformatted_code = \"# Check the last few rows of the data\\ndf1.head()\";\n",
       "                var nbb_formatted_code = \"# Check the last few rows of the data\\ndf1.head()\";\n",
       "                var nbb_cells = Jupyter.notebook.get_cells();\n",
       "                for (var i = 0; i < nbb_cells.length; ++i) {\n",
       "                    if (nbb_cells[i].input_prompt_number == nbb_cell_id) {\n",
       "                        if (nbb_cells[i].get_text() == nbb_unformatted_code) {\n",
       "                             nbb_cells[i].set_text(nbb_formatted_code);\n",
       "                        }\n",
       "                        break;\n",
       "                    }\n",
       "                }\n",
       "            }, 500);\n",
       "            "
      ],
      "text/plain": [
       "<IPython.core.display.Javascript object>"
      ]
     },
     "metadata": {},
     "output_type": "display_data"
    }
   ],
   "source": [
    "# Check the last few rows of the data\n",
    "df1.head()"
   ]
  },
  {
   "cell_type": "markdown",
   "metadata": {},
   "source": [
    "## Get information about the data, including data types of the columns"
   ]
  },
  {
   "cell_type": "code",
   "execution_count": 264,
   "metadata": {},
   "outputs": [
    {
     "name": "stdout",
     "output_type": "stream",
     "text": [
      "<class 'pandas.core.frame.DataFrame'>\n",
      "RangeIndex: 3454 entries, 0 to 3453\n",
      "Data columns (total 15 columns):\n",
      " #   Column                 Non-Null Count  Dtype  \n",
      "---  ------                 --------------  -----  \n",
      " 0   brand_name             3454 non-null   object \n",
      " 1   os                     3454 non-null   object \n",
      " 2   screen_size            3454 non-null   float64\n",
      " 3   4g                     3454 non-null   object \n",
      " 4   5g                     3454 non-null   object \n",
      " 5   main_camera_mp         3454 non-null   float64\n",
      " 6   selfie_camera_mp       3454 non-null   float64\n",
      " 7   int_memory             3454 non-null   float64\n",
      " 8   ram                    3454 non-null   float64\n",
      " 9   battery                3454 non-null   float64\n",
      " 10  weight                 3454 non-null   float64\n",
      " 11  release_year           3454 non-null   int64  \n",
      " 12  days_used              3454 non-null   int64  \n",
      " 13  normalized_used_price  3454 non-null   float64\n",
      " 14  normalized_new_price   3454 non-null   float64\n",
      "dtypes: float64(9), int64(2), object(4)\n",
      "memory usage: 404.9+ KB\n"
     ]
    },
    {
     "data": {
      "application/javascript": [
       "\n",
       "            setTimeout(function() {\n",
       "                var nbb_cell_id = 264;\n",
       "                var nbb_unformatted_code = \"\\ndf1.info()\";\n",
       "                var nbb_formatted_code = \"df1.info()\";\n",
       "                var nbb_cells = Jupyter.notebook.get_cells();\n",
       "                for (var i = 0; i < nbb_cells.length; ++i) {\n",
       "                    if (nbb_cells[i].input_prompt_number == nbb_cell_id) {\n",
       "                        if (nbb_cells[i].get_text() == nbb_unformatted_code) {\n",
       "                             nbb_cells[i].set_text(nbb_formatted_code);\n",
       "                        }\n",
       "                        break;\n",
       "                    }\n",
       "                }\n",
       "            }, 500);\n",
       "            "
      ],
      "text/plain": [
       "<IPython.core.display.Javascript object>"
      ]
     },
     "metadata": {},
     "output_type": "display_data"
    },
    {
     "data": {
      "application/javascript": [
       "\n",
       "            setTimeout(function() {\n",
       "                var nbb_cell_id = 264;\n",
       "                var nbb_unformatted_code = \"\\ndf1.info()\";\n",
       "                var nbb_formatted_code = \"df1.info()\";\n",
       "                var nbb_cells = Jupyter.notebook.get_cells();\n",
       "                for (var i = 0; i < nbb_cells.length; ++i) {\n",
       "                    if (nbb_cells[i].input_prompt_number == nbb_cell_id) {\n",
       "                        if (nbb_cells[i].get_text() == nbb_unformatted_code) {\n",
       "                             nbb_cells[i].set_text(nbb_formatted_code);\n",
       "                        }\n",
       "                        break;\n",
       "                    }\n",
       "                }\n",
       "            }, 500);\n",
       "            "
      ],
      "text/plain": [
       "<IPython.core.display.Javascript object>"
      ]
     },
     "metadata": {},
     "output_type": "display_data"
    }
   ],
   "source": [
    "df1.info()"
   ]
  },
  {
   "cell_type": "markdown",
   "metadata": {
    "id": "KNzFis7eEaXj"
   },
   "source": [
    "## EDA"
   ]
  },
  {
   "cell_type": "markdown",
   "metadata": {
    "id": "ZkYW8xGS5xdR"
   },
   "source": [
    "- It is a good idea to explore the data once again after manipulating it."
   ]
  },
  {
   "cell_type": "code",
   "execution_count": 265,
   "metadata": {},
   "outputs": [
    {
     "data": {
      "text/html": [
       "<div>\n",
       "<style scoped>\n",
       "    .dataframe tbody tr th:only-of-type {\n",
       "        vertical-align: middle;\n",
       "    }\n",
       "\n",
       "    .dataframe tbody tr th {\n",
       "        vertical-align: top;\n",
       "    }\n",
       "\n",
       "    .dataframe thead th {\n",
       "        text-align: right;\n",
       "    }\n",
       "</style>\n",
       "<table border=\"1\" class=\"dataframe\">\n",
       "  <thead>\n",
       "    <tr style=\"text-align: right;\">\n",
       "      <th></th>\n",
       "      <th>count</th>\n",
       "      <th>mean</th>\n",
       "      <th>std</th>\n",
       "      <th>min</th>\n",
       "      <th>25%</th>\n",
       "      <th>50%</th>\n",
       "      <th>75%</th>\n",
       "      <th>max</th>\n",
       "    </tr>\n",
       "  </thead>\n",
       "  <tbody>\n",
       "    <tr>\n",
       "      <th>screen_size</th>\n",
       "      <td>3454.0</td>\n",
       "      <td>13.713115</td>\n",
       "      <td>3.805280</td>\n",
       "      <td>5.080000</td>\n",
       "      <td>12.700000</td>\n",
       "      <td>12.830000</td>\n",
       "      <td>15.340000</td>\n",
       "      <td>30.710000</td>\n",
       "    </tr>\n",
       "    <tr>\n",
       "      <th>main_camera_mp</th>\n",
       "      <td>3454.0</td>\n",
       "      <td>9.328657</td>\n",
       "      <td>4.480425</td>\n",
       "      <td>0.080000</td>\n",
       "      <td>5.000000</td>\n",
       "      <td>8.000000</td>\n",
       "      <td>13.000000</td>\n",
       "      <td>24.000000</td>\n",
       "    </tr>\n",
       "    <tr>\n",
       "      <th>selfie_camera_mp</th>\n",
       "      <td>3454.0</td>\n",
       "      <td>5.192878</td>\n",
       "      <td>4.499633</td>\n",
       "      <td>0.000000</td>\n",
       "      <td>2.000000</td>\n",
       "      <td>5.000000</td>\n",
       "      <td>8.000000</td>\n",
       "      <td>16.300000</td>\n",
       "    </tr>\n",
       "    <tr>\n",
       "      <th>int_memory</th>\n",
       "      <td>3454.0</td>\n",
       "      <td>40.557380</td>\n",
       "      <td>34.384990</td>\n",
       "      <td>0.010000</td>\n",
       "      <td>16.000000</td>\n",
       "      <td>32.000000</td>\n",
       "      <td>64.000000</td>\n",
       "      <td>128.000000</td>\n",
       "    </tr>\n",
       "    <tr>\n",
       "      <th>ram</th>\n",
       "      <td>3454.0</td>\n",
       "      <td>4.036080</td>\n",
       "      <td>1.364314</td>\n",
       "      <td>0.020000</td>\n",
       "      <td>4.000000</td>\n",
       "      <td>4.000000</td>\n",
       "      <td>4.000000</td>\n",
       "      <td>12.000000</td>\n",
       "    </tr>\n",
       "    <tr>\n",
       "      <th>battery</th>\n",
       "      <td>3454.0</td>\n",
       "      <td>3133.170961</td>\n",
       "      <td>1298.565062</td>\n",
       "      <td>500.000000</td>\n",
       "      <td>2100.000000</td>\n",
       "      <td>3000.000000</td>\n",
       "      <td>4000.000000</td>\n",
       "      <td>9720.000000</td>\n",
       "    </tr>\n",
       "    <tr>\n",
       "      <th>weight</th>\n",
       "      <td>3454.0</td>\n",
       "      <td>182.705761</td>\n",
       "      <td>88.329494</td>\n",
       "      <td>69.000000</td>\n",
       "      <td>142.000000</td>\n",
       "      <td>160.000000</td>\n",
       "      <td>185.000000</td>\n",
       "      <td>855.000000</td>\n",
       "    </tr>\n",
       "    <tr>\n",
       "      <th>release_year</th>\n",
       "      <td>3454.0</td>\n",
       "      <td>2015.965258</td>\n",
       "      <td>2.298455</td>\n",
       "      <td>2013.000000</td>\n",
       "      <td>2014.000000</td>\n",
       "      <td>2015.500000</td>\n",
       "      <td>2018.000000</td>\n",
       "      <td>2020.000000</td>\n",
       "    </tr>\n",
       "    <tr>\n",
       "      <th>days_used</th>\n",
       "      <td>3454.0</td>\n",
       "      <td>674.869716</td>\n",
       "      <td>248.580166</td>\n",
       "      <td>91.000000</td>\n",
       "      <td>533.500000</td>\n",
       "      <td>690.500000</td>\n",
       "      <td>868.750000</td>\n",
       "      <td>1094.000000</td>\n",
       "    </tr>\n",
       "    <tr>\n",
       "      <th>normalized_used_price</th>\n",
       "      <td>3454.0</td>\n",
       "      <td>4.398342</td>\n",
       "      <td>0.515903</td>\n",
       "      <td>2.961141</td>\n",
       "      <td>4.071033</td>\n",
       "      <td>4.415582</td>\n",
       "      <td>4.751951</td>\n",
       "      <td>5.820706</td>\n",
       "    </tr>\n",
       "    <tr>\n",
       "      <th>normalized_new_price</th>\n",
       "      <td>3454.0</td>\n",
       "      <td>5.244428</td>\n",
       "      <td>0.620056</td>\n",
       "      <td>3.525183</td>\n",
       "      <td>4.799317</td>\n",
       "      <td>5.246945</td>\n",
       "      <td>5.667464</td>\n",
       "      <td>6.960775</td>\n",
       "    </tr>\n",
       "  </tbody>\n",
       "</table>\n",
       "</div>"
      ],
      "text/plain": [
       "                        count         mean          std          min  \\\n",
       "screen_size            3454.0    13.713115     3.805280     5.080000   \n",
       "main_camera_mp         3454.0     9.328657     4.480425     0.080000   \n",
       "selfie_camera_mp       3454.0     5.192878     4.499633     0.000000   \n",
       "int_memory             3454.0    40.557380    34.384990     0.010000   \n",
       "ram                    3454.0     4.036080     1.364314     0.020000   \n",
       "battery                3454.0  3133.170961  1298.565062   500.000000   \n",
       "weight                 3454.0   182.705761    88.329494    69.000000   \n",
       "release_year           3454.0  2015.965258     2.298455  2013.000000   \n",
       "days_used              3454.0   674.869716   248.580166    91.000000   \n",
       "normalized_used_price  3454.0     4.398342     0.515903     2.961141   \n",
       "normalized_new_price   3454.0     5.244428     0.620056     3.525183   \n",
       "\n",
       "                               25%          50%          75%          max  \n",
       "screen_size              12.700000    12.830000    15.340000    30.710000  \n",
       "main_camera_mp            5.000000     8.000000    13.000000    24.000000  \n",
       "selfie_camera_mp          2.000000     5.000000     8.000000    16.300000  \n",
       "int_memory               16.000000    32.000000    64.000000   128.000000  \n",
       "ram                       4.000000     4.000000     4.000000    12.000000  \n",
       "battery                2100.000000  3000.000000  4000.000000  9720.000000  \n",
       "weight                  142.000000   160.000000   185.000000   855.000000  \n",
       "release_year           2014.000000  2015.500000  2018.000000  2020.000000  \n",
       "days_used               533.500000   690.500000   868.750000  1094.000000  \n",
       "normalized_used_price     4.071033     4.415582     4.751951     5.820706  \n",
       "normalized_new_price      4.799317     5.246945     5.667464     6.960775  "
      ]
     },
     "execution_count": 265,
     "metadata": {},
     "output_type": "execute_result"
    },
    {
     "data": {
      "application/javascript": [
       "\n",
       "            setTimeout(function() {\n",
       "                var nbb_cell_id = 265;\n",
       "                var nbb_unformatted_code = \"df1.describe().T\";\n",
       "                var nbb_formatted_code = \"df1.describe().T\";\n",
       "                var nbb_cells = Jupyter.notebook.get_cells();\n",
       "                for (var i = 0; i < nbb_cells.length; ++i) {\n",
       "                    if (nbb_cells[i].input_prompt_number == nbb_cell_id) {\n",
       "                        if (nbb_cells[i].get_text() == nbb_unformatted_code) {\n",
       "                             nbb_cells[i].set_text(nbb_formatted_code);\n",
       "                        }\n",
       "                        break;\n",
       "                    }\n",
       "                }\n",
       "            }, 500);\n",
       "            "
      ],
      "text/plain": [
       "<IPython.core.display.Javascript object>"
      ]
     },
     "metadata": {},
     "output_type": "display_data"
    },
    {
     "data": {
      "application/javascript": [
       "\n",
       "            setTimeout(function() {\n",
       "                var nbb_cell_id = 265;\n",
       "                var nbb_unformatted_code = \"df1.describe().T\";\n",
       "                var nbb_formatted_code = \"df1.describe().T\";\n",
       "                var nbb_cells = Jupyter.notebook.get_cells();\n",
       "                for (var i = 0; i < nbb_cells.length; ++i) {\n",
       "                    if (nbb_cells[i].input_prompt_number == nbb_cell_id) {\n",
       "                        if (nbb_cells[i].get_text() == nbb_unformatted_code) {\n",
       "                             nbb_cells[i].set_text(nbb_formatted_code);\n",
       "                        }\n",
       "                        break;\n",
       "                    }\n",
       "                }\n",
       "            }, 500);\n",
       "            "
      ],
      "text/plain": [
       "<IPython.core.display.Javascript object>"
      ]
     },
     "metadata": {},
     "output_type": "display_data"
    }
   ],
   "source": [
    "df1.describe().T"
   ]
  },
  {
   "cell_type": "code",
   "execution_count": 266,
   "metadata": {},
   "outputs": [
    {
     "data": {
      "application/javascript": [
       "\n",
       "            setTimeout(function() {\n",
       "                var nbb_cell_id = 266;\n",
       "                var nbb_unformatted_code = \"# Create a list of the columns that are numeric\\nnumeric_cols = df1.select_dtypes(include=np.number).columns.tolist()\\n\\n# Drop the release_year column since it is  not a numeric attribute\\nnumeric_cols.remove(\\\"release_year\\\")\";\n",
       "                var nbb_formatted_code = \"# Create a list of the columns that are numeric\\nnumeric_cols = df1.select_dtypes(include=np.number).columns.tolist()\\n\\n# Drop the release_year column since it is  not a numeric attribute\\nnumeric_cols.remove(\\\"release_year\\\")\";\n",
       "                var nbb_cells = Jupyter.notebook.get_cells();\n",
       "                for (var i = 0; i < nbb_cells.length; ++i) {\n",
       "                    if (nbb_cells[i].input_prompt_number == nbb_cell_id) {\n",
       "                        if (nbb_cells[i].get_text() == nbb_unformatted_code) {\n",
       "                             nbb_cells[i].set_text(nbb_formatted_code);\n",
       "                        }\n",
       "                        break;\n",
       "                    }\n",
       "                }\n",
       "            }, 500);\n",
       "            "
      ],
      "text/plain": [
       "<IPython.core.display.Javascript object>"
      ]
     },
     "metadata": {},
     "output_type": "display_data"
    },
    {
     "data": {
      "application/javascript": [
       "\n",
       "            setTimeout(function() {\n",
       "                var nbb_cell_id = 266;\n",
       "                var nbb_unformatted_code = \"# Create a list of the columns that are numeric\\nnumeric_cols = df1.select_dtypes(include=np.number).columns.tolist()\\n\\n# Drop the release_year column since it is  not a numeric attribute\\nnumeric_cols.remove(\\\"release_year\\\")\";\n",
       "                var nbb_formatted_code = \"# Create a list of the columns that are numeric\\nnumeric_cols = df1.select_dtypes(include=np.number).columns.tolist()\\n\\n# Drop the release_year column since it is  not a numeric attribute\\nnumeric_cols.remove(\\\"release_year\\\")\";\n",
       "                var nbb_cells = Jupyter.notebook.get_cells();\n",
       "                for (var i = 0; i < nbb_cells.length; ++i) {\n",
       "                    if (nbb_cells[i].input_prompt_number == nbb_cell_id) {\n",
       "                        if (nbb_cells[i].get_text() == nbb_unformatted_code) {\n",
       "                             nbb_cells[i].set_text(nbb_formatted_code);\n",
       "                        }\n",
       "                        break;\n",
       "                    }\n",
       "                }\n",
       "            }, 500);\n",
       "            "
      ],
      "text/plain": [
       "<IPython.core.display.Javascript object>"
      ]
     },
     "metadata": {},
     "output_type": "display_data"
    }
   ],
   "source": [
    "# Create a list of the columns that are numeric\n",
    "numeric_cols = df1.select_dtypes(include=np.number).columns.tolist()\n",
    "\n",
    "# Drop the release_year column since it is  not a numeric attribute\n",
    "numeric_cols.remove(\"release_year\")\n"
   ]
  },
  {
   "cell_type": "code",
   "execution_count": 267,
   "metadata": {},
   "outputs": [
    {
     "data": {
      "image/png": "[encoded data removed]",
      "text/plain": [
       "<Figure size 1080x576 with 2 Axes>"
      ]
     },
     "metadata": {
      "needs_background": "light"
     },
     "output_type": "display_data"
    },
    {
     "data": {
      "application/javascript": [
       "\n",
       "            setTimeout(function() {\n",
       "                var nbb_cell_id = 267;\n",
       "                var nbb_unformatted_code = \"plt.figure(figsize=(15, 8))\\nplt.title(\\n    \\\"Correlation among the attributes\\\", fontsize=14, weight=\\\"bold\\\",\\n)\\nsns.heatmap(\\n    df1[numeric_cols].corr(), annot=True, vmin=-1, vmax=1, fmt=\\\".2f\\\", cmap=\\\"viridis\\\"\\n)\\nplt.show()\";\n",
       "                var nbb_formatted_code = \"plt.figure(figsize=(15, 8))\\nplt.title(\\n    \\\"Correlation among the attributes\\\", fontsize=14, weight=\\\"bold\\\",\\n)\\nsns.heatmap(\\n    df1[numeric_cols].corr(), annot=True, vmin=-1, vmax=1, fmt=\\\".2f\\\", cmap=\\\"viridis\\\"\\n)\\nplt.show()\";\n",
       "                var nbb_cells = Jupyter.notebook.get_cells();\n",
       "                for (var i = 0; i < nbb_cells.length; ++i) {\n",
       "                    if (nbb_cells[i].input_prompt_number == nbb_cell_id) {\n",
       "                        if (nbb_cells[i].get_text() == nbb_unformatted_code) {\n",
       "                             nbb_cells[i].set_text(nbb_formatted_code);\n",
       "                        }\n",
       "                        break;\n",
       "                    }\n",
       "                }\n",
       "            }, 500);\n",
       "            "
      ],
      "text/plain": [
       "<IPython.core.display.Javascript object>"
      ]
     },
     "metadata": {},
     "output_type": "display_data"
    },
    {
     "data": {
      "application/javascript": [
       "\n",
       "            setTimeout(function() {\n",
       "                var nbb_cell_id = 267;\n",
       "                var nbb_unformatted_code = \"plt.figure(figsize=(15, 8))\\nplt.title(\\n    \\\"Correlation among the attributes\\\", fontsize=14, weight=\\\"bold\\\",\\n)\\nsns.heatmap(\\n    df1[numeric_cols].corr(), annot=True, vmin=-1, vmax=1, fmt=\\\".2f\\\", cmap=\\\"viridis\\\"\\n)\\nplt.show()\";\n",
       "                var nbb_formatted_code = \"plt.figure(figsize=(15, 8))\\nplt.title(\\n    \\\"Correlation among the attributes\\\", fontsize=14, weight=\\\"bold\\\",\\n)\\nsns.heatmap(\\n    df1[numeric_cols].corr(), annot=True, vmin=-1, vmax=1, fmt=\\\".2f\\\", cmap=\\\"viridis\\\"\\n)\\nplt.show()\";\n",
       "                var nbb_cells = Jupyter.notebook.get_cells();\n",
       "                for (var i = 0; i < nbb_cells.length; ++i) {\n",
       "                    if (nbb_cells[i].input_prompt_number == nbb_cell_id) {\n",
       "                        if (nbb_cells[i].get_text() == nbb_unformatted_code) {\n",
       "                             nbb_cells[i].set_text(nbb_formatted_code);\n",
       "                        }\n",
       "                        break;\n",
       "                    }\n",
       "                }\n",
       "            }, 500);\n",
       "            "
      ],
      "text/plain": [
       "<IPython.core.display.Javascript object>"
      ]
     },
     "metadata": {},
     "output_type": "display_data"
    }
   ],
   "source": [
    "plt.figure(figsize=(15, 8))\n",
    "plt.title(\n",
    "    \"Correlation among the attributes\", fontsize=14, weight=\"bold\",\n",
    ")\n",
    "sns.heatmap(\n",
    "    df1[numeric_cols].corr(), annot=True, vmin=-1, vmax=1, fmt=\".2f\", cmap=\"viridis\"\n",
    ")\n",
    "plt.show()"
   ]
  },
  {
   "cell_type": "markdown",
   "metadata": {},
   "source": [
    "## Prepare data for modelling"
   ]
  },
  {
   "cell_type": "code",
   "execution_count": 268,
   "metadata": {},
   "outputs": [
    {
     "name": "stdout",
     "output_type": "stream",
     "text": [
      "  brand_name       os  screen_size   4g   5g  main_camera_mp  \\\n",
      "0      Honor  Android        14.50  yes   no            13.0   \n",
      "1      Honor  Android        17.30  yes  yes            13.0   \n",
      "2      Honor  Android        16.69  yes  yes            13.0   \n",
      "3      Honor  Android        25.50  yes  yes            13.0   \n",
      "4      Honor  Android        15.32  yes   no            13.0   \n",
      "\n",
      "   selfie_camera_mp  int_memory  ram  battery  weight  days_used  \\\n",
      "0               5.0        64.0  3.0   3020.0   146.0        127   \n",
      "1              16.0       128.0  8.0   4300.0   213.0        325   \n",
      "2               8.0       128.0  8.0   4200.0   213.0        162   \n",
      "3               8.0        64.0  6.0   7250.0   480.0        345   \n",
      "4               8.0        64.0  3.0   5000.0   185.0        293   \n",
      "\n",
      "   normalized_new_price  \n",
      "0              4.715100  \n",
      "1              5.519018  \n",
      "2              5.884631  \n",
      "3              5.630961  \n",
      "4              4.947837  \n",
      "0    4.307572\n",
      "1    5.162097\n",
      "2    5.111084\n",
      "3    5.135387\n",
      "4    4.389995\n",
      "Name: normalized_used_price, dtype: float64\n"
     ]
    },
    {
     "data": {
      "application/javascript": [
       "\n",
       "            setTimeout(function() {\n",
       "                var nbb_cell_id = 268;\n",
       "                var nbb_unformatted_code = \"# Define the x and y variables\\n# release_year is dropped from the columns because it is not actually numeric in column\\nX = df1.drop([\\\"release_year\\\", \\\"normalized_used_price\\\"], axis=1)\\ny = df1[\\\"normalized_used_price\\\"]\\n\\nprint(X.head())\\nprint(y.head())\";\n",
       "                var nbb_formatted_code = \"# Define the x and y variables\\n# release_year is dropped from the columns because it is not actually numeric in column\\nX = df1.drop([\\\"release_year\\\", \\\"normalized_used_price\\\"], axis=1)\\ny = df1[\\\"normalized_used_price\\\"]\\n\\nprint(X.head())\\nprint(y.head())\";\n",
       "                var nbb_cells = Jupyter.notebook.get_cells();\n",
       "                for (var i = 0; i < nbb_cells.length; ++i) {\n",
       "                    if (nbb_cells[i].input_prompt_number == nbb_cell_id) {\n",
       "                        if (nbb_cells[i].get_text() == nbb_unformatted_code) {\n",
       "                             nbb_cells[i].set_text(nbb_formatted_code);\n",
       "                        }\n",
       "                        break;\n",
       "                    }\n",
       "                }\n",
       "            }, 500);\n",
       "            "
      ],
      "text/plain": [
       "<IPython.core.display.Javascript object>"
      ]
     },
     "metadata": {},
     "output_type": "display_data"
    },
    {
     "data": {
      "application/javascript": [
       "\n",
       "            setTimeout(function() {\n",
       "                var nbb_cell_id = 268;\n",
       "                var nbb_unformatted_code = \"# Define the x and y variables\\n# release_year is dropped from the columns because it is not actually numeric in column\\nX = df1.drop([\\\"release_year\\\", \\\"normalized_used_price\\\"], axis=1)\\ny = df1[\\\"normalized_used_price\\\"]\\n\\nprint(X.head())\\nprint(y.head())\";\n",
       "                var nbb_formatted_code = \"# Define the x and y variables\\n# release_year is dropped from the columns because it is not actually numeric in column\\nX = df1.drop([\\\"release_year\\\", \\\"normalized_used_price\\\"], axis=1)\\ny = df1[\\\"normalized_used_price\\\"]\\n\\nprint(X.head())\\nprint(y.head())\";\n",
       "                var nbb_cells = Jupyter.notebook.get_cells();\n",
       "                for (var i = 0; i < nbb_cells.length; ++i) {\n",
       "                    if (nbb_cells[i].input_prompt_number == nbb_cell_id) {\n",
       "                        if (nbb_cells[i].get_text() == nbb_unformatted_code) {\n",
       "                             nbb_cells[i].set_text(nbb_formatted_code);\n",
       "                        }\n",
       "                        break;\n",
       "                    }\n",
       "                }\n",
       "            }, 500);\n",
       "            "
      ],
      "text/plain": [
       "<IPython.core.display.Javascript object>"
      ]
     },
     "metadata": {},
     "output_type": "display_data"
    }
   ],
   "source": [
    "# Define the x and y variables\n",
    "# release_year is dropped from the columns because it is not actually numeric in column\n",
    "X = df1.drop([\"release_year\", \"normalized_used_price\"], axis=1)\n",
    "y = df1[\"normalized_used_price\"]\n",
    "\n",
    "print(X.head())\n",
    "print(y.head())"
   ]
  },
  {
   "cell_type": "code",
   "execution_count": 269,
   "metadata": {},
   "outputs": [
    {
     "data": {
      "application/javascript": [
       "\n",
       "            setTimeout(function() {\n",
       "                var nbb_cell_id = 269;\n",
       "                var nbb_unformatted_code = \"# Add intercept to data\\nX = sm.add_constant(X)\";\n",
       "                var nbb_formatted_code = \"# Add intercept to data\\nX = sm.add_constant(X)\";\n",
       "                var nbb_cells = Jupyter.notebook.get_cells();\n",
       "                for (var i = 0; i < nbb_cells.length; ++i) {\n",
       "                    if (nbb_cells[i].input_prompt_number == nbb_cell_id) {\n",
       "                        if (nbb_cells[i].get_text() == nbb_unformatted_code) {\n",
       "                             nbb_cells[i].set_text(nbb_formatted_code);\n",
       "                        }\n",
       "                        break;\n",
       "                    }\n",
       "                }\n",
       "            }, 500);\n",
       "            "
      ],
      "text/plain": [
       "<IPython.core.display.Javascript object>"
      ]
     },
     "metadata": {},
     "output_type": "display_data"
    },
    {
     "data": {
      "application/javascript": [
       "\n",
       "            setTimeout(function() {\n",
       "                var nbb_cell_id = 269;\n",
       "                var nbb_unformatted_code = \"# Add intercept to data\\nX = sm.add_constant(X)\";\n",
       "                var nbb_formatted_code = \"# Add intercept to data\\nX = sm.add_constant(X)\";\n",
       "                var nbb_cells = Jupyter.notebook.get_cells();\n",
       "                for (var i = 0; i < nbb_cells.length; ++i) {\n",
       "                    if (nbb_cells[i].input_prompt_number == nbb_cell_id) {\n",
       "                        if (nbb_cells[i].get_text() == nbb_unformatted_code) {\n",
       "                             nbb_cells[i].set_text(nbb_formatted_code);\n",
       "                        }\n",
       "                        break;\n",
       "                    }\n",
       "                }\n",
       "            }, 500);\n",
       "            "
      ],
      "text/plain": [
       "<IPython.core.display.Javascript object>"
      ]
     },
     "metadata": {},
     "output_type": "display_data"
    }
   ],
   "source": [
    "# Add intercept to data\n",
    "X = sm.add_constant(X)"
   ]
  },
  {
   "cell_type": "code",
   "execution_count": 270,
   "metadata": {},
   "outputs": [
    {
     "data": {
      "text/html": [
       "<div>\n",
       "<style scoped>\n",
       "    .dataframe tbody tr th:only-of-type {\n",
       "        vertical-align: middle;\n",
       "    }\n",
       "\n",
       "    .dataframe tbody tr th {\n",
       "        vertical-align: top;\n",
       "    }\n",
       "\n",
       "    .dataframe thead th {\n",
       "        text-align: right;\n",
       "    }\n",
       "</style>\n",
       "<table border=\"1\" class=\"dataframe\">\n",
       "  <thead>\n",
       "    <tr style=\"text-align: right;\">\n",
       "      <th></th>\n",
       "      <th>const</th>\n",
       "      <th>screen_size</th>\n",
       "      <th>main_camera_mp</th>\n",
       "      <th>selfie_camera_mp</th>\n",
       "      <th>int_memory</th>\n",
       "      <th>ram</th>\n",
       "      <th>battery</th>\n",
       "      <th>weight</th>\n",
       "      <th>days_used</th>\n",
       "      <th>normalized_new_price</th>\n",
       "      <th>brand_name_Alcatel</th>\n",
       "      <th>brand_name_Apple</th>\n",
       "      <th>brand_name_Asus</th>\n",
       "      <th>brand_name_BlackBerry</th>\n",
       "      <th>brand_name_Celkon</th>\n",
       "      <th>brand_name_Coolpad</th>\n",
       "      <th>brand_name_Gionee</th>\n",
       "      <th>brand_name_Google</th>\n",
       "      <th>brand_name_HTC</th>\n",
       "      <th>brand_name_Honor</th>\n",
       "      <th>brand_name_Huawei</th>\n",
       "      <th>brand_name_Infinix</th>\n",
       "      <th>brand_name_Karbonn</th>\n",
       "      <th>brand_name_LG</th>\n",
       "      <th>brand_name_Lava</th>\n",
       "      <th>brand_name_Lenovo</th>\n",
       "      <th>brand_name_Meizu</th>\n",
       "      <th>brand_name_Micromax</th>\n",
       "      <th>brand_name_Microsoft</th>\n",
       "      <th>brand_name_Motorola</th>\n",
       "      <th>brand_name_Nokia</th>\n",
       "      <th>brand_name_OnePlus</th>\n",
       "      <th>brand_name_Oppo</th>\n",
       "      <th>brand_name_Others</th>\n",
       "      <th>brand_name_Panasonic</th>\n",
       "      <th>brand_name_Realme</th>\n",
       "      <th>brand_name_Samsung</th>\n",
       "      <th>brand_name_Sony</th>\n",
       "      <th>brand_name_Spice</th>\n",
       "      <th>brand_name_Vivo</th>\n",
       "      <th>brand_name_XOLO</th>\n",
       "      <th>brand_name_Xiaomi</th>\n",
       "      <th>brand_name_ZTE</th>\n",
       "      <th>os_Others</th>\n",
       "      <th>os_Windows</th>\n",
       "      <th>os_iOS</th>\n",
       "      <th>4g_yes</th>\n",
       "      <th>5g_yes</th>\n",
       "    </tr>\n",
       "  </thead>\n",
       "  <tbody>\n",
       "    <tr>\n",
       "      <th>0</th>\n",
       "      <td>1.0</td>\n",
       "      <td>14.50</td>\n",
       "      <td>13.0</td>\n",
       "      <td>5.0</td>\n",
       "      <td>64.0</td>\n",
       "      <td>3.0</td>\n",
       "      <td>3020.0</td>\n",
       "      <td>146.0</td>\n",
       "      <td>127</td>\n",
       "      <td>4.715100</td>\n",
       "      <td>0</td>\n",
       "      <td>0</td>\n",
       "      <td>0</td>\n",
       "      <td>0</td>\n",
       "      <td>0</td>\n",
       "      <td>0</td>\n",
       "      <td>0</td>\n",
       "      <td>0</td>\n",
       "      <td>0</td>\n",
       "      <td>1</td>\n",
       "      <td>0</td>\n",
       "      <td>0</td>\n",
       "      <td>0</td>\n",
       "      <td>0</td>\n",
       "      <td>0</td>\n",
       "      <td>0</td>\n",
       "      <td>0</td>\n",
       "      <td>0</td>\n",
       "      <td>0</td>\n",
       "      <td>0</td>\n",
       "      <td>0</td>\n",
       "      <td>0</td>\n",
       "      <td>0</td>\n",
       "      <td>0</td>\n",
       "      <td>0</td>\n",
       "      <td>0</td>\n",
       "      <td>0</td>\n",
       "      <td>0</td>\n",
       "      <td>0</td>\n",
       "      <td>0</td>\n",
       "      <td>0</td>\n",
       "      <td>0</td>\n",
       "      <td>0</td>\n",
       "      <td>0</td>\n",
       "      <td>0</td>\n",
       "      <td>0</td>\n",
       "      <td>1</td>\n",
       "      <td>0</td>\n",
       "    </tr>\n",
       "    <tr>\n",
       "      <th>1</th>\n",
       "      <td>1.0</td>\n",
       "      <td>17.30</td>\n",
       "      <td>13.0</td>\n",
       "      <td>16.0</td>\n",
       "      <td>128.0</td>\n",
       "      <td>8.0</td>\n",
       "      <td>4300.0</td>\n",
       "      <td>213.0</td>\n",
       "      <td>325</td>\n",
       "      <td>5.519018</td>\n",
       "      <td>0</td>\n",
       "      <td>0</td>\n",
       "      <td>0</td>\n",
       "      <td>0</td>\n",
       "      <td>0</td>\n",
       "      <td>0</td>\n",
       "      <td>0</td>\n",
       "      <td>0</td>\n",
       "      <td>0</td>\n",
       "      <td>1</td>\n",
       "      <td>0</td>\n",
       "      <td>0</td>\n",
       "      <td>0</td>\n",
       "      <td>0</td>\n",
       "      <td>0</td>\n",
       "      <td>0</td>\n",
       "      <td>0</td>\n",
       "      <td>0</td>\n",
       "      <td>0</td>\n",
       "      <td>0</td>\n",
       "      <td>0</td>\n",
       "      <td>0</td>\n",
       "      <td>0</td>\n",
       "      <td>0</td>\n",
       "      <td>0</td>\n",
       "      <td>0</td>\n",
       "      <td>0</td>\n",
       "      <td>0</td>\n",
       "      <td>0</td>\n",
       "      <td>0</td>\n",
       "      <td>0</td>\n",
       "      <td>0</td>\n",
       "      <td>0</td>\n",
       "      <td>0</td>\n",
       "      <td>0</td>\n",
       "      <td>0</td>\n",
       "      <td>1</td>\n",
       "      <td>1</td>\n",
       "    </tr>\n",
       "    <tr>\n",
       "      <th>2</th>\n",
       "      <td>1.0</td>\n",
       "      <td>16.69</td>\n",
       "      <td>13.0</td>\n",
       "      <td>8.0</td>\n",
       "      <td>128.0</td>\n",
       "      <td>8.0</td>\n",
       "      <td>4200.0</td>\n",
       "      <td>213.0</td>\n",
       "      <td>162</td>\n",
       "      <td>5.884631</td>\n",
       "      <td>0</td>\n",
       "      <td>0</td>\n",
       "      <td>0</td>\n",
       "      <td>0</td>\n",
       "      <td>0</td>\n",
       "      <td>0</td>\n",
       "      <td>0</td>\n",
       "      <td>0</td>\n",
       "      <td>0</td>\n",
       "      <td>1</td>\n",
       "      <td>0</td>\n",
       "      <td>0</td>\n",
       "      <td>0</td>\n",
       "      <td>0</td>\n",
       "      <td>0</td>\n",
       "      <td>0</td>\n",
       "      <td>0</td>\n",
       "      <td>0</td>\n",
       "      <td>0</td>\n",
       "      <td>0</td>\n",
       "      <td>0</td>\n",
       "      <td>0</td>\n",
       "      <td>0</td>\n",
       "      <td>0</td>\n",
       "      <td>0</td>\n",
       "      <td>0</td>\n",
       "      <td>0</td>\n",
       "      <td>0</td>\n",
       "      <td>0</td>\n",
       "      <td>0</td>\n",
       "      <td>0</td>\n",
       "      <td>0</td>\n",
       "      <td>0</td>\n",
       "      <td>0</td>\n",
       "      <td>0</td>\n",
       "      <td>0</td>\n",
       "      <td>1</td>\n",
       "      <td>1</td>\n",
       "    </tr>\n",
       "    <tr>\n",
       "      <th>3</th>\n",
       "      <td>1.0</td>\n",
       "      <td>25.50</td>\n",
       "      <td>13.0</td>\n",
       "      <td>8.0</td>\n",
       "      <td>64.0</td>\n",
       "      <td>6.0</td>\n",
       "      <td>7250.0</td>\n",
       "      <td>480.0</td>\n",
       "      <td>345</td>\n",
       "      <td>5.630961</td>\n",
       "      <td>0</td>\n",
       "      <td>0</td>\n",
       "      <td>0</td>\n",
       "      <td>0</td>\n",
       "      <td>0</td>\n",
       "      <td>0</td>\n",
       "      <td>0</td>\n",
       "      <td>0</td>\n",
       "      <td>0</td>\n",
       "      <td>1</td>\n",
       "      <td>0</td>\n",
       "      <td>0</td>\n",
       "      <td>0</td>\n",
       "      <td>0</td>\n",
       "      <td>0</td>\n",
       "      <td>0</td>\n",
       "      <td>0</td>\n",
       "      <td>0</td>\n",
       "      <td>0</td>\n",
       "      <td>0</td>\n",
       "      <td>0</td>\n",
       "      <td>0</td>\n",
       "      <td>0</td>\n",
       "      <td>0</td>\n",
       "      <td>0</td>\n",
       "      <td>0</td>\n",
       "      <td>0</td>\n",
       "      <td>0</td>\n",
       "      <td>0</td>\n",
       "      <td>0</td>\n",
       "      <td>0</td>\n",
       "      <td>0</td>\n",
       "      <td>0</td>\n",
       "      <td>0</td>\n",
       "      <td>0</td>\n",
       "      <td>0</td>\n",
       "      <td>1</td>\n",
       "      <td>1</td>\n",
       "    </tr>\n",
       "    <tr>\n",
       "      <th>4</th>\n",
       "      <td>1.0</td>\n",
       "      <td>15.32</td>\n",
       "      <td>13.0</td>\n",
       "      <td>8.0</td>\n",
       "      <td>64.0</td>\n",
       "      <td>3.0</td>\n",
       "      <td>5000.0</td>\n",
       "      <td>185.0</td>\n",
       "      <td>293</td>\n",
       "      <td>4.947837</td>\n",
       "      <td>0</td>\n",
       "      <td>0</td>\n",
       "      <td>0</td>\n",
       "      <td>0</td>\n",
       "      <td>0</td>\n",
       "      <td>0</td>\n",
       "      <td>0</td>\n",
       "      <td>0</td>\n",
       "      <td>0</td>\n",
       "      <td>1</td>\n",
       "      <td>0</td>\n",
       "      <td>0</td>\n",
       "      <td>0</td>\n",
       "      <td>0</td>\n",
       "      <td>0</td>\n",
       "      <td>0</td>\n",
       "      <td>0</td>\n",
       "      <td>0</td>\n",
       "      <td>0</td>\n",
       "      <td>0</td>\n",
       "      <td>0</td>\n",
       "      <td>0</td>\n",
       "      <td>0</td>\n",
       "      <td>0</td>\n",
       "      <td>0</td>\n",
       "      <td>0</td>\n",
       "      <td>0</td>\n",
       "      <td>0</td>\n",
       "      <td>0</td>\n",
       "      <td>0</td>\n",
       "      <td>0</td>\n",
       "      <td>0</td>\n",
       "      <td>0</td>\n",
       "      <td>0</td>\n",
       "      <td>0</td>\n",
       "      <td>0</td>\n",
       "      <td>1</td>\n",
       "      <td>0</td>\n",
       "    </tr>\n",
       "  </tbody>\n",
       "</table>\n",
       "</div>"
      ],
      "text/plain": [
       "   const  screen_size  main_camera_mp  selfie_camera_mp  int_memory  ram  \\\n",
       "0    1.0        14.50            13.0               5.0        64.0  3.0   \n",
       "1    1.0        17.30            13.0              16.0       128.0  8.0   \n",
       "2    1.0        16.69            13.0               8.0       128.0  8.0   \n",
       "3    1.0        25.50            13.0               8.0        64.0  6.0   \n",
       "4    1.0        15.32            13.0               8.0        64.0  3.0   \n",
       "\n",
       "   battery  weight  days_used  normalized_new_price  brand_name_Alcatel  \\\n",
       "0   3020.0   146.0        127              4.715100                   0   \n",
       "1   4300.0   213.0        325              5.519018                   0   \n",
       "2   4200.0   213.0        162              5.884631                   0   \n",
       "3   7250.0   480.0        345              5.630961                   0   \n",
       "4   5000.0   185.0        293              4.947837                   0   \n",
       "\n",
       "   brand_name_Apple  brand_name_Asus  brand_name_BlackBerry  \\\n",
       "0                 0                0                      0   \n",
       "1                 0                0                      0   \n",
       "2                 0                0                      0   \n",
       "3                 0                0                      0   \n",
       "4                 0                0                      0   \n",
       "\n",
       "   brand_name_Celkon  brand_name_Coolpad  brand_name_Gionee  \\\n",
       "0                  0                   0                  0   \n",
       "1                  0                   0                  0   \n",
       "2                  0                   0                  0   \n",
       "3                  0                   0                  0   \n",
       "4                  0                   0                  0   \n",
       "\n",
       "   brand_name_Google  brand_name_HTC  brand_name_Honor  brand_name_Huawei  \\\n",
       "0                  0               0                 1                  0   \n",
       "1                  0               0                 1                  0   \n",
       "2                  0               0                 1                  0   \n",
       "3                  0               0                 1                  0   \n",
       "4                  0               0                 1                  0   \n",
       "\n",
       "   brand_name_Infinix  brand_name_Karbonn  brand_name_LG  brand_name_Lava  \\\n",
       "0                   0                   0              0                0   \n",
       "1                   0                   0              0                0   \n",
       "2                   0                   0              0                0   \n",
       "3                   0                   0              0                0   \n",
       "4                   0                   0              0                0   \n",
       "\n",
       "   brand_name_Lenovo  brand_name_Meizu  brand_name_Micromax  \\\n",
       "0                  0                 0                    0   \n",
       "1                  0                 0                    0   \n",
       "2                  0                 0                    0   \n",
       "3                  0                 0                    0   \n",
       "4                  0                 0                    0   \n",
       "\n",
       "   brand_name_Microsoft  brand_name_Motorola  brand_name_Nokia  \\\n",
       "0                     0                    0                 0   \n",
       "1                     0                    0                 0   \n",
       "2                     0                    0                 0   \n",
       "3                     0                    0                 0   \n",
       "4                     0                    0                 0   \n",
       "\n",
       "   brand_name_OnePlus  brand_name_Oppo  brand_name_Others  \\\n",
       "0                   0                0                  0   \n",
       "1                   0                0                  0   \n",
       "2                   0                0                  0   \n",
       "3                   0                0                  0   \n",
       "4                   0                0                  0   \n",
       "\n",
       "   brand_name_Panasonic  brand_name_Realme  brand_name_Samsung  \\\n",
       "0                     0                  0                   0   \n",
       "1                     0                  0                   0   \n",
       "2                     0                  0                   0   \n",
       "3                     0                  0                   0   \n",
       "4                     0                  0                   0   \n",
       "\n",
       "   brand_name_Sony  brand_name_Spice  brand_name_Vivo  brand_name_XOLO  \\\n",
       "0                0                 0                0                0   \n",
       "1                0                 0                0                0   \n",
       "2                0                 0                0                0   \n",
       "3                0                 0                0                0   \n",
       "4                0                 0                0                0   \n",
       "\n",
       "   brand_name_Xiaomi  brand_name_ZTE  os_Others  os_Windows  os_iOS  4g_yes  \\\n",
       "0                  0               0          0           0       0       1   \n",
       "1                  0               0          0           0       0       1   \n",
       "2                  0               0          0           0       0       1   \n",
       "3                  0               0          0           0       0       1   \n",
       "4                  0               0          0           0       0       1   \n",
       "\n",
       "   5g_yes  \n",
       "0       0  \n",
       "1       1  \n",
       "2       1  \n",
       "3       1  \n",
       "4       0  "
      ]
     },
     "execution_count": 270,
     "metadata": {},
     "output_type": "execute_result"
    },
    {
     "data": {
      "application/javascript": [
       "\n",
       "            setTimeout(function() {\n",
       "                var nbb_cell_id = 270;\n",
       "                var nbb_unformatted_code = \"# Create dummy variables from the object and categorical features\\n\\nX = pd.get_dummies(\\n    X,\\n    columns=X.select_dtypes(include=[\\\"object\\\", \\\"category\\\"]).columns.tolist(),\\n    drop_first=True,\\n)\\nX.head()\";\n",
       "                var nbb_formatted_code = \"# Create dummy variables from the object and categorical features\\n\\nX = pd.get_dummies(\\n    X,\\n    columns=X.select_dtypes(include=[\\\"object\\\", \\\"category\\\"]).columns.tolist(),\\n    drop_first=True,\\n)\\nX.head()\";\n",
       "                var nbb_cells = Jupyter.notebook.get_cells();\n",
       "                for (var i = 0; i < nbb_cells.length; ++i) {\n",
       "                    if (nbb_cells[i].input_prompt_number == nbb_cell_id) {\n",
       "                        if (nbb_cells[i].get_text() == nbb_unformatted_code) {\n",
       "                             nbb_cells[i].set_text(nbb_formatted_code);\n",
       "                        }\n",
       "                        break;\n",
       "                    }\n",
       "                }\n",
       "            }, 500);\n",
       "            "
      ],
      "text/plain": [
       "<IPython.core.display.Javascript object>"
      ]
     },
     "metadata": {},
     "output_type": "display_data"
    },
    {
     "data": {
      "application/javascript": [
       "\n",
       "            setTimeout(function() {\n",
       "                var nbb_cell_id = 270;\n",
       "                var nbb_unformatted_code = \"# Create dummy variables from the object and categorical features\\n\\nX = pd.get_dummies(\\n    X,\\n    columns=X.select_dtypes(include=[\\\"object\\\", \\\"category\\\"]).columns.tolist(),\\n    drop_first=True,\\n)\\nX.head()\";\n",
       "                var nbb_formatted_code = \"# Create dummy variables from the object and categorical features\\n\\nX = pd.get_dummies(\\n    X,\\n    columns=X.select_dtypes(include=[\\\"object\\\", \\\"category\\\"]).columns.tolist(),\\n    drop_first=True,\\n)\\nX.head()\";\n",
       "                var nbb_cells = Jupyter.notebook.get_cells();\n",
       "                for (var i = 0; i < nbb_cells.length; ++i) {\n",
       "                    if (nbb_cells[i].input_prompt_number == nbb_cell_id) {\n",
       "                        if (nbb_cells[i].get_text() == nbb_unformatted_code) {\n",
       "                             nbb_cells[i].set_text(nbb_formatted_code);\n",
       "                        }\n",
       "                        break;\n",
       "                    }\n",
       "                }\n",
       "            }, 500);\n",
       "            "
      ],
      "text/plain": [
       "<IPython.core.display.Javascript object>"
      ]
     },
     "metadata": {},
     "output_type": "display_data"
    }
   ],
   "source": [
    "# Create dummy variables from the object and categorical features\n",
    "\n",
    "X = pd.get_dummies(\n",
    "    X,\n",
    "    columns=X.select_dtypes(include=[\"object\", \"category\"]).columns.tolist(),\n",
    "    drop_first=True,\n",
    ")\n",
    "X.head()"
   ]
  },
  {
   "cell_type": "markdown",
   "metadata": {},
   "source": [
    "## Split the data into train and test data. The data is split into 70:30 ratio."
   ]
  },
  {
   "cell_type": "code",
   "execution_count": 271,
   "metadata": {},
   "outputs": [
    {
     "data": {
      "application/javascript": [
       "\n",
       "            setTimeout(function() {\n",
       "                var nbb_cell_id = 271;\n",
       "                var nbb_unformatted_code = \"# Split the data into train and test data. The data is split into 70:30 ratio.\\n\\nx_train, x_test, y_train, y_test = train_test_split(\\n    X, y, test_size=0.3, random_state=12\\n)\";\n",
       "                var nbb_formatted_code = \"# Split the data into train and test data. The data is split into 70:30 ratio.\\n\\nx_train, x_test, y_train, y_test = train_test_split(\\n    X, y, test_size=0.3, random_state=12\\n)\";\n",
       "                var nbb_cells = Jupyter.notebook.get_cells();\n",
       "                for (var i = 0; i < nbb_cells.length; ++i) {\n",
       "                    if (nbb_cells[i].input_prompt_number == nbb_cell_id) {\n",
       "                        if (nbb_cells[i].get_text() == nbb_unformatted_code) {\n",
       "                             nbb_cells[i].set_text(nbb_formatted_code);\n",
       "                        }\n",
       "                        break;\n",
       "                    }\n",
       "                }\n",
       "            }, 500);\n",
       "            "
      ],
      "text/plain": [
       "<IPython.core.display.Javascript object>"
      ]
     },
     "metadata": {},
     "output_type": "display_data"
    },
    {
     "data": {
      "application/javascript": [
       "\n",
       "            setTimeout(function() {\n",
       "                var nbb_cell_id = 271;\n",
       "                var nbb_unformatted_code = \"# Split the data into train and test data. The data is split into 70:30 ratio.\\n\\nx_train, x_test, y_train, y_test = train_test_split(\\n    X, y, test_size=0.3, random_state=12\\n)\";\n",
       "                var nbb_formatted_code = \"# Split the data into train and test data. The data is split into 70:30 ratio.\\n\\nx_train, x_test, y_train, y_test = train_test_split(\\n    X, y, test_size=0.3, random_state=12\\n)\";\n",
       "                var nbb_cells = Jupyter.notebook.get_cells();\n",
       "                for (var i = 0; i < nbb_cells.length; ++i) {\n",
       "                    if (nbb_cells[i].input_prompt_number == nbb_cell_id) {\n",
       "                        if (nbb_cells[i].get_text() == nbb_unformatted_code) {\n",
       "                             nbb_cells[i].set_text(nbb_formatted_code);\n",
       "                        }\n",
       "                        break;\n",
       "                    }\n",
       "                }\n",
       "            }, 500);\n",
       "            "
      ],
      "text/plain": [
       "<IPython.core.display.Javascript object>"
      ]
     },
     "metadata": {},
     "output_type": "display_data"
    }
   ],
   "source": [
    "x_train, x_test, y_train, y_test = train_test_split(\n",
    "    X, y, test_size=0.3, random_state=12\n",
    ")"
   ]
  },
  {
   "cell_type": "code",
   "execution_count": 272,
   "metadata": {},
   "outputs": [
    {
     "name": "stdout",
     "output_type": "stream",
     "text": [
      "Number of rows in train data = 2417\n",
      "Number of rows in test data = 1037\n"
     ]
    },
    {
     "data": {
      "application/javascript": [
       "\n",
       "            setTimeout(function() {\n",
       "                var nbb_cell_id = 272;\n",
       "                var nbb_unformatted_code = \"print(\\\"Number of rows in train data =\\\", x_train.shape[0])\\nprint(\\\"Number of rows in test data =\\\", x_test.shape[0])\";\n",
       "                var nbb_formatted_code = \"print(\\\"Number of rows in train data =\\\", x_train.shape[0])\\nprint(\\\"Number of rows in test data =\\\", x_test.shape[0])\";\n",
       "                var nbb_cells = Jupyter.notebook.get_cells();\n",
       "                for (var i = 0; i < nbb_cells.length; ++i) {\n",
       "                    if (nbb_cells[i].input_prompt_number == nbb_cell_id) {\n",
       "                        if (nbb_cells[i].get_text() == nbb_unformatted_code) {\n",
       "                             nbb_cells[i].set_text(nbb_formatted_code);\n",
       "                        }\n",
       "                        break;\n",
       "                    }\n",
       "                }\n",
       "            }, 500);\n",
       "            "
      ],
      "text/plain": [
       "<IPython.core.display.Javascript object>"
      ]
     },
     "metadata": {},
     "output_type": "display_data"
    },
    {
     "data": {
      "application/javascript": [
       "\n",
       "            setTimeout(function() {\n",
       "                var nbb_cell_id = 272;\n",
       "                var nbb_unformatted_code = \"print(\\\"Number of rows in train data =\\\", x_train.shape[0])\\nprint(\\\"Number of rows in test data =\\\", x_test.shape[0])\";\n",
       "                var nbb_formatted_code = \"print(\\\"Number of rows in train data =\\\", x_train.shape[0])\\nprint(\\\"Number of rows in test data =\\\", x_test.shape[0])\";\n",
       "                var nbb_cells = Jupyter.notebook.get_cells();\n",
       "                for (var i = 0; i < nbb_cells.length; ++i) {\n",
       "                    if (nbb_cells[i].input_prompt_number == nbb_cell_id) {\n",
       "                        if (nbb_cells[i].get_text() == nbb_unformatted_code) {\n",
       "                             nbb_cells[i].set_text(nbb_formatted_code);\n",
       "                        }\n",
       "                        break;\n",
       "                    }\n",
       "                }\n",
       "            }, 500);\n",
       "            "
      ],
      "text/plain": [
       "<IPython.core.display.Javascript object>"
      ]
     },
     "metadata": {},
     "output_type": "display_data"
    }
   ],
   "source": [
    "print(\"Number of rows in train data =\", x_train.shape[0])\n",
    "print(\"Number of rows in test data =\", x_test.shape[0])"
   ]
  },
  {
   "cell_type": "code",
   "execution_count": 273,
   "metadata": {},
   "outputs": [
    {
     "data": {
      "text/plain": [
       "(3454, 15)"
      ]
     },
     "execution_count": 273,
     "metadata": {},
     "output_type": "execute_result"
    },
    {
     "data": {
      "application/javascript": [
       "\n",
       "            setTimeout(function() {\n",
       "                var nbb_cell_id = 273;\n",
       "                var nbb_unformatted_code = \"df1.shape\";\n",
       "                var nbb_formatted_code = \"df1.shape\";\n",
       "                var nbb_cells = Jupyter.notebook.get_cells();\n",
       "                for (var i = 0; i < nbb_cells.length; ++i) {\n",
       "                    if (nbb_cells[i].input_prompt_number == nbb_cell_id) {\n",
       "                        if (nbb_cells[i].get_text() == nbb_unformatted_code) {\n",
       "                             nbb_cells[i].set_text(nbb_formatted_code);\n",
       "                        }\n",
       "                        break;\n",
       "                    }\n",
       "                }\n",
       "            }, 500);\n",
       "            "
      ],
      "text/plain": [
       "<IPython.core.display.Javascript object>"
      ]
     },
     "metadata": {},
     "output_type": "display_data"
    },
    {
     "data": {
      "application/javascript": [
       "\n",
       "            setTimeout(function() {\n",
       "                var nbb_cell_id = 273;\n",
       "                var nbb_unformatted_code = \"df1.shape\";\n",
       "                var nbb_formatted_code = \"df1.shape\";\n",
       "                var nbb_cells = Jupyter.notebook.get_cells();\n",
       "                for (var i = 0; i < nbb_cells.length; ++i) {\n",
       "                    if (nbb_cells[i].input_prompt_number == nbb_cell_id) {\n",
       "                        if (nbb_cells[i].get_text() == nbb_unformatted_code) {\n",
       "                             nbb_cells[i].set_text(nbb_formatted_code);\n",
       "                        }\n",
       "                        break;\n",
       "                    }\n",
       "                }\n",
       "            }, 500);\n",
       "            "
      ],
      "text/plain": [
       "<IPython.core.display.Javascript object>"
      ]
     },
     "metadata": {},
     "output_type": "display_data"
    }
   ],
   "source": [
    "#Check the shape of the data\n",
    "df1.shape"
   ]
  },
  {
   "cell_type": "code",
   "execution_count": null,
   "metadata": {},
   "outputs": [],
   "source": []
  },
  {
   "cell_type": "markdown",
   "metadata": {
    "id": "HeUzI1OB4rqM"
   },
   "source": [
    "## Model Building - Linear Regression"
   ]
  },
  {
   "cell_type": "code",
   "execution_count": 274,
   "metadata": {
    "id": "ZNRiMg0wMKth"
   },
   "outputs": [
    {
     "name": "stdout",
     "output_type": "stream",
     "text": [
      "                              OLS Regression Results                             \n",
      "=================================================================================\n",
      "Dep. Variable:     normalized_used_price   R-squared:                       0.760\n",
      "Model:                               OLS   Adj. R-squared:                  0.755\n",
      "Method:                    Least Squares   F-statistic:                     159.7\n",
      "Date:                   Sun, 22 May 2022   Prob (F-statistic):               0.00\n",
      "Time:                           06:57:26   Log-Likelihood:                -100.26\n",
      "No. Observations:                   2417   AIC:                             296.5\n",
      "Df Residuals:                       2369   BIC:                             574.5\n",
      "Df Model:                             47                                         \n",
      "Covariance Type:               nonrobust                                         \n",
      "=========================================================================================\n",
      "                            coef    std err          t      P>|t|      [0.025      0.975]\n",
      "-----------------------------------------------------------------------------------------\n",
      "const                     1.6867      0.077     21.795      0.000       1.535       1.838\n",
      "screen_size               0.0204      0.004      5.765      0.000       0.013       0.027\n",
      "main_camera_mp            0.0229      0.002     13.017      0.000       0.019       0.026\n",
      "selfie_camera_mp          0.0109      0.002      6.358      0.000       0.008       0.014\n",
      "int_memory                0.0020      0.000      9.113      0.000       0.002       0.002\n",
      "ram                       0.0059      0.006      1.058      0.290      -0.005       0.017\n",
      "battery                 4.39e-06   8.12e-06      0.541      0.589   -1.15e-05    2.03e-05\n",
      "weight                    0.0008      0.000      6.206      0.000       0.001       0.001\n",
      "days_used             -9.796e-05   2.88e-05     -3.407      0.001      -0.000   -4.16e-05\n",
      "normalized_new_price      0.3588      0.013     27.706      0.000       0.333       0.384\n",
      "brand_name_Alcatel       -0.0035      0.050     -0.070      0.944      -0.102       0.095\n",
      "brand_name_Apple         -1.0553      0.191     -5.520      0.000      -1.430      -0.680\n",
      "brand_name_Asus           0.0516      0.050      1.031      0.303      -0.047       0.150\n",
      "brand_name_BlackBerry    -0.1892      0.078     -2.427      0.015      -0.342      -0.036\n",
      "brand_name_Celkon         0.3406      0.068      5.030      0.000       0.208       0.473\n",
      "brand_name_Coolpad        0.0086      0.075      0.114      0.909      -0.139       0.157\n",
      "brand_name_Gionee        -0.0190      0.057     -0.332      0.740      -0.131       0.093\n",
      "brand_name_Google         0.0654      0.083      0.787      0.431      -0.098       0.228\n",
      "brand_name_HTC           -0.0033      0.052     -0.064      0.949      -0.106       0.099\n",
      "brand_name_Honor         -0.0039      0.052     -0.076      0.939      -0.106       0.098\n",
      "brand_name_Huawei        -0.0307      0.047     -0.655      0.512      -0.123       0.061\n",
      "brand_name_Infinix        0.0913      0.097      0.941      0.347      -0.099       0.282\n",
      "brand_name_Karbonn       -0.0701      0.073     -0.967      0.334      -0.212       0.072\n",
      "brand_name_LG            -0.0443      0.048     -0.920      0.357      -0.139       0.050\n",
      "brand_name_Lava           0.0313      0.066      0.476      0.634      -0.098       0.160\n",
      "brand_name_Lenovo         0.0056      0.048      0.118      0.906      -0.088       0.100\n",
      "brand_name_Meizu          0.0110      0.059      0.185      0.853      -0.105       0.127\n",
      "brand_name_Micromax       0.0226      0.052      0.430      0.667      -0.080       0.125\n",
      "brand_name_Microsoft      0.0143      0.091      0.157      0.875      -0.164       0.192\n",
      "brand_name_Motorola      -0.0284      0.053     -0.537      0.591      -0.132       0.075\n",
      "brand_name_Nokia          0.0180      0.054      0.331      0.741      -0.089       0.125\n",
      "brand_name_OnePlus        0.0623      0.085      0.737      0.461      -0.104       0.228\n",
      "brand_name_Oppo           0.0434      0.051      0.858      0.391      -0.056       0.143\n",
      "brand_name_Others        -0.0063      0.044     -0.141      0.888      -0.093       0.081\n",
      "brand_name_Panasonic     -0.0099      0.063     -0.159      0.874      -0.133       0.113\n",
      "brand_name_Realme         0.1500      0.068      2.211      0.027       0.017       0.283\n",
      "brand_name_Samsung       -0.0410      0.046     -0.898      0.369      -0.130       0.048\n",
      "brand_name_Sony          -0.0846      0.053     -1.598      0.110      -0.188       0.019\n",
      "brand_name_Spice          0.0665      0.074      0.902      0.367      -0.078       0.211\n",
      "brand_name_Vivo          -0.0561      0.053     -1.068      0.286      -0.159       0.047\n",
      "brand_name_XOLO          -0.0544      0.061     -0.892      0.373      -0.174       0.065\n",
      "brand_name_Xiaomi         0.0804      0.051      1.583      0.114      -0.019       0.180\n",
      "brand_name_ZTE           -0.0304      0.050     -0.611      0.541      -0.128       0.067\n",
      "os_Others                 0.2821      0.036      7.877      0.000       0.212       0.352\n",
      "os_Windows               -0.0127      0.050     -0.251      0.802      -0.111       0.086\n",
      "os_iOS                    1.0074      0.193      5.231      0.000       0.630       1.385\n",
      "4g_yes                    0.0924      0.016      5.621      0.000       0.060       0.125\n",
      "5g_yes                    0.1174      0.035      3.343      0.001       0.049       0.186\n",
      "==============================================================================\n",
      "Omnibus:                      146.364   Durbin-Watson:                   2.032\n",
      "Prob(Omnibus):                  0.000   Jarque-Bera (JB):              497.949\n",
      "Skew:                           0.224   Prob(JB):                    7.44e-109\n",
      "Kurtosis:                       5.178   Cond. No.                     1.83e+05\n",
      "==============================================================================\n",
      "\n",
      "Notes:\n",
      "[1] Standard Errors assume that the covariance matrix of the errors is correctly specified.\n",
      "[2] The condition number is large, 1.83e+05. This might indicate that there are\n",
      "strong multicollinearity or other numerical problems.\n"
     ]
    },
    {
     "data": {
      "application/javascript": [
       "\n",
       "            setTimeout(function() {\n",
       "                var nbb_cell_id = 274;\n",
       "                var nbb_unformatted_code = \"olsmodel = sm.OLS(y_train, x_train).fit()\\nprint(olsmodel.summary())\";\n",
       "                var nbb_formatted_code = \"olsmodel = sm.OLS(y_train, x_train).fit()\\nprint(olsmodel.summary())\";\n",
       "                var nbb_cells = Jupyter.notebook.get_cells();\n",
       "                for (var i = 0; i < nbb_cells.length; ++i) {\n",
       "                    if (nbb_cells[i].input_prompt_number == nbb_cell_id) {\n",
       "                        if (nbb_cells[i].get_text() == nbb_unformatted_code) {\n",
       "                             nbb_cells[i].set_text(nbb_formatted_code);\n",
       "                        }\n",
       "                        break;\n",
       "                    }\n",
       "                }\n",
       "            }, 500);\n",
       "            "
      ],
      "text/plain": [
       "<IPython.core.display.Javascript object>"
      ]
     },
     "metadata": {},
     "output_type": "display_data"
    },
    {
     "data": {
      "application/javascript": [
       "\n",
       "            setTimeout(function() {\n",
       "                var nbb_cell_id = 274;\n",
       "                var nbb_unformatted_code = \"olsmodel = sm.OLS(y_train, x_train).fit()\\nprint(olsmodel.summary())\";\n",
       "                var nbb_formatted_code = \"olsmodel = sm.OLS(y_train, x_train).fit()\\nprint(olsmodel.summary())\";\n",
       "                var nbb_cells = Jupyter.notebook.get_cells();\n",
       "                for (var i = 0; i < nbb_cells.length; ++i) {\n",
       "                    if (nbb_cells[i].input_prompt_number == nbb_cell_id) {\n",
       "                        if (nbb_cells[i].get_text() == nbb_unformatted_code) {\n",
       "                             nbb_cells[i].set_text(nbb_formatted_code);\n",
       "                        }\n",
       "                        break;\n",
       "                    }\n",
       "                }\n",
       "            }, 500);\n",
       "            "
      ],
      "text/plain": [
       "<IPython.core.display.Javascript object>"
      ]
     },
     "metadata": {},
     "output_type": "display_data"
    }
   ],
   "source": [
    "olsmodel = sm.OLS(y_train, x_train).fit()\n",
    "print(olsmodel.summary())"
   ]
  },
  {
   "cell_type": "markdown",
   "metadata": {},
   "source": [
    "### Interpretation of Regression Results"
   ]
  },
  {
   "cell_type": "markdown",
   "metadata": {},
   "source": [
    "\n",
    "1. The ADjusted R-squared how good the fit of the model is. The value **Adjusted. R-squared**: It reflects the fit of the model. Its values ranges from 0 to 1.\n",
    "* For this model, the value of the adjusted R-squared is 0.755, indicating a good fit for our model.\n",
    " \n",
    " 2. The const coefficient is the value of the Y-intercept\n",
    " * It is the output when all the predictor variable coefficents are equal to zero. \n",
    " * For this model, the 'const' term is 1.6867.\n",
    " 3. The Coefficient of a predictor variable is the change in the output caused by a change in a predictor variable, while every other predictors are held constant.\n",
    " * For this model, the coefficient of 'main_camera_mp' for instance is 0.0229.\n",
    "\n",
    "\n"
   ]
  },
  {
   "cell_type": "code",
   "execution_count": null,
   "metadata": {},
   "outputs": [],
   "source": []
  },
  {
   "cell_type": "markdown",
   "metadata": {
    "id": "jvoU3F6oMKti"
   },
   "source": [
    "## Model Performance Check"
   ]
  },
  {
   "cell_type": "code",
   "execution_count": 275,
   "metadata": {},
   "outputs": [
    {
     "data": {
      "application/javascript": [
       "\n",
       "            setTimeout(function() {\n",
       "                var nbb_cell_id = 275;\n",
       "                var nbb_unformatted_code = \"# Function for computing adjusted R-squared\\ndef adj_r2_score(predictors, targets, predictions):\\n    r2 = r2_score(targets, predictions)\\n    n = predictors.shape[0]\\n    k = predictors.shape[1]\\n    return 1 - ((1 - r2) * (n - 1) / (n - k - 1))\\n\\n\\n# Function for computing MAPE\\ndef mape_score(targets, predictions):\\n    return np.mean(np.abs(targets - predictions) / targets) * 100\\n\\n\\n# Function for computing different metrics to check performance of a regression model\\ndef model_performance_regression(model, predictors, target):\\n    \\\"\\\"\\\"\\n    Function for computing different metrics to check regression model performance\\n\\n    model: regressor\\n    predictors: independent variables\\n    target: dependent variable\\n    \\\"\\\"\\\"\\n\\n    # predicting using the independent variables\\n    pred = model.predict(predictors)\\n\\n    r2 = r2_score(target, pred)  # computation of R-squared\\n    adjr2 = adj_r2_score(predictors, target, pred)  # computation of adjusted R-squared\\n    rmse = np.sqrt(mean_squared_error(target, pred))  # computation of compute RMSE\\n    mae = mean_absolute_error(target, pred)  # computation of MAE\\n    mape = mape_score(target, pred)  # tcomputation of MAPE\\n\\n    # creating a dataframe of metrics\\n    df_perf = pd.DataFrame(\\n        {\\n            \\\"RMSE\\\": rmse,\\n            \\\"MAE\\\": mae,\\n            \\\"R-squared\\\": r2,\\n            \\\"Adj. R-squared\\\": adjr2,\\n            \\\"MAPE\\\": mape,\\n        },\\n        index=[0],\\n    )\\n\\n    return df_perf\";\n",
       "                var nbb_formatted_code = \"# Function for computing adjusted R-squared\\ndef adj_r2_score(predictors, targets, predictions):\\n    r2 = r2_score(targets, predictions)\\n    n = predictors.shape[0]\\n    k = predictors.shape[1]\\n    return 1 - ((1 - r2) * (n - 1) / (n - k - 1))\\n\\n\\n# Function for computing MAPE\\ndef mape_score(targets, predictions):\\n    return np.mean(np.abs(targets - predictions) / targets) * 100\\n\\n\\n# Function for computing different metrics to check performance of a regression model\\ndef model_performance_regression(model, predictors, target):\\n    \\\"\\\"\\\"\\n    Function for computing different metrics to check regression model performance\\n\\n    model: regressor\\n    predictors: independent variables\\n    target: dependent variable\\n    \\\"\\\"\\\"\\n\\n    # predicting using the independent variables\\n    pred = model.predict(predictors)\\n\\n    r2 = r2_score(target, pred)  # computation of R-squared\\n    adjr2 = adj_r2_score(predictors, target, pred)  # computation of adjusted R-squared\\n    rmse = np.sqrt(mean_squared_error(target, pred))  # computation of compute RMSE\\n    mae = mean_absolute_error(target, pred)  # computation of MAE\\n    mape = mape_score(target, pred)  # tcomputation of MAPE\\n\\n    # creating a dataframe of metrics\\n    df_perf = pd.DataFrame(\\n        {\\n            \\\"RMSE\\\": rmse,\\n            \\\"MAE\\\": mae,\\n            \\\"R-squared\\\": r2,\\n            \\\"Adj. R-squared\\\": adjr2,\\n            \\\"MAPE\\\": mape,\\n        },\\n        index=[0],\\n    )\\n\\n    return df_perf\";\n",
       "                var nbb_cells = Jupyter.notebook.get_cells();\n",
       "                for (var i = 0; i < nbb_cells.length; ++i) {\n",
       "                    if (nbb_cells[i].input_prompt_number == nbb_cell_id) {\n",
       "                        if (nbb_cells[i].get_text() == nbb_unformatted_code) {\n",
       "                             nbb_cells[i].set_text(nbb_formatted_code);\n",
       "                        }\n",
       "                        break;\n",
       "                    }\n",
       "                }\n",
       "            }, 500);\n",
       "            "
      ],
      "text/plain": [
       "<IPython.core.display.Javascript object>"
      ]
     },
     "metadata": {},
     "output_type": "display_data"
    },
    {
     "data": {
      "application/javascript": [
       "\n",
       "            setTimeout(function() {\n",
       "                var nbb_cell_id = 275;\n",
       "                var nbb_unformatted_code = \"# Function for computing adjusted R-squared\\ndef adj_r2_score(predictors, targets, predictions):\\n    r2 = r2_score(targets, predictions)\\n    n = predictors.shape[0]\\n    k = predictors.shape[1]\\n    return 1 - ((1 - r2) * (n - 1) / (n - k - 1))\\n\\n\\n# Function for computing MAPE\\ndef mape_score(targets, predictions):\\n    return np.mean(np.abs(targets - predictions) / targets) * 100\\n\\n\\n# Function for computing different metrics to check performance of a regression model\\ndef model_performance_regression(model, predictors, target):\\n    \\\"\\\"\\\"\\n    Function for computing different metrics to check regression model performance\\n\\n    model: regressor\\n    predictors: independent variables\\n    target: dependent variable\\n    \\\"\\\"\\\"\\n\\n    # predicting using the independent variables\\n    pred = model.predict(predictors)\\n\\n    r2 = r2_score(target, pred)  # computation of R-squared\\n    adjr2 = adj_r2_score(predictors, target, pred)  # computation of adjusted R-squared\\n    rmse = np.sqrt(mean_squared_error(target, pred))  # computation of compute RMSE\\n    mae = mean_absolute_error(target, pred)  # computation of MAE\\n    mape = mape_score(target, pred)  # tcomputation of MAPE\\n\\n    # creating a dataframe of metrics\\n    df_perf = pd.DataFrame(\\n        {\\n            \\\"RMSE\\\": rmse,\\n            \\\"MAE\\\": mae,\\n            \\\"R-squared\\\": r2,\\n            \\\"Adj. R-squared\\\": adjr2,\\n            \\\"MAPE\\\": mape,\\n        },\\n        index=[0],\\n    )\\n\\n    return df_perf\";\n",
       "                var nbb_formatted_code = \"# Function for computing adjusted R-squared\\ndef adj_r2_score(predictors, targets, predictions):\\n    r2 = r2_score(targets, predictions)\\n    n = predictors.shape[0]\\n    k = predictors.shape[1]\\n    return 1 - ((1 - r2) * (n - 1) / (n - k - 1))\\n\\n\\n# Function for computing MAPE\\ndef mape_score(targets, predictions):\\n    return np.mean(np.abs(targets - predictions) / targets) * 100\\n\\n\\n# Function for computing different metrics to check performance of a regression model\\ndef model_performance_regression(model, predictors, target):\\n    \\\"\\\"\\\"\\n    Function for computing different metrics to check regression model performance\\n\\n    model: regressor\\n    predictors: independent variables\\n    target: dependent variable\\n    \\\"\\\"\\\"\\n\\n    # predicting using the independent variables\\n    pred = model.predict(predictors)\\n\\n    r2 = r2_score(target, pred)  # computation of R-squared\\n    adjr2 = adj_r2_score(predictors, target, pred)  # computation of adjusted R-squared\\n    rmse = np.sqrt(mean_squared_error(target, pred))  # computation of compute RMSE\\n    mae = mean_absolute_error(target, pred)  # computation of MAE\\n    mape = mape_score(target, pred)  # tcomputation of MAPE\\n\\n    # creating a dataframe of metrics\\n    df_perf = pd.DataFrame(\\n        {\\n            \\\"RMSE\\\": rmse,\\n            \\\"MAE\\\": mae,\\n            \\\"R-squared\\\": r2,\\n            \\\"Adj. R-squared\\\": adjr2,\\n            \\\"MAPE\\\": mape,\\n        },\\n        index=[0],\\n    )\\n\\n    return df_perf\";\n",
       "                var nbb_cells = Jupyter.notebook.get_cells();\n",
       "                for (var i = 0; i < nbb_cells.length; ++i) {\n",
       "                    if (nbb_cells[i].input_prompt_number == nbb_cell_id) {\n",
       "                        if (nbb_cells[i].get_text() == nbb_unformatted_code) {\n",
       "                             nbb_cells[i].set_text(nbb_formatted_code);\n",
       "                        }\n",
       "                        break;\n",
       "                    }\n",
       "                }\n",
       "            }, 500);\n",
       "            "
      ],
      "text/plain": [
       "<IPython.core.display.Javascript object>"
      ]
     },
     "metadata": {},
     "output_type": "display_data"
    }
   ],
   "source": [
    "# Function for computing adjusted R-squared\n",
    "def adj_r2_score(predictors, targets, predictions):\n",
    "    r2 = r2_score(targets, predictions)\n",
    "    n = predictors.shape[0]\n",
    "    k = predictors.shape[1]\n",
    "    return 1 - ((1 - r2) * (n - 1) / (n - k - 1))\n",
    "\n",
    "\n",
    "# Function for computing MAPE\n",
    "def mape_score(targets, predictions):\n",
    "    return np.mean(np.abs(targets - predictions) / targets) * 100\n",
    "\n",
    "\n",
    "# Function for computing different metrics to check performance of a regression model\n",
    "def model_performance_regression(model, predictors, target):\n",
    "    \"\"\"\n",
    "    Function for computing different metrics to check regression model performance\n",
    "\n",
    "    model: regressor\n",
    "    predictors: independent variables\n",
    "    target: dependent variable\n",
    "    \"\"\"\n",
    "\n",
    "    # predicting using the independent variables\n",
    "    pred = model.predict(predictors)\n",
    "\n",
    "    r2 = r2_score(target, pred)  # computation of R-squared\n",
    "    adjr2 = adj_r2_score(predictors, target, pred)  # computation of adjusted R-squared\n",
    "    rmse = np.sqrt(mean_squared_error(target, pred))  # computation of compute RMSE\n",
    "    mae = mean_absolute_error(target, pred)  # computation of MAE\n",
    "    mape = mape_score(target, pred)  # tcomputation of MAPE\n",
    "\n",
    "    # creating a dataframe of metrics\n",
    "    df_perf = pd.DataFrame(\n",
    "        {\n",
    "            \"RMSE\": rmse,\n",
    "            \"MAE\": mae,\n",
    "            \"R-squared\": r2,\n",
    "            \"Adj. R-squared\": adjr2,\n",
    "            \"MAPE\": mape,\n",
    "        },\n",
    "        index=[0],\n",
    "    )\n",
    "\n",
    "    return df_perf"
   ]
  },
  {
   "cell_type": "code",
   "execution_count": 276,
   "metadata": {},
   "outputs": [
    {
     "name": "stdout",
     "output_type": "stream",
     "text": [
      "Training Performance\n",
      "\n"
     ]
    },
    {
     "data": {
      "text/html": [
       "<div>\n",
       "<style scoped>\n",
       "    .dataframe tbody tr th:only-of-type {\n",
       "        vertical-align: middle;\n",
       "    }\n",
       "\n",
       "    .dataframe tbody tr th {\n",
       "        vertical-align: top;\n",
       "    }\n",
       "\n",
       "    .dataframe thead th {\n",
       "        text-align: right;\n",
       "    }\n",
       "</style>\n",
       "<table border=\"1\" class=\"dataframe\">\n",
       "  <thead>\n",
       "    <tr style=\"text-align: right;\">\n",
       "      <th></th>\n",
       "      <th>RMSE</th>\n",
       "      <th>MAE</th>\n",
       "      <th>R-squared</th>\n",
       "      <th>Adj. R-squared</th>\n",
       "      <th>MAPE</th>\n",
       "    </tr>\n",
       "  </thead>\n",
       "  <tbody>\n",
       "    <tr>\n",
       "      <th>0</th>\n",
       "      <td>0.252219</td>\n",
       "      <td>0.19142</td>\n",
       "      <td>0.760076</td>\n",
       "      <td>0.755213</td>\n",
       "      <td>4.442315</td>\n",
       "    </tr>\n",
       "  </tbody>\n",
       "</table>\n",
       "</div>"
      ],
      "text/plain": [
       "       RMSE      MAE  R-squared  Adj. R-squared      MAPE\n",
       "0  0.252219  0.19142   0.760076        0.755213  4.442315"
      ]
     },
     "execution_count": 276,
     "metadata": {},
     "output_type": "execute_result"
    },
    {
     "data": {
      "application/javascript": [
       "\n",
       "            setTimeout(function() {\n",
       "                var nbb_cell_id = 276;\n",
       "                var nbb_unformatted_code = \"# check model performance on train set\\nprint(\\\"Training Performance\\\\n\\\")\\nolsmodel_train_perf = model_performance_regression(olsmodel, x_train, y_train)\\nolsmodel_train_perf\";\n",
       "                var nbb_formatted_code = \"# check model performance on train set\\nprint(\\\"Training Performance\\\\n\\\")\\nolsmodel_train_perf = model_performance_regression(olsmodel, x_train, y_train)\\nolsmodel_train_perf\";\n",
       "                var nbb_cells = Jupyter.notebook.get_cells();\n",
       "                for (var i = 0; i < nbb_cells.length; ++i) {\n",
       "                    if (nbb_cells[i].input_prompt_number == nbb_cell_id) {\n",
       "                        if (nbb_cells[i].get_text() == nbb_unformatted_code) {\n",
       "                             nbb_cells[i].set_text(nbb_formatted_code);\n",
       "                        }\n",
       "                        break;\n",
       "                    }\n",
       "                }\n",
       "            }, 500);\n",
       "            "
      ],
      "text/plain": [
       "<IPython.core.display.Javascript object>"
      ]
     },
     "metadata": {},
     "output_type": "display_data"
    },
    {
     "data": {
      "application/javascript": [
       "\n",
       "            setTimeout(function() {\n",
       "                var nbb_cell_id = 276;\n",
       "                var nbb_unformatted_code = \"# check model performance on train set\\nprint(\\\"Training Performance\\\\n\\\")\\nolsmodel_train_perf = model_performance_regression(olsmodel, x_train, y_train)\\nolsmodel_train_perf\";\n",
       "                var nbb_formatted_code = \"# check model performance on train set\\nprint(\\\"Training Performance\\\\n\\\")\\nolsmodel_train_perf = model_performance_regression(olsmodel, x_train, y_train)\\nolsmodel_train_perf\";\n",
       "                var nbb_cells = Jupyter.notebook.get_cells();\n",
       "                for (var i = 0; i < nbb_cells.length; ++i) {\n",
       "                    if (nbb_cells[i].input_prompt_number == nbb_cell_id) {\n",
       "                        if (nbb_cells[i].get_text() == nbb_unformatted_code) {\n",
       "                             nbb_cells[i].set_text(nbb_formatted_code);\n",
       "                        }\n",
       "                        break;\n",
       "                    }\n",
       "                }\n",
       "            }, 500);\n",
       "            "
      ],
      "text/plain": [
       "<IPython.core.display.Javascript object>"
      ]
     },
     "metadata": {},
     "output_type": "display_data"
    }
   ],
   "source": [
    "# check model performance on train set\n",
    "print(\"Training Performance\\n\")\n",
    "olsmodel_train_perf = model_performance_regression(olsmodel, x_train, y_train)\n",
    "olsmodel_train_perf"
   ]
  },
  {
   "cell_type": "code",
   "execution_count": 277,
   "metadata": {},
   "outputs": [
    {
     "name": "stdout",
     "output_type": "stream",
     "text": [
      "Test Performance\n",
      "\n"
     ]
    },
    {
     "data": {
      "text/html": [
       "<div>\n",
       "<style scoped>\n",
       "    .dataframe tbody tr th:only-of-type {\n",
       "        vertical-align: middle;\n",
       "    }\n",
       "\n",
       "    .dataframe tbody tr th {\n",
       "        vertical-align: top;\n",
       "    }\n",
       "\n",
       "    .dataframe thead th {\n",
       "        text-align: right;\n",
       "    }\n",
       "</style>\n",
       "<table border=\"1\" class=\"dataframe\">\n",
       "  <thead>\n",
       "    <tr style=\"text-align: right;\">\n",
       "      <th></th>\n",
       "      <th>RMSE</th>\n",
       "      <th>MAE</th>\n",
       "      <th>R-squared</th>\n",
       "      <th>Adj. R-squared</th>\n",
       "      <th>MAPE</th>\n",
       "    </tr>\n",
       "  </thead>\n",
       "  <tbody>\n",
       "    <tr>\n",
       "      <th>0</th>\n",
       "      <td>0.258452</td>\n",
       "      <td>0.198666</td>\n",
       "      <td>0.750977</td>\n",
       "      <td>0.738879</td>\n",
       "      <td>4.619929</td>\n",
       "    </tr>\n",
       "  </tbody>\n",
       "</table>\n",
       "</div>"
      ],
      "text/plain": [
       "       RMSE       MAE  R-squared  Adj. R-squared      MAPE\n",
       "0  0.258452  0.198666   0.750977        0.738879  4.619929"
      ]
     },
     "execution_count": 277,
     "metadata": {},
     "output_type": "execute_result"
    },
    {
     "data": {
      "application/javascript": [
       "\n",
       "            setTimeout(function() {\n",
       "                var nbb_cell_id = 277;\n",
       "                var nbb_unformatted_code = \"# check model performance on test set\\nprint(\\\"Test Performance\\\\n\\\")\\nolsmodel_test_perf = model_performance_regression(olsmodel, x_test, y_test)\\nolsmodel_test_perf\";\n",
       "                var nbb_formatted_code = \"# check model performance on test set\\nprint(\\\"Test Performance\\\\n\\\")\\nolsmodel_test_perf = model_performance_regression(olsmodel, x_test, y_test)\\nolsmodel_test_perf\";\n",
       "                var nbb_cells = Jupyter.notebook.get_cells();\n",
       "                for (var i = 0; i < nbb_cells.length; ++i) {\n",
       "                    if (nbb_cells[i].input_prompt_number == nbb_cell_id) {\n",
       "                        if (nbb_cells[i].get_text() == nbb_unformatted_code) {\n",
       "                             nbb_cells[i].set_text(nbb_formatted_code);\n",
       "                        }\n",
       "                        break;\n",
       "                    }\n",
       "                }\n",
       "            }, 500);\n",
       "            "
      ],
      "text/plain": [
       "<IPython.core.display.Javascript object>"
      ]
     },
     "metadata": {},
     "output_type": "display_data"
    },
    {
     "data": {
      "application/javascript": [
       "\n",
       "            setTimeout(function() {\n",
       "                var nbb_cell_id = 277;\n",
       "                var nbb_unformatted_code = \"# check model performance on test set\\nprint(\\\"Test Performance\\\\n\\\")\\nolsmodel_test_perf = model_performance_regression(olsmodel, x_test, y_test)\\nolsmodel_test_perf\";\n",
       "                var nbb_formatted_code = \"# check model performance on test set\\nprint(\\\"Test Performance\\\\n\\\")\\nolsmodel_test_perf = model_performance_regression(olsmodel, x_test, y_test)\\nolsmodel_test_perf\";\n",
       "                var nbb_cells = Jupyter.notebook.get_cells();\n",
       "                for (var i = 0; i < nbb_cells.length; ++i) {\n",
       "                    if (nbb_cells[i].input_prompt_number == nbb_cell_id) {\n",
       "                        if (nbb_cells[i].get_text() == nbb_unformatted_code) {\n",
       "                             nbb_cells[i].set_text(nbb_formatted_code);\n",
       "                        }\n",
       "                        break;\n",
       "                    }\n",
       "                }\n",
       "            }, 500);\n",
       "            "
      ],
      "text/plain": [
       "<IPython.core.display.Javascript object>"
      ]
     },
     "metadata": {},
     "output_type": "display_data"
    }
   ],
   "source": [
    "# check model performance on test set\n",
    "print(\"Test Performance\\n\")\n",
    "olsmodel_test_perf = model_performance_regression(olsmodel, x_test, y_test)\n",
    "olsmodel_test_perf"
   ]
  },
  {
   "cell_type": "code",
   "execution_count": null,
   "metadata": {},
   "outputs": [],
   "source": []
  },
  {
   "cell_type": "markdown",
   "metadata": {
    "id": "a9GxSQf-qH8e"
   },
   "source": [
    "## Checking Linear Regression Assumptions"
   ]
  },
  {
   "cell_type": "markdown",
   "metadata": {
    "id": "UdGv3pQF50xP"
   },
   "source": [
    "- In order to make statistical inferences from a linear regression model, it is important to ensure that the assumptions of linear regression are satisfied."
   ]
  },
  {
   "cell_type": "markdown",
   "metadata": {},
   "source": [
    "The following Linear Regression assumptions willl checked critically:\n",
    "\n",
    "1. No Multicollinearity\n",
    "\n",
    "2. Linearity of variables\n",
    "\n",
    "3. Independence of error terms\n",
    "\n",
    "4. Normality of error terms\n",
    "\n",
    "5. No Heteroscedasticity"
   ]
  },
  {
   "cell_type": "code",
   "execution_count": null,
   "metadata": {},
   "outputs": [],
   "source": []
  },
  {
   "cell_type": "markdown",
   "metadata": {},
   "source": [
    "## Check for multicollinearity"
   ]
  },
  {
   "cell_type": "markdown",
   "metadata": {},
   "source": [
    "* Multicollinearity occurs when the predictor variables are correlated with each other. It can lead to unreliable values for the model coefficients. \n",
    "\n",
    "* Multicollineairy will be checked for this model using Variance  Inflation Factor (VIF).\n",
    "\n",
    "* The general rule of thumb for multicollinearity is:\n",
    "    - If VIF is between 1 and 5, then there is low multicollinearity.\n",
    "    - If VIF is between 5 and 10, we say there is moderate multicollinearity.\n",
    "    - If VIF is exceeding 10, it shows signs of high multicollinearity."
   ]
  },
  {
   "cell_type": "markdown",
   "metadata": {},
   "source": [
    " ### Define a function to check VIF."
   ]
  },
  {
   "cell_type": "code",
   "execution_count": 278,
   "metadata": {},
   "outputs": [
    {
     "data": {
      "application/javascript": [
       "\n",
       "            setTimeout(function() {\n",
       "                var nbb_cell_id = 278;\n",
       "                var nbb_unformatted_code = \"from statsmodels.stats.outliers_influence import variance_inflation_factor\\n\\n\\ndef vif_check(predictors):\\n    vif = pd.DataFrame()\\n    vif[\\\"feature\\\"] = predictors.columns\\n\\n    # Computing VIF for each feature\\n    vif[\\\"VIF\\\"] = [\\n        variance_inflation_factor(predictors.values, i)\\n        for i in range(len(predictors.columns))\\n    ]\\n    return vif\";\n",
       "                var nbb_formatted_code = \"from statsmodels.stats.outliers_influence import variance_inflation_factor\\n\\n\\ndef vif_check(predictors):\\n    vif = pd.DataFrame()\\n    vif[\\\"feature\\\"] = predictors.columns\\n\\n    # Computing VIF for each feature\\n    vif[\\\"VIF\\\"] = [\\n        variance_inflation_factor(predictors.values, i)\\n        for i in range(len(predictors.columns))\\n    ]\\n    return vif\";\n",
       "                var nbb_cells = Jupyter.notebook.get_cells();\n",
       "                for (var i = 0; i < nbb_cells.length; ++i) {\n",
       "                    if (nbb_cells[i].input_prompt_number == nbb_cell_id) {\n",
       "                        if (nbb_cells[i].get_text() == nbb_unformatted_code) {\n",
       "                             nbb_cells[i].set_text(nbb_formatted_code);\n",
       "                        }\n",
       "                        break;\n",
       "                    }\n",
       "                }\n",
       "            }, 500);\n",
       "            "
      ],
      "text/plain": [
       "<IPython.core.display.Javascript object>"
      ]
     },
     "metadata": {},
     "output_type": "display_data"
    },
    {
     "data": {
      "application/javascript": [
       "\n",
       "            setTimeout(function() {\n",
       "                var nbb_cell_id = 278;\n",
       "                var nbb_unformatted_code = \"from statsmodels.stats.outliers_influence import variance_inflation_factor\\n\\n\\ndef vif_check(predictors):\\n    vif = pd.DataFrame()\\n    vif[\\\"feature\\\"] = predictors.columns\\n\\n    # Computing VIF for each feature\\n    vif[\\\"VIF\\\"] = [\\n        variance_inflation_factor(predictors.values, i)\\n        for i in range(len(predictors.columns))\\n    ]\\n    return vif\";\n",
       "                var nbb_formatted_code = \"from statsmodels.stats.outliers_influence import variance_inflation_factor\\n\\n\\ndef vif_check(predictors):\\n    vif = pd.DataFrame()\\n    vif[\\\"feature\\\"] = predictors.columns\\n\\n    # Computing VIF for each feature\\n    vif[\\\"VIF\\\"] = [\\n        variance_inflation_factor(predictors.values, i)\\n        for i in range(len(predictors.columns))\\n    ]\\n    return vif\";\n",
       "                var nbb_cells = Jupyter.notebook.get_cells();\n",
       "                for (var i = 0; i < nbb_cells.length; ++i) {\n",
       "                    if (nbb_cells[i].input_prompt_number == nbb_cell_id) {\n",
       "                        if (nbb_cells[i].get_text() == nbb_unformatted_code) {\n",
       "                             nbb_cells[i].set_text(nbb_formatted_code);\n",
       "                        }\n",
       "                        break;\n",
       "                    }\n",
       "                }\n",
       "            }, 500);\n",
       "            "
      ],
      "text/plain": [
       "<IPython.core.display.Javascript object>"
      ]
     },
     "metadata": {},
     "output_type": "display_data"
    }
   ],
   "source": [
    "from statsmodels.stats.outliers_influence import variance_inflation_factor\n",
    "\n",
    "\n",
    "def vif_check(predictors):\n",
    "    vif = pd.DataFrame()\n",
    "    vif[\"feature\"] = predictors.columns\n",
    "\n",
    "    # Computing VIF for each feature\n",
    "    vif[\"VIF\"] = [\n",
    "        variance_inflation_factor(predictors.values, i)\n",
    "        for i in range(len(predictors.columns))\n",
    "    ]\n",
    "    return vif"
   ]
  },
  {
   "cell_type": "code",
   "execution_count": 236,
   "metadata": {},
   "outputs": [
    {
     "data": {
      "text/html": [
       "<div>\n",
       "<style scoped>\n",
       "    .dataframe tbody tr th:only-of-type {\n",
       "        vertical-align: middle;\n",
       "    }\n",
       "\n",
       "    .dataframe tbody tr th {\n",
       "        vertical-align: top;\n",
       "    }\n",
       "\n",
       "    .dataframe thead th {\n",
       "        text-align: right;\n",
       "    }\n",
       "</style>\n",
       "<table border=\"1\" class=\"dataframe\">\n",
       "  <thead>\n",
       "    <tr style=\"text-align: right;\">\n",
       "      <th></th>\n",
       "      <th>feature</th>\n",
       "      <th>VIF</th>\n",
       "    </tr>\n",
       "  </thead>\n",
       "  <tbody>\n",
       "    <tr>\n",
       "      <th>0</th>\n",
       "      <td>screen_size</td>\n",
       "      <td>6.965142</td>\n",
       "    </tr>\n",
       "    <tr>\n",
       "      <th>1</th>\n",
       "      <td>main_camera_mp</td>\n",
       "      <td>2.324028</td>\n",
       "    </tr>\n",
       "    <tr>\n",
       "      <th>2</th>\n",
       "      <td>selfie_camera_mp</td>\n",
       "      <td>2.223084</td>\n",
       "    </tr>\n",
       "    <tr>\n",
       "      <th>3</th>\n",
       "      <td>int_memory</td>\n",
       "      <td>1.986381</td>\n",
       "    </tr>\n",
       "    <tr>\n",
       "      <th>4</th>\n",
       "      <td>ram</td>\n",
       "      <td>218.571592</td>\n",
       "    </tr>\n",
       "    <tr>\n",
       "      <th>5</th>\n",
       "      <td>battery</td>\n",
       "      <td>4.256956</td>\n",
       "    </tr>\n",
       "    <tr>\n",
       "      <th>6</th>\n",
       "      <td>weight</td>\n",
       "      <td>5.423611</td>\n",
       "    </tr>\n",
       "    <tr>\n",
       "      <th>7</th>\n",
       "      <td>days_used</td>\n",
       "      <td>1.875803</td>\n",
       "    </tr>\n",
       "    <tr>\n",
       "      <th>8</th>\n",
       "      <td>normalized_new_price</td>\n",
       "      <td>2.304019</td>\n",
       "    </tr>\n",
       "    <tr>\n",
       "      <th>9</th>\n",
       "      <td>brand_name_Alcatel</td>\n",
       "      <td>3.375252</td>\n",
       "    </tr>\n",
       "    <tr>\n",
       "      <th>10</th>\n",
       "      <td>brand_name_Apple</td>\n",
       "      <td>15.539544</td>\n",
       "    </tr>\n",
       "    <tr>\n",
       "      <th>11</th>\n",
       "      <td>brand_name_Asus</td>\n",
       "      <td>3.350305</td>\n",
       "    </tr>\n",
       "    <tr>\n",
       "      <th>12</th>\n",
       "      <td>brand_name_BlackBerry</td>\n",
       "      <td>1.572254</td>\n",
       "    </tr>\n",
       "    <tr>\n",
       "      <th>13</th>\n",
       "      <td>brand_name_Celkon</td>\n",
       "      <td>1.718926</td>\n",
       "    </tr>\n",
       "    <tr>\n",
       "      <th>14</th>\n",
       "      <td>brand_name_Coolpad</td>\n",
       "      <td>1.480057</td>\n",
       "    </tr>\n",
       "    <tr>\n",
       "      <th>15</th>\n",
       "      <td>brand_name_Gionee</td>\n",
       "      <td>2.186364</td>\n",
       "    </tr>\n",
       "    <tr>\n",
       "      <th>16</th>\n",
       "      <td>brand_name_Google</td>\n",
       "      <td>1.377005</td>\n",
       "    </tr>\n",
       "    <tr>\n",
       "      <th>17</th>\n",
       "      <td>brand_name_HTC</td>\n",
       "      <td>2.909542</td>\n",
       "    </tr>\n",
       "    <tr>\n",
       "      <th>18</th>\n",
       "      <td>brand_name_Honor</td>\n",
       "      <td>3.276141</td>\n",
       "    </tr>\n",
       "    <tr>\n",
       "      <th>19</th>\n",
       "      <td>brand_name_Huawei</td>\n",
       "      <td>5.577352</td>\n",
       "    </tr>\n",
       "    <tr>\n",
       "      <th>20</th>\n",
       "      <td>brand_name_Infinix</td>\n",
       "      <td>1.293942</td>\n",
       "    </tr>\n",
       "    <tr>\n",
       "      <th>21</th>\n",
       "      <td>brand_name_Karbonn</td>\n",
       "      <td>1.527321</td>\n",
       "    </tr>\n",
       "    <tr>\n",
       "      <th>22</th>\n",
       "      <td>brand_name_LG</td>\n",
       "      <td>4.507774</td>\n",
       "    </tr>\n",
       "    <tr>\n",
       "      <th>23</th>\n",
       "      <td>brand_name_Lava</td>\n",
       "      <td>1.710459</td>\n",
       "    </tr>\n",
       "    <tr>\n",
       "      <th>24</th>\n",
       "      <td>brand_name_Lenovo</td>\n",
       "      <td>4.283266</td>\n",
       "    </tr>\n",
       "    <tr>\n",
       "      <th>25</th>\n",
       "      <td>brand_name_Meizu</td>\n",
       "      <td>2.118593</td>\n",
       "    </tr>\n",
       "    <tr>\n",
       "      <th>26</th>\n",
       "      <td>brand_name_Micromax</td>\n",
       "      <td>2.839342</td>\n",
       "    </tr>\n",
       "    <tr>\n",
       "      <th>27</th>\n",
       "      <td>brand_name_Microsoft</td>\n",
       "      <td>2.016876</td>\n",
       "    </tr>\n",
       "    <tr>\n",
       "      <th>28</th>\n",
       "      <td>brand_name_Motorola</td>\n",
       "      <td>2.976487</td>\n",
       "    </tr>\n",
       "    <tr>\n",
       "      <th>29</th>\n",
       "      <td>brand_name_Nokia</td>\n",
       "      <td>3.237959</td>\n",
       "    </tr>\n",
       "    <tr>\n",
       "      <th>30</th>\n",
       "      <td>brand_name_OnePlus</td>\n",
       "      <td>1.426070</td>\n",
       "    </tr>\n",
       "    <tr>\n",
       "      <th>31</th>\n",
       "      <td>brand_name_Oppo</td>\n",
       "      <td>3.640378</td>\n",
       "    </tr>\n",
       "    <tr>\n",
       "      <th>32</th>\n",
       "      <td>brand_name_Others</td>\n",
       "      <td>8.985627</td>\n",
       "    </tr>\n",
       "    <tr>\n",
       "      <th>33</th>\n",
       "      <td>brand_name_Panasonic</td>\n",
       "      <td>1.845920</td>\n",
       "    </tr>\n",
       "    <tr>\n",
       "      <th>34</th>\n",
       "      <td>brand_name_Realme</td>\n",
       "      <td>1.752352</td>\n",
       "    </tr>\n",
       "    <tr>\n",
       "      <th>35</th>\n",
       "      <td>brand_name_Samsung</td>\n",
       "      <td>6.772992</td>\n",
       "    </tr>\n",
       "    <tr>\n",
       "      <th>36</th>\n",
       "      <td>brand_name_Sony</td>\n",
       "      <td>2.892811</td>\n",
       "    </tr>\n",
       "    <tr>\n",
       "      <th>37</th>\n",
       "      <td>brand_name_Spice</td>\n",
       "      <td>1.499350</td>\n",
       "    </tr>\n",
       "    <tr>\n",
       "      <th>38</th>\n",
       "      <td>brand_name_Vivo</td>\n",
       "      <td>3.173315</td>\n",
       "    </tr>\n",
       "    <tr>\n",
       "      <th>39</th>\n",
       "      <td>brand_name_XOLO</td>\n",
       "      <td>1.924207</td>\n",
       "    </tr>\n",
       "    <tr>\n",
       "      <th>40</th>\n",
       "      <td>brand_name_Xiaomi</td>\n",
       "      <td>3.556095</td>\n",
       "    </tr>\n",
       "    <tr>\n",
       "      <th>41</th>\n",
       "      <td>brand_name_ZTE</td>\n",
       "      <td>3.716920</td>\n",
       "    </tr>\n",
       "    <tr>\n",
       "      <th>42</th>\n",
       "      <td>os_Others</td>\n",
       "      <td>1.767001</td>\n",
       "    </tr>\n",
       "    <tr>\n",
       "      <th>43</th>\n",
       "      <td>os_Windows</td>\n",
       "      <td>1.759049</td>\n",
       "    </tr>\n",
       "    <tr>\n",
       "      <th>44</th>\n",
       "      <td>os_iOS</td>\n",
       "      <td>14.636167</td>\n",
       "    </tr>\n",
       "    <tr>\n",
       "      <th>45</th>\n",
       "      <td>4g_yes</td>\n",
       "      <td>2.195163</td>\n",
       "    </tr>\n",
       "    <tr>\n",
       "      <th>46</th>\n",
       "      <td>5g_yes</td>\n",
       "      <td>1.340742</td>\n",
       "    </tr>\n",
       "  </tbody>\n",
       "</table>\n",
       "</div>"
      ],
      "text/plain": [
       "                  feature         VIF\n",
       "0             screen_size    6.965142\n",
       "1          main_camera_mp    2.324028\n",
       "2        selfie_camera_mp    2.223084\n",
       "3              int_memory    1.986381\n",
       "4                     ram  218.571592\n",
       "5                 battery    4.256956\n",
       "6                  weight    5.423611\n",
       "7               days_used    1.875803\n",
       "8    normalized_new_price    2.304019\n",
       "9      brand_name_Alcatel    3.375252\n",
       "10       brand_name_Apple   15.539544\n",
       "11        brand_name_Asus    3.350305\n",
       "12  brand_name_BlackBerry    1.572254\n",
       "13      brand_name_Celkon    1.718926\n",
       "14     brand_name_Coolpad    1.480057\n",
       "15      brand_name_Gionee    2.186364\n",
       "16      brand_name_Google    1.377005\n",
       "17         brand_name_HTC    2.909542\n",
       "18       brand_name_Honor    3.276141\n",
       "19      brand_name_Huawei    5.577352\n",
       "20     brand_name_Infinix    1.293942\n",
       "21     brand_name_Karbonn    1.527321\n",
       "22          brand_name_LG    4.507774\n",
       "23        brand_name_Lava    1.710459\n",
       "24      brand_name_Lenovo    4.283266\n",
       "25       brand_name_Meizu    2.118593\n",
       "26    brand_name_Micromax    2.839342\n",
       "27   brand_name_Microsoft    2.016876\n",
       "28    brand_name_Motorola    2.976487\n",
       "29       brand_name_Nokia    3.237959\n",
       "30     brand_name_OnePlus    1.426070\n",
       "31        brand_name_Oppo    3.640378\n",
       "32      brand_name_Others    8.985627\n",
       "33   brand_name_Panasonic    1.845920\n",
       "34      brand_name_Realme    1.752352\n",
       "35     brand_name_Samsung    6.772992\n",
       "36        brand_name_Sony    2.892811\n",
       "37       brand_name_Spice    1.499350\n",
       "38        brand_name_Vivo    3.173315\n",
       "39        brand_name_XOLO    1.924207\n",
       "40      brand_name_Xiaomi    3.556095\n",
       "41         brand_name_ZTE    3.716920\n",
       "42              os_Others    1.767001\n",
       "43             os_Windows    1.759049\n",
       "44                 os_iOS   14.636167\n",
       "45                 4g_yes    2.195163\n",
       "46                 5g_yes    1.340742"
      ]
     },
     "execution_count": 236,
     "metadata": {},
     "output_type": "execute_result"
    },
    {
     "data": {
      "application/javascript": [
       "\n",
       "            setTimeout(function() {\n",
       "                var nbb_cell_id = 236;\n",
       "                var nbb_unformatted_code = \"vif_check(x_train)\";\n",
       "                var nbb_formatted_code = \"vif_check(x_train)\";\n",
       "                var nbb_cells = Jupyter.notebook.get_cells();\n",
       "                for (var i = 0; i < nbb_cells.length; ++i) {\n",
       "                    if (nbb_cells[i].input_prompt_number == nbb_cell_id) {\n",
       "                        if (nbb_cells[i].get_text() == nbb_unformatted_code) {\n",
       "                             nbb_cells[i].set_text(nbb_formatted_code);\n",
       "                        }\n",
       "                        break;\n",
       "                    }\n",
       "                }\n",
       "            }, 500);\n",
       "            "
      ],
      "text/plain": [
       "<IPython.core.display.Javascript object>"
      ]
     },
     "metadata": {},
     "output_type": "display_data"
    },
    {
     "data": {
      "application/javascript": [
       "\n",
       "            setTimeout(function() {\n",
       "                var nbb_cell_id = 236;\n",
       "                var nbb_unformatted_code = \"vif_check(x_train)\";\n",
       "                var nbb_formatted_code = \"vif_check(x_train)\";\n",
       "                var nbb_cells = Jupyter.notebook.get_cells();\n",
       "                for (var i = 0; i < nbb_cells.length; ++i) {\n",
       "                    if (nbb_cells[i].input_prompt_number == nbb_cell_id) {\n",
       "                        if (nbb_cells[i].get_text() == nbb_unformatted_code) {\n",
       "                             nbb_cells[i].set_text(nbb_formatted_code);\n",
       "                        }\n",
       "                        break;\n",
       "                    }\n",
       "                }\n",
       "            }, 500);\n",
       "            "
      ],
      "text/plain": [
       "<IPython.core.display.Javascript object>"
      ]
     },
     "metadata": {},
     "output_type": "display_data"
    }
   ],
   "source": [
    "vif_check(x_train)"
   ]
  },
  {
   "cell_type": "code",
   "execution_count": null,
   "metadata": {},
   "outputs": [],
   "source": []
  },
  {
   "cell_type": "markdown",
   "metadata": {},
   "source": [
    "### Remove multicollinearity"
   ]
  },
  {
   "cell_type": "markdown",
   "metadata": {},
   "source": [
    "1. Drop every column one by one that has a VIF score greater than 5.\n",
    "2. Look at the adjusted R-squared and RMSE of all these models.\n",
    "3. Drop the variable that makes the least change in adjusted R-squared.\n",
    "4. Check the VIF scores again.\n",
    "5. Continue till all VIF scores is under 5.\n",
    "\n",
    "Define a funtion to deal with this"
   ]
  },
  {
   "cell_type": "code",
   "execution_count": 279,
   "metadata": {},
   "outputs": [
    {
     "data": {
      "application/javascript": [
       "\n",
       "            setTimeout(function() {\n",
       "                var nbb_cell_id = 279;\n",
       "                var nbb_unformatted_code = \"def treating_multicollinearity(predictors, target, high_vif_columns):\\n    \\\"\\\"\\\"\\n    Checking the effect of dropping the columns showing high multicollinearity\\n    on model performance (adj. R-squared and RMSE)\\n\\n    predictors: independent variables\\n    target: dependent variable\\n    high_vif_columns: columns having high VIF\\n    \\\"\\\"\\\"\\n    # empty lists to store adj. R-squared and RMSE values\\n    adj_r2 = []\\n    rmse = []\\n\\n    # build ols models by dropping one of the high VIF columns at a time\\n    # store the adjusted R-squared and RMSE in the lists defined previously\\n    for cols in high_vif_columns:\\n        # defining the new train set\\n        train = predictors.loc[:, ~predictors.columns.str.startswith(cols)]\\n\\n        # create the model\\n        olsmodel = sm.OLS(target, train).fit()\\n\\n        # adding adj. R-squared and RMSE to the lists\\n        adj_r2.append(olsmodel.rsquared_adj)\\n        rmse.append(np.sqrt(olsmodel.mse_resid))\\n\\n    # creating a dataframe for the results\\n    temp = pd.DataFrame(\\n        {\\n            \\\"col\\\": high_vif_columns,\\n            \\\"Adj. R-squared after_dropping col\\\": adj_r2,\\n            \\\"RMSE after dropping col\\\": rmse,\\n        }\\n    ).sort_values(by=\\\"Adj. R-squared after_dropping col\\\", ascending=False)\\n    temp.reset_index(drop=True, inplace=True)\\n\\n    return temp\";\n",
       "                var nbb_formatted_code = \"def treating_multicollinearity(predictors, target, high_vif_columns):\\n    \\\"\\\"\\\"\\n    Checking the effect of dropping the columns showing high multicollinearity\\n    on model performance (adj. R-squared and RMSE)\\n\\n    predictors: independent variables\\n    target: dependent variable\\n    high_vif_columns: columns having high VIF\\n    \\\"\\\"\\\"\\n    # empty lists to store adj. R-squared and RMSE values\\n    adj_r2 = []\\n    rmse = []\\n\\n    # build ols models by dropping one of the high VIF columns at a time\\n    # store the adjusted R-squared and RMSE in the lists defined previously\\n    for cols in high_vif_columns:\\n        # defining the new train set\\n        train = predictors.loc[:, ~predictors.columns.str.startswith(cols)]\\n\\n        # create the model\\n        olsmodel = sm.OLS(target, train).fit()\\n\\n        # adding adj. R-squared and RMSE to the lists\\n        adj_r2.append(olsmodel.rsquared_adj)\\n        rmse.append(np.sqrt(olsmodel.mse_resid))\\n\\n    # creating a dataframe for the results\\n    temp = pd.DataFrame(\\n        {\\n            \\\"col\\\": high_vif_columns,\\n            \\\"Adj. R-squared after_dropping col\\\": adj_r2,\\n            \\\"RMSE after dropping col\\\": rmse,\\n        }\\n    ).sort_values(by=\\\"Adj. R-squared after_dropping col\\\", ascending=False)\\n    temp.reset_index(drop=True, inplace=True)\\n\\n    return temp\";\n",
       "                var nbb_cells = Jupyter.notebook.get_cells();\n",
       "                for (var i = 0; i < nbb_cells.length; ++i) {\n",
       "                    if (nbb_cells[i].input_prompt_number == nbb_cell_id) {\n",
       "                        if (nbb_cells[i].get_text() == nbb_unformatted_code) {\n",
       "                             nbb_cells[i].set_text(nbb_formatted_code);\n",
       "                        }\n",
       "                        break;\n",
       "                    }\n",
       "                }\n",
       "            }, 500);\n",
       "            "
      ],
      "text/plain": [
       "<IPython.core.display.Javascript object>"
      ]
     },
     "metadata": {},
     "output_type": "display_data"
    },
    {
     "data": {
      "application/javascript": [
       "\n",
       "            setTimeout(function() {\n",
       "                var nbb_cell_id = 279;\n",
       "                var nbb_unformatted_code = \"def treating_multicollinearity(predictors, target, high_vif_columns):\\n    \\\"\\\"\\\"\\n    Checking the effect of dropping the columns showing high multicollinearity\\n    on model performance (adj. R-squared and RMSE)\\n\\n    predictors: independent variables\\n    target: dependent variable\\n    high_vif_columns: columns having high VIF\\n    \\\"\\\"\\\"\\n    # empty lists to store adj. R-squared and RMSE values\\n    adj_r2 = []\\n    rmse = []\\n\\n    # build ols models by dropping one of the high VIF columns at a time\\n    # store the adjusted R-squared and RMSE in the lists defined previously\\n    for cols in high_vif_columns:\\n        # defining the new train set\\n        train = predictors.loc[:, ~predictors.columns.str.startswith(cols)]\\n\\n        # create the model\\n        olsmodel = sm.OLS(target, train).fit()\\n\\n        # adding adj. R-squared and RMSE to the lists\\n        adj_r2.append(olsmodel.rsquared_adj)\\n        rmse.append(np.sqrt(olsmodel.mse_resid))\\n\\n    # creating a dataframe for the results\\n    temp = pd.DataFrame(\\n        {\\n            \\\"col\\\": high_vif_columns,\\n            \\\"Adj. R-squared after_dropping col\\\": adj_r2,\\n            \\\"RMSE after dropping col\\\": rmse,\\n        }\\n    ).sort_values(by=\\\"Adj. R-squared after_dropping col\\\", ascending=False)\\n    temp.reset_index(drop=True, inplace=True)\\n\\n    return temp\";\n",
       "                var nbb_formatted_code = \"def treating_multicollinearity(predictors, target, high_vif_columns):\\n    \\\"\\\"\\\"\\n    Checking the effect of dropping the columns showing high multicollinearity\\n    on model performance (adj. R-squared and RMSE)\\n\\n    predictors: independent variables\\n    target: dependent variable\\n    high_vif_columns: columns having high VIF\\n    \\\"\\\"\\\"\\n    # empty lists to store adj. R-squared and RMSE values\\n    adj_r2 = []\\n    rmse = []\\n\\n    # build ols models by dropping one of the high VIF columns at a time\\n    # store the adjusted R-squared and RMSE in the lists defined previously\\n    for cols in high_vif_columns:\\n        # defining the new train set\\n        train = predictors.loc[:, ~predictors.columns.str.startswith(cols)]\\n\\n        # create the model\\n        olsmodel = sm.OLS(target, train).fit()\\n\\n        # adding adj. R-squared and RMSE to the lists\\n        adj_r2.append(olsmodel.rsquared_adj)\\n        rmse.append(np.sqrt(olsmodel.mse_resid))\\n\\n    # creating a dataframe for the results\\n    temp = pd.DataFrame(\\n        {\\n            \\\"col\\\": high_vif_columns,\\n            \\\"Adj. R-squared after_dropping col\\\": adj_r2,\\n            \\\"RMSE after dropping col\\\": rmse,\\n        }\\n    ).sort_values(by=\\\"Adj. R-squared after_dropping col\\\", ascending=False)\\n    temp.reset_index(drop=True, inplace=True)\\n\\n    return temp\";\n",
       "                var nbb_cells = Jupyter.notebook.get_cells();\n",
       "                for (var i = 0; i < nbb_cells.length; ++i) {\n",
       "                    if (nbb_cells[i].input_prompt_number == nbb_cell_id) {\n",
       "                        if (nbb_cells[i].get_text() == nbb_unformatted_code) {\n",
       "                             nbb_cells[i].set_text(nbb_formatted_code);\n",
       "                        }\n",
       "                        break;\n",
       "                    }\n",
       "                }\n",
       "            }, 500);\n",
       "            "
      ],
      "text/plain": [
       "<IPython.core.display.Javascript object>"
      ]
     },
     "metadata": {},
     "output_type": "display_data"
    }
   ],
   "source": [
    "def treating_multicollinearity(predictors, target, high_vif_columns):\n",
    "    \"\"\"\n",
    "    Checking the effect of dropping the columns showing high multicollinearity\n",
    "    on model performance (adj. R-squared and RMSE)\n",
    "\n",
    "    predictors: independent variables\n",
    "    target: dependent variable\n",
    "    high_vif_columns: columns having high VIF\n",
    "    \"\"\"\n",
    "    # Create empty lists to store adj. R-squared and RMSE values\n",
    "    adj_r2 = []\n",
    "    rmse = []\n",
    "\n",
    "    # build ols models by dropping one of the high VIF columns at a time\n",
    "    # store the adjusted R-squared and RMSE in the lists defined previously\n",
    "    for cols in high_vif_columns:\n",
    "        # defining the new train set\n",
    "        train = predictors.loc[:, ~predictors.columns.str.startswith(cols)]\n",
    "\n",
    "        # create the model\n",
    "        olsmodel = sm.OLS(target, train).fit()\n",
    "\n",
    "        # adding adj. R-squared and RMSE to the lists\n",
    "        adj_r2.append(olsmodel.rsquared_adj)\n",
    "        rmse.append(np.sqrt(olsmodel.mse_resid))\n",
    "\n",
    "    # creating a dataframe for the results\n",
    "    temp = pd.DataFrame(\n",
    "        {\n",
    "            \"col\": high_vif_columns,\n",
    "            \"Adj. R-squared after_dropping col\": adj_r2,\n",
    "            \"RMSE after dropping col\": rmse,\n",
    "        }\n",
    "    ).sort_values(by=\"Adj. R-squared after_dropping col\", ascending=False)\n",
    "    temp.reset_index(drop=True, inplace=True)\n",
    "\n",
    "    return temp"
   ]
  },
  {
   "cell_type": "code",
   "execution_count": 280,
   "metadata": {},
   "outputs": [
    {
     "data": {
      "text/html": [
       "<div>\n",
       "<style scoped>\n",
       "    .dataframe tbody tr th:only-of-type {\n",
       "        vertical-align: middle;\n",
       "    }\n",
       "\n",
       "    .dataframe tbody tr th {\n",
       "        vertical-align: top;\n",
       "    }\n",
       "\n",
       "    .dataframe thead th {\n",
       "        text-align: right;\n",
       "    }\n",
       "</style>\n",
       "<table border=\"1\" class=\"dataframe\">\n",
       "  <thead>\n",
       "    <tr style=\"text-align: right;\">\n",
       "      <th></th>\n",
       "      <th>col</th>\n",
       "      <th>Adj. R-squared after_dropping col</th>\n",
       "      <th>RMSE after dropping col</th>\n",
       "    </tr>\n",
       "  </thead>\n",
       "  <tbody>\n",
       "    <tr>\n",
       "      <th>0</th>\n",
       "      <td>ram</td>\n",
       "      <td>0.755304</td>\n",
       "      <td>0.254768</td>\n",
       "    </tr>\n",
       "    <tr>\n",
       "      <th>1</th>\n",
       "      <td>screen_size</td>\n",
       "      <td>0.751989</td>\n",
       "      <td>0.256488</td>\n",
       "    </tr>\n",
       "    <tr>\n",
       "      <th>2</th>\n",
       "      <td>weight</td>\n",
       "      <td>0.751444</td>\n",
       "      <td>0.256770</td>\n",
       "    </tr>\n",
       "  </tbody>\n",
       "</table>\n",
       "</div>"
      ],
      "text/plain": [
       "           col  Adj. R-squared after_dropping col  RMSE after dropping col\n",
       "0          ram                           0.755304                 0.254768\n",
       "1  screen_size                           0.751989                 0.256488\n",
       "2       weight                           0.751444                 0.256770"
      ]
     },
     "execution_count": 280,
     "metadata": {},
     "output_type": "execute_result"
    },
    {
     "data": {
      "application/javascript": [
       "\n",
       "            setTimeout(function() {\n",
       "                var nbb_cell_id = 280;\n",
       "                var nbb_unformatted_code = \"col_list = [\\\"screen_size\\\", \\\"ram\\\", \\\"weight\\\"]\\n\\nres = treating_multicollinearity(x_train, y_train, col_list)\\nres\";\n",
       "                var nbb_formatted_code = \"col_list = [\\\"screen_size\\\", \\\"ram\\\", \\\"weight\\\"]\\n\\nres = treating_multicollinearity(x_train, y_train, col_list)\\nres\";\n",
       "                var nbb_cells = Jupyter.notebook.get_cells();\n",
       "                for (var i = 0; i < nbb_cells.length; ++i) {\n",
       "                    if (nbb_cells[i].input_prompt_number == nbb_cell_id) {\n",
       "                        if (nbb_cells[i].get_text() == nbb_unformatted_code) {\n",
       "                             nbb_cells[i].set_text(nbb_formatted_code);\n",
       "                        }\n",
       "                        break;\n",
       "                    }\n",
       "                }\n",
       "            }, 500);\n",
       "            "
      ],
      "text/plain": [
       "<IPython.core.display.Javascript object>"
      ]
     },
     "metadata": {},
     "output_type": "display_data"
    },
    {
     "data": {
      "application/javascript": [
       "\n",
       "            setTimeout(function() {\n",
       "                var nbb_cell_id = 280;\n",
       "                var nbb_unformatted_code = \"col_list = [\\\"screen_size\\\", \\\"ram\\\", \\\"weight\\\"]\\n\\nres = treating_multicollinearity(x_train, y_train, col_list)\\nres\";\n",
       "                var nbb_formatted_code = \"col_list = [\\\"screen_size\\\", \\\"ram\\\", \\\"weight\\\"]\\n\\nres = treating_multicollinearity(x_train, y_train, col_list)\\nres\";\n",
       "                var nbb_cells = Jupyter.notebook.get_cells();\n",
       "                for (var i = 0; i < nbb_cells.length; ++i) {\n",
       "                    if (nbb_cells[i].input_prompt_number == nbb_cell_id) {\n",
       "                        if (nbb_cells[i].get_text() == nbb_unformatted_code) {\n",
       "                             nbb_cells[i].set_text(nbb_formatted_code);\n",
       "                        }\n",
       "                        break;\n",
       "                    }\n",
       "                }\n",
       "            }, 500);\n",
       "            "
      ],
      "text/plain": [
       "<IPython.core.display.Javascript object>"
      ]
     },
     "metadata": {},
     "output_type": "display_data"
    }
   ],
   "source": [
    "col_list = [\"screen_size\", \"ram\", \"weight\"]\n",
    "\n",
    "res = treating_multicollinearity(x_train, y_train, col_list)\n",
    "res"
   ]
  },
  {
   "cell_type": "code",
   "execution_count": 281,
   "metadata": {},
   "outputs": [
    {
     "name": "stdout",
     "output_type": "stream",
     "text": [
      "VIF after dropping  screen_size\n"
     ]
    },
    {
     "data": {
      "text/html": [
       "<div>\n",
       "<style scoped>\n",
       "    .dataframe tbody tr th:only-of-type {\n",
       "        vertical-align: middle;\n",
       "    }\n",
       "\n",
       "    .dataframe tbody tr th {\n",
       "        vertical-align: top;\n",
       "    }\n",
       "\n",
       "    .dataframe thead th {\n",
       "        text-align: right;\n",
       "    }\n",
       "</style>\n",
       "<table border=\"1\" class=\"dataframe\">\n",
       "  <thead>\n",
       "    <tr style=\"text-align: right;\">\n",
       "      <th></th>\n",
       "      <th>feature</th>\n",
       "      <th>VIF</th>\n",
       "    </tr>\n",
       "  </thead>\n",
       "  <tbody>\n",
       "    <tr>\n",
       "      <th>0</th>\n",
       "      <td>const</td>\n",
       "      <td>201.665656</td>\n",
       "    </tr>\n",
       "    <tr>\n",
       "      <th>1</th>\n",
       "      <td>main_camera_mp</td>\n",
       "      <td>2.322884</td>\n",
       "    </tr>\n",
       "    <tr>\n",
       "      <th>2</th>\n",
       "      <td>selfie_camera_mp</td>\n",
       "      <td>2.224126</td>\n",
       "    </tr>\n",
       "    <tr>\n",
       "      <th>3</th>\n",
       "      <td>int_memory</td>\n",
       "      <td>2.033697</td>\n",
       "    </tr>\n",
       "    <tr>\n",
       "      <th>4</th>\n",
       "      <td>ram</td>\n",
       "      <td>2.150458</td>\n",
       "    </tr>\n",
       "    <tr>\n",
       "      <th>5</th>\n",
       "      <td>battery</td>\n",
       "      <td>3.770074</td>\n",
       "    </tr>\n",
       "    <tr>\n",
       "      <th>6</th>\n",
       "      <td>weight</td>\n",
       "      <td>2.986806</td>\n",
       "    </tr>\n",
       "    <tr>\n",
       "      <th>7</th>\n",
       "      <td>days_used</td>\n",
       "      <td>1.809281</td>\n",
       "    </tr>\n",
       "    <tr>\n",
       "      <th>8</th>\n",
       "      <td>normalized_new_price</td>\n",
       "      <td>2.366443</td>\n",
       "    </tr>\n",
       "    <tr>\n",
       "      <th>9</th>\n",
       "      <td>brand_name_Alcatel</td>\n",
       "      <td>3.379849</td>\n",
       "    </tr>\n",
       "    <tr>\n",
       "      <th>10</th>\n",
       "      <td>brand_name_Apple</td>\n",
       "      <td>15.561926</td>\n",
       "    </tr>\n",
       "    <tr>\n",
       "      <th>11</th>\n",
       "      <td>brand_name_Asus</td>\n",
       "      <td>3.343599</td>\n",
       "    </tr>\n",
       "    <tr>\n",
       "      <th>12</th>\n",
       "      <td>brand_name_BlackBerry</td>\n",
       "      <td>1.579199</td>\n",
       "    </tr>\n",
       "    <tr>\n",
       "      <th>13</th>\n",
       "      <td>brand_name_Celkon</td>\n",
       "      <td>1.744415</td>\n",
       "    </tr>\n",
       "    <tr>\n",
       "      <th>14</th>\n",
       "      <td>brand_name_Coolpad</td>\n",
       "      <td>1.479384</td>\n",
       "    </tr>\n",
       "    <tr>\n",
       "      <th>15</th>\n",
       "      <td>brand_name_Gionee</td>\n",
       "      <td>2.177120</td>\n",
       "    </tr>\n",
       "    <tr>\n",
       "      <th>16</th>\n",
       "      <td>brand_name_Google</td>\n",
       "      <td>1.374895</td>\n",
       "    </tr>\n",
       "    <tr>\n",
       "      <th>17</th>\n",
       "      <td>brand_name_HTC</td>\n",
       "      <td>2.901835</td>\n",
       "    </tr>\n",
       "    <tr>\n",
       "      <th>18</th>\n",
       "      <td>brand_name_Honor</td>\n",
       "      <td>3.277013</td>\n",
       "    </tr>\n",
       "    <tr>\n",
       "      <th>19</th>\n",
       "      <td>brand_name_Huawei</td>\n",
       "      <td>5.575716</td>\n",
       "    </tr>\n",
       "    <tr>\n",
       "      <th>20</th>\n",
       "      <td>brand_name_Infinix</td>\n",
       "      <td>1.300430</td>\n",
       "    </tr>\n",
       "    <tr>\n",
       "      <th>21</th>\n",
       "      <td>brand_name_Karbonn</td>\n",
       "      <td>1.527865</td>\n",
       "    </tr>\n",
       "    <tr>\n",
       "      <th>22</th>\n",
       "      <td>brand_name_LG</td>\n",
       "      <td>4.494636</td>\n",
       "    </tr>\n",
       "    <tr>\n",
       "      <th>23</th>\n",
       "      <td>brand_name_Lava</td>\n",
       "      <td>1.712303</td>\n",
       "    </tr>\n",
       "    <tr>\n",
       "      <th>24</th>\n",
       "      <td>brand_name_Lenovo</td>\n",
       "      <td>4.278002</td>\n",
       "    </tr>\n",
       "    <tr>\n",
       "      <th>25</th>\n",
       "      <td>brand_name_Meizu</td>\n",
       "      <td>2.116691</td>\n",
       "    </tr>\n",
       "    <tr>\n",
       "      <th>26</th>\n",
       "      <td>brand_name_Micromax</td>\n",
       "      <td>2.834121</td>\n",
       "    </tr>\n",
       "    <tr>\n",
       "      <th>27</th>\n",
       "      <td>brand_name_Microsoft</td>\n",
       "      <td>2.018174</td>\n",
       "    </tr>\n",
       "    <tr>\n",
       "      <th>28</th>\n",
       "      <td>brand_name_Motorola</td>\n",
       "      <td>2.971479</td>\n",
       "    </tr>\n",
       "    <tr>\n",
       "      <th>29</th>\n",
       "      <td>brand_name_Nokia</td>\n",
       "      <td>3.268175</td>\n",
       "    </tr>\n",
       "    <tr>\n",
       "      <th>30</th>\n",
       "      <td>brand_name_OnePlus</td>\n",
       "      <td>1.426070</td>\n",
       "    </tr>\n",
       "    <tr>\n",
       "      <th>31</th>\n",
       "      <td>brand_name_Oppo</td>\n",
       "      <td>3.636459</td>\n",
       "    </tr>\n",
       "    <tr>\n",
       "      <th>32</th>\n",
       "      <td>brand_name_Others</td>\n",
       "      <td>8.930306</td>\n",
       "    </tr>\n",
       "    <tr>\n",
       "      <th>33</th>\n",
       "      <td>brand_name_Panasonic</td>\n",
       "      <td>1.845534</td>\n",
       "    </tr>\n",
       "    <tr>\n",
       "      <th>34</th>\n",
       "      <td>brand_name_Realme</td>\n",
       "      <td>1.752815</td>\n",
       "    </tr>\n",
       "    <tr>\n",
       "      <th>35</th>\n",
       "      <td>brand_name_Samsung</td>\n",
       "      <td>6.758543</td>\n",
       "    </tr>\n",
       "    <tr>\n",
       "      <th>36</th>\n",
       "      <td>brand_name_Sony</td>\n",
       "      <td>2.887578</td>\n",
       "    </tr>\n",
       "    <tr>\n",
       "      <th>37</th>\n",
       "      <td>brand_name_Spice</td>\n",
       "      <td>1.497787</td>\n",
       "    </tr>\n",
       "    <tr>\n",
       "      <th>38</th>\n",
       "      <td>brand_name_Vivo</td>\n",
       "      <td>3.172850</td>\n",
       "    </tr>\n",
       "    <tr>\n",
       "      <th>39</th>\n",
       "      <td>brand_name_XOLO</td>\n",
       "      <td>1.922637</td>\n",
       "    </tr>\n",
       "    <tr>\n",
       "      <th>40</th>\n",
       "      <td>brand_name_Xiaomi</td>\n",
       "      <td>3.548662</td>\n",
       "    </tr>\n",
       "    <tr>\n",
       "      <th>41</th>\n",
       "      <td>brand_name_ZTE</td>\n",
       "      <td>3.708025</td>\n",
       "    </tr>\n",
       "    <tr>\n",
       "      <th>42</th>\n",
       "      <td>os_Others</td>\n",
       "      <td>1.611173</td>\n",
       "    </tr>\n",
       "    <tr>\n",
       "      <th>43</th>\n",
       "      <td>os_Windows</td>\n",
       "      <td>1.763482</td>\n",
       "    </tr>\n",
       "    <tr>\n",
       "      <th>44</th>\n",
       "      <td>os_iOS</td>\n",
       "      <td>14.657184</td>\n",
       "    </tr>\n",
       "    <tr>\n",
       "      <th>45</th>\n",
       "      <td>4g_yes</td>\n",
       "      <td>2.194033</td>\n",
       "    </tr>\n",
       "    <tr>\n",
       "      <th>46</th>\n",
       "      <td>5g_yes</td>\n",
       "      <td>1.733568</td>\n",
       "    </tr>\n",
       "  </tbody>\n",
       "</table>\n",
       "</div>"
      ],
      "text/plain": [
       "                  feature         VIF\n",
       "0                   const  201.665656\n",
       "1          main_camera_mp    2.322884\n",
       "2        selfie_camera_mp    2.224126\n",
       "3              int_memory    2.033697\n",
       "4                     ram    2.150458\n",
       "5                 battery    3.770074\n",
       "6                  weight    2.986806\n",
       "7               days_used    1.809281\n",
       "8    normalized_new_price    2.366443\n",
       "9      brand_name_Alcatel    3.379849\n",
       "10       brand_name_Apple   15.561926\n",
       "11        brand_name_Asus    3.343599\n",
       "12  brand_name_BlackBerry    1.579199\n",
       "13      brand_name_Celkon    1.744415\n",
       "14     brand_name_Coolpad    1.479384\n",
       "15      brand_name_Gionee    2.177120\n",
       "16      brand_name_Google    1.374895\n",
       "17         brand_name_HTC    2.901835\n",
       "18       brand_name_Honor    3.277013\n",
       "19      brand_name_Huawei    5.575716\n",
       "20     brand_name_Infinix    1.300430\n",
       "21     brand_name_Karbonn    1.527865\n",
       "22          brand_name_LG    4.494636\n",
       "23        brand_name_Lava    1.712303\n",
       "24      brand_name_Lenovo    4.278002\n",
       "25       brand_name_Meizu    2.116691\n",
       "26    brand_name_Micromax    2.834121\n",
       "27   brand_name_Microsoft    2.018174\n",
       "28    brand_name_Motorola    2.971479\n",
       "29       brand_name_Nokia    3.268175\n",
       "30     brand_name_OnePlus    1.426070\n",
       "31        brand_name_Oppo    3.636459\n",
       "32      brand_name_Others    8.930306\n",
       "33   brand_name_Panasonic    1.845534\n",
       "34      brand_name_Realme    1.752815\n",
       "35     brand_name_Samsung    6.758543\n",
       "36        brand_name_Sony    2.887578\n",
       "37       brand_name_Spice    1.497787\n",
       "38        brand_name_Vivo    3.172850\n",
       "39        brand_name_XOLO    1.922637\n",
       "40      brand_name_Xiaomi    3.548662\n",
       "41         brand_name_ZTE    3.708025\n",
       "42              os_Others    1.611173\n",
       "43             os_Windows    1.763482\n",
       "44                 os_iOS   14.657184\n",
       "45                 4g_yes    2.194033\n",
       "46                 5g_yes    1.733568"
      ]
     },
     "execution_count": 281,
     "metadata": {},
     "output_type": "execute_result"
    },
    {
     "data": {
      "application/javascript": [
       "\n",
       "            setTimeout(function() {\n",
       "                var nbb_cell_id = 281;\n",
       "                var nbb_unformatted_code = \"col_to_drop = \\\"screen_size\\\"\\nx_train2 = x_train.loc[:, ~x_train.columns.str.startswith(col_to_drop)]\\nx_test2 = x_test.loc[:, ~x_test.columns.str.startswith(col_to_drop)]\\n\\n# Check VIF now\\nvif = checking_vif(x_train2)\\nprint(\\\"VIF after dropping \\\", col_to_drop)\\nvif\";\n",
       "                var nbb_formatted_code = \"col_to_drop = \\\"screen_size\\\"\\nx_train2 = x_train.loc[:, ~x_train.columns.str.startswith(col_to_drop)]\\nx_test2 = x_test.loc[:, ~x_test.columns.str.startswith(col_to_drop)]\\n\\n# Check VIF now\\nvif = checking_vif(x_train2)\\nprint(\\\"VIF after dropping \\\", col_to_drop)\\nvif\";\n",
       "                var nbb_cells = Jupyter.notebook.get_cells();\n",
       "                for (var i = 0; i < nbb_cells.length; ++i) {\n",
       "                    if (nbb_cells[i].input_prompt_number == nbb_cell_id) {\n",
       "                        if (nbb_cells[i].get_text() == nbb_unformatted_code) {\n",
       "                             nbb_cells[i].set_text(nbb_formatted_code);\n",
       "                        }\n",
       "                        break;\n",
       "                    }\n",
       "                }\n",
       "            }, 500);\n",
       "            "
      ],
      "text/plain": [
       "<IPython.core.display.Javascript object>"
      ]
     },
     "metadata": {},
     "output_type": "display_data"
    },
    {
     "data": {
      "application/javascript": [
       "\n",
       "            setTimeout(function() {\n",
       "                var nbb_cell_id = 281;\n",
       "                var nbb_unformatted_code = \"col_to_drop = \\\"screen_size\\\"\\nx_train2 = x_train.loc[:, ~x_train.columns.str.startswith(col_to_drop)]\\nx_test2 = x_test.loc[:, ~x_test.columns.str.startswith(col_to_drop)]\\n\\n# Check VIF now\\nvif = checking_vif(x_train2)\\nprint(\\\"VIF after dropping \\\", col_to_drop)\\nvif\";\n",
       "                var nbb_formatted_code = \"col_to_drop = \\\"screen_size\\\"\\nx_train2 = x_train.loc[:, ~x_train.columns.str.startswith(col_to_drop)]\\nx_test2 = x_test.loc[:, ~x_test.columns.str.startswith(col_to_drop)]\\n\\n# Check VIF now\\nvif = checking_vif(x_train2)\\nprint(\\\"VIF after dropping \\\", col_to_drop)\\nvif\";\n",
       "                var nbb_cells = Jupyter.notebook.get_cells();\n",
       "                for (var i = 0; i < nbb_cells.length; ++i) {\n",
       "                    if (nbb_cells[i].input_prompt_number == nbb_cell_id) {\n",
       "                        if (nbb_cells[i].get_text() == nbb_unformatted_code) {\n",
       "                             nbb_cells[i].set_text(nbb_formatted_code);\n",
       "                        }\n",
       "                        break;\n",
       "                    }\n",
       "                }\n",
       "            }, 500);\n",
       "            "
      ],
      "text/plain": [
       "<IPython.core.display.Javascript object>"
      ]
     },
     "metadata": {},
     "output_type": "display_data"
    }
   ],
   "source": [
    "col_to_drop = \"screen_size\"\n",
    "x_train2 = x_train.loc[:, ~x_train.columns.str.startswith(col_to_drop)]\n",
    "x_test2 = x_test.loc[:, ~x_test.columns.str.startswith(col_to_drop)]\n",
    "\n",
    "# Check VIF now\n",
    "vif = checking_vif(x_train2)\n",
    "print(\"VIF after dropping \", col_to_drop)\n",
    "vif"
   ]
  },
  {
   "cell_type": "markdown",
   "metadata": {},
   "source": [
    "Observation\n",
    "- Multicollinearity is no more present in the model as the VIF now has values less than 5."
   ]
  },
  {
   "cell_type": "markdown",
   "metadata": {},
   "source": [
    "## Rebuild the model using the new set of features having dropped 'screen-size'"
   ]
  },
  {
   "cell_type": "code",
   "execution_count": 282,
   "metadata": {},
   "outputs": [
    {
     "name": "stdout",
     "output_type": "stream",
     "text": [
      "                              OLS Regression Results                             \n",
      "=================================================================================\n",
      "Dep. Variable:     normalized_used_price   R-squared:                       0.757\n",
      "Model:                               OLS   Adj. R-squared:                  0.752\n",
      "Method:                    Least Squares   F-statistic:                     160.2\n",
      "Date:                   Sun, 22 May 2022   Prob (F-statistic):               0.00\n",
      "Time:                           07:01:36   Log-Likelihood:                -117.10\n",
      "No. Observations:                   2417   AIC:                             328.2\n",
      "Df Residuals:                       2370   BIC:                             600.3\n",
      "Df Model:                             46                                         \n",
      "Covariance Type:               nonrobust                                         \n",
      "=========================================================================================\n",
      "                            coef    std err          t      P>|t|      [0.025      0.975]\n",
      "-----------------------------------------------------------------------------------------\n",
      "const                     1.8247      0.074     24.629      0.000       1.679       1.970\n",
      "main_camera_mp            0.0233      0.002     13.138      0.000       0.020       0.027\n",
      "selfie_camera_mp          0.0111      0.002      6.442      0.000       0.008       0.014\n",
      "int_memory                0.0020      0.000      9.327      0.000       0.002       0.002\n",
      "ram                       0.0064      0.006      1.127      0.260      -0.005       0.017\n",
      "battery                2.021e-05   7.69e-06      2.629      0.009    5.14e-06    3.53e-05\n",
      "weight                    0.0014      0.000     13.507      0.000       0.001       0.002\n",
      "days_used                -0.0001   2.84e-05     -4.544      0.000      -0.000   -7.34e-05\n",
      "normalized_new_price      0.3629      0.013     27.881      0.000       0.337       0.388\n",
      "brand_name_Alcatel       -0.0039      0.050     -0.078      0.938      -0.103       0.095\n",
      "brand_name_Apple         -1.0126      0.192     -5.265      0.000      -1.390      -0.635\n",
      "brand_name_Asus           0.0387      0.050      0.768      0.442      -0.060       0.138\n",
      "brand_name_BlackBerry    -0.1977      0.078     -2.520      0.012      -0.352      -0.044\n",
      "brand_name_Celkon         0.3236      0.068      4.752      0.000       0.190       0.457\n",
      "brand_name_Coolpad       -0.0010      0.076     -0.013      0.990      -0.150       0.148\n",
      "brand_name_Gionee        -0.0413      0.058     -0.716      0.474      -0.154       0.072\n",
      "brand_name_Google         0.0462      0.084      0.553      0.580      -0.118       0.210\n",
      "brand_name_HTC           -0.0194      0.053     -0.369      0.712      -0.123       0.084\n",
      "brand_name_Honor         -0.0009      0.052     -0.016      0.987      -0.103       0.101\n",
      "brand_name_Huawei        -0.0355      0.047     -0.752      0.452      -0.128       0.057\n",
      "brand_name_Infinix        0.0816      0.098      0.835      0.404      -0.110       0.273\n",
      "brand_name_Karbonn       -0.0788      0.073     -1.079      0.281      -0.222       0.064\n",
      "brand_name_LG            -0.0611      0.048     -1.263      0.207      -0.156       0.034\n",
      "brand_name_Lava           0.0266      0.066      0.402      0.687      -0.103       0.156\n",
      "brand_name_Lenovo        -0.0045      0.048     -0.094      0.925      -0.099       0.090\n",
      "brand_name_Meizu          0.0002      0.059      0.003      0.997      -0.116       0.117\n",
      "brand_name_Micromax       0.0091      0.053      0.172      0.864      -0.094       0.112\n",
      "brand_name_Microsoft      0.0106      0.091      0.116      0.908      -0.169       0.190\n",
      "brand_name_Motorola      -0.0461      0.053     -0.866      0.387      -0.151       0.058\n",
      "brand_name_Nokia          0.0049      0.055      0.089      0.929      -0.102       0.112\n",
      "brand_name_OnePlus        0.0632      0.085      0.742      0.458      -0.104       0.230\n",
      "brand_name_Oppo           0.0337      0.051      0.661      0.508      -0.066       0.134\n",
      "brand_name_Others        -0.0269      0.045     -0.603      0.546      -0.114       0.060\n",
      "brand_name_Panasonic     -0.0160      0.063     -0.254      0.799      -0.140       0.108\n",
      "brand_name_Realme         0.1381      0.068      2.022      0.043       0.004       0.272\n",
      "brand_name_Samsung       -0.0534      0.046     -1.164      0.245      -0.143       0.037\n",
      "brand_name_Sony          -0.0977      0.053     -1.835      0.067      -0.202       0.007\n",
      "brand_name_Spice          0.0526      0.074      0.708      0.479      -0.093       0.198\n",
      "brand_name_Vivo          -0.0599      0.053     -1.132      0.258      -0.164       0.044\n",
      "brand_name_XOLO          -0.0651      0.061     -1.060      0.289      -0.186       0.055\n",
      "brand_name_Xiaomi         0.0670      0.051      1.312      0.190      -0.033       0.167\n",
      "brand_name_ZTE           -0.0446      0.050     -0.893      0.372      -0.143       0.053\n",
      "os_Others                 0.2002      0.033      6.049      0.000       0.135       0.265\n",
      "os_Windows               -0.0199      0.051     -0.393      0.695      -0.119       0.080\n",
      "os_iOS                    0.9487      0.194      4.900      0.000       0.569       1.328\n",
      "4g_yes                    0.0956      0.017      5.782      0.000       0.063       0.128\n",
      "5g_yes                    0.1119      0.035      3.167      0.002       0.043       0.181\n",
      "==============================================================================\n",
      "Omnibus:                      129.133   Durbin-Watson:                   2.034\n",
      "Prob(Omnibus):                  0.000   Jarque-Bera (JB):              413.693\n",
      "Skew:                           0.191   Prob(JB):                     1.47e-90\n",
      "Kurtosis:                       4.990   Cond. No.                     1.83e+05\n",
      "==============================================================================\n",
      "\n",
      "Notes:\n",
      "[1] Standard Errors assume that the covariance matrix of the errors is correctly specified.\n",
      "[2] The condition number is large, 1.83e+05. This might indicate that there are\n",
      "strong multicollinearity or other numerical problems.\n"
     ]
    },
    {
     "data": {
      "application/javascript": [
       "\n",
       "            setTimeout(function() {\n",
       "                var nbb_cell_id = 282;\n",
       "                var nbb_unformatted_code = \"olsmod1 = sm.OLS(y_train, x_train2).fit()\\nprint(olsmod1.summary())\";\n",
       "                var nbb_formatted_code = \"olsmod1 = sm.OLS(y_train, x_train2).fit()\\nprint(olsmod1.summary())\";\n",
       "                var nbb_cells = Jupyter.notebook.get_cells();\n",
       "                for (var i = 0; i < nbb_cells.length; ++i) {\n",
       "                    if (nbb_cells[i].input_prompt_number == nbb_cell_id) {\n",
       "                        if (nbb_cells[i].get_text() == nbb_unformatted_code) {\n",
       "                             nbb_cells[i].set_text(nbb_formatted_code);\n",
       "                        }\n",
       "                        break;\n",
       "                    }\n",
       "                }\n",
       "            }, 500);\n",
       "            "
      ],
      "text/plain": [
       "<IPython.core.display.Javascript object>"
      ]
     },
     "metadata": {},
     "output_type": "display_data"
    },
    {
     "data": {
      "application/javascript": [
       "\n",
       "            setTimeout(function() {\n",
       "                var nbb_cell_id = 282;\n",
       "                var nbb_unformatted_code = \"olsmod1 = sm.OLS(y_train, x_train2).fit()\\nprint(olsmod1.summary())\";\n",
       "                var nbb_formatted_code = \"olsmod1 = sm.OLS(y_train, x_train2).fit()\\nprint(olsmod1.summary())\";\n",
       "                var nbb_cells = Jupyter.notebook.get_cells();\n",
       "                for (var i = 0; i < nbb_cells.length; ++i) {\n",
       "                    if (nbb_cells[i].input_prompt_number == nbb_cell_id) {\n",
       "                        if (nbb_cells[i].get_text() == nbb_unformatted_code) {\n",
       "                             nbb_cells[i].set_text(nbb_formatted_code);\n",
       "                        }\n",
       "                        break;\n",
       "                    }\n",
       "                }\n",
       "            }, 500);\n",
       "            "
      ],
      "text/plain": [
       "<IPython.core.display.Javascript object>"
      ]
     },
     "metadata": {},
     "output_type": "display_data"
    }
   ],
   "source": [
    "olsmod1 = sm.OLS(y_train, x_train2).fit()\n",
    "print(olsmod1.summary())"
   ]
  },
  {
   "cell_type": "markdown",
   "metadata": {},
   "source": [
    "Interpretation\n",
    "- P-value determines the statistical significance or otherwise of a model.\n",
    "- A p-value of less than 0.05 indicates that the model is statistically significant, while a value of 0.05 or above indicates otherwise.\n",
    "- There are features in the above model having p-values exceeding 0.05. "
   ]
  },
  {
   "cell_type": "markdown",
   "metadata": {},
   "source": [
    "Observation\n",
    "\n",
    "- Adjusted  R-squared reduces from 0.755 to 0.752. This implies that the dropped 'screen_size' from the features does not have much impact on the model.\n",
    "- Having dealt with multicollinearity, it is important to take a critical look at the p-values.\n"
   ]
  },
  {
   "cell_type": "code",
   "execution_count": null,
   "metadata": {},
   "outputs": [],
   "source": []
  },
  {
   "cell_type": "markdown",
   "metadata": {},
   "source": [
    "### Deal with high p-values"
   ]
  },
  {
   "cell_type": "markdown",
   "metadata": {},
   "source": [
    "- Some of the dummy variables in the data have p-value > 0.05. So, they will be dropped since they are not significant.\n",
    "- But sometimes p-values change after dropping a variable. So, we'll not drop all variables at once\n",
    "- Instead, we will:\n",
    "    - Build a model, check the p-values of the variables, and drop the column with the highest p-value\n",
    "    - Create a new model without the dropped feature, check the p-values of the variables, and drop the column with the highest p-value\n",
    "    - Repeat the above two steps till there are no columns with p-value > 0.05"
   ]
  },
  {
   "cell_type": "code",
   "execution_count": 294,
   "metadata": {},
   "outputs": [
    {
     "name": "stdout",
     "output_type": "stream",
     "text": [
      "['const', 'main_camera_mp', 'selfie_camera_mp', 'int_memory', 'battery', 'weight', 'days_used', 'normalized_new_price', 'brand_name_Apple', 'brand_name_BlackBerry', 'brand_name_Celkon', 'brand_name_LG', 'brand_name_Realme', 'brand_name_Samsung', 'brand_name_Sony', 'brand_name_Xiaomi', 'os_Others', 'os_iOS', '4g_yes', '5g_yes']\n"
     ]
    },
    {
     "data": {
      "application/javascript": [
       "\n",
       "            setTimeout(function() {\n",
       "                var nbb_cell_id = 294;\n",
       "                var nbb_unformatted_code = \"# initial list of columns\\npredictors = x_train2.copy()\\ncols = predictors.columns.tolist()\\n\\n# setting an initial max p-value\\nmax_p_value = 1\\n\\nwhile len(cols) > 0:\\n    # defining the train set\\n    x_train_aux = predictors[cols]\\n\\n    # fitting the model\\n    model = sm.OLS(y_train, x_train_aux).fit()\\n\\n    # getting the p-values and the maximum p-value\\n    p_values = model.pvalues\\n    max_p_value = np.max(p_values)\\n\\n    # name of the variable with maximum p-value\\n    feature_with_p_max = p_values.idxmax()\\n\\n    if max_p_value > 0.05:\\n        cols.remove(feature_with_p_max)\\n    else:\\n        break\\n\\nselected_features = cols\\nprint(selected_features)\";\n",
       "                var nbb_formatted_code = \"# initial list of columns\\npredictors = x_train2.copy()\\ncols = predictors.columns.tolist()\\n\\n# setting an initial max p-value\\nmax_p_value = 1\\n\\nwhile len(cols) > 0:\\n    # defining the train set\\n    x_train_aux = predictors[cols]\\n\\n    # fitting the model\\n    model = sm.OLS(y_train, x_train_aux).fit()\\n\\n    # getting the p-values and the maximum p-value\\n    p_values = model.pvalues\\n    max_p_value = np.max(p_values)\\n\\n    # name of the variable with maximum p-value\\n    feature_with_p_max = p_values.idxmax()\\n\\n    if max_p_value > 0.05:\\n        cols.remove(feature_with_p_max)\\n    else:\\n        break\\n\\nselected_features = cols\\nprint(selected_features)\";\n",
       "                var nbb_cells = Jupyter.notebook.get_cells();\n",
       "                for (var i = 0; i < nbb_cells.length; ++i) {\n",
       "                    if (nbb_cells[i].input_prompt_number == nbb_cell_id) {\n",
       "                        if (nbb_cells[i].get_text() == nbb_unformatted_code) {\n",
       "                             nbb_cells[i].set_text(nbb_formatted_code);\n",
       "                        }\n",
       "                        break;\n",
       "                    }\n",
       "                }\n",
       "            }, 500);\n",
       "            "
      ],
      "text/plain": [
       "<IPython.core.display.Javascript object>"
      ]
     },
     "metadata": {},
     "output_type": "display_data"
    },
    {
     "data": {
      "application/javascript": [
       "\n",
       "            setTimeout(function() {\n",
       "                var nbb_cell_id = 294;\n",
       "                var nbb_unformatted_code = \"# initial list of columns\\npredictors = x_train2.copy()\\ncols = predictors.columns.tolist()\\n\\n# setting an initial max p-value\\nmax_p_value = 1\\n\\nwhile len(cols) > 0:\\n    # defining the train set\\n    x_train_aux = predictors[cols]\\n\\n    # fitting the model\\n    model = sm.OLS(y_train, x_train_aux).fit()\\n\\n    # getting the p-values and the maximum p-value\\n    p_values = model.pvalues\\n    max_p_value = np.max(p_values)\\n\\n    # name of the variable with maximum p-value\\n    feature_with_p_max = p_values.idxmax()\\n\\n    if max_p_value > 0.05:\\n        cols.remove(feature_with_p_max)\\n    else:\\n        break\\n\\nselected_features = cols\\nprint(selected_features)\";\n",
       "                var nbb_formatted_code = \"# initial list of columns\\npredictors = x_train2.copy()\\ncols = predictors.columns.tolist()\\n\\n# setting an initial max p-value\\nmax_p_value = 1\\n\\nwhile len(cols) > 0:\\n    # defining the train set\\n    x_train_aux = predictors[cols]\\n\\n    # fitting the model\\n    model = sm.OLS(y_train, x_train_aux).fit()\\n\\n    # getting the p-values and the maximum p-value\\n    p_values = model.pvalues\\n    max_p_value = np.max(p_values)\\n\\n    # name of the variable with maximum p-value\\n    feature_with_p_max = p_values.idxmax()\\n\\n    if max_p_value > 0.05:\\n        cols.remove(feature_with_p_max)\\n    else:\\n        break\\n\\nselected_features = cols\\nprint(selected_features)\";\n",
       "                var nbb_cells = Jupyter.notebook.get_cells();\n",
       "                for (var i = 0; i < nbb_cells.length; ++i) {\n",
       "                    if (nbb_cells[i].input_prompt_number == nbb_cell_id) {\n",
       "                        if (nbb_cells[i].get_text() == nbb_unformatted_code) {\n",
       "                             nbb_cells[i].set_text(nbb_formatted_code);\n",
       "                        }\n",
       "                        break;\n",
       "                    }\n",
       "                }\n",
       "            }, 500);\n",
       "            "
      ],
      "text/plain": [
       "<IPython.core.display.Javascript object>"
      ]
     },
     "metadata": {},
     "output_type": "display_data"
    }
   ],
   "source": [
    "# list out the initial columns\n",
    "predictors = x_train2.copy()\n",
    "cols = predictors.columns.tolist()\n",
    "\n",
    "# setting an initial max p-value\n",
    "max_p_value = 1\n",
    "\n",
    "while len(cols) > 0:\n",
    "    # defining the train set\n",
    "    x_train_aux = predictors[cols]\n",
    "\n",
    "    # fitting the model\n",
    "    model = sm.OLS(y_train, x_train_aux).fit()\n",
    "\n",
    "    # getting the p-values and the maximum p-value\n",
    "    p_values = model.pvalues\n",
    "    max_p_value = np.max(p_values)\n",
    "\n",
    "    # name of the variable with maximum p-value\n",
    "    feature_with_p_max = p_values.idxmax()\n",
    "\n",
    "    if max_p_value > 0.05:\n",
    "        cols.remove(feature_with_p_max)\n",
    "    else:\n",
    "        break\n",
    "\n",
    "selected_features = cols\n",
    "print(selected_features)"
   ]
  },
  {
   "cell_type": "code",
   "execution_count": 295,
   "metadata": {},
   "outputs": [
    {
     "data": {
      "application/javascript": [
       "\n",
       "            setTimeout(function() {\n",
       "                var nbb_cell_id = 295;\n",
       "                var nbb_unformatted_code = \"x_train3 = x_train2[selected_features]\\nx_test3 = x_test2[selected_features]\";\n",
       "                var nbb_formatted_code = \"x_train3 = x_train2[selected_features]\\nx_test3 = x_test2[selected_features]\";\n",
       "                var nbb_cells = Jupyter.notebook.get_cells();\n",
       "                for (var i = 0; i < nbb_cells.length; ++i) {\n",
       "                    if (nbb_cells[i].input_prompt_number == nbb_cell_id) {\n",
       "                        if (nbb_cells[i].get_text() == nbb_unformatted_code) {\n",
       "                             nbb_cells[i].set_text(nbb_formatted_code);\n",
       "                        }\n",
       "                        break;\n",
       "                    }\n",
       "                }\n",
       "            }, 500);\n",
       "            "
      ],
      "text/plain": [
       "<IPython.core.display.Javascript object>"
      ]
     },
     "metadata": {},
     "output_type": "display_data"
    },
    {
     "data": {
      "application/javascript": [
       "\n",
       "            setTimeout(function() {\n",
       "                var nbb_cell_id = 295;\n",
       "                var nbb_unformatted_code = \"x_train3 = x_train2[selected_features]\\nx_test3 = x_test2[selected_features]\";\n",
       "                var nbb_formatted_code = \"x_train3 = x_train2[selected_features]\\nx_test3 = x_test2[selected_features]\";\n",
       "                var nbb_cells = Jupyter.notebook.get_cells();\n",
       "                for (var i = 0; i < nbb_cells.length; ++i) {\n",
       "                    if (nbb_cells[i].input_prompt_number == nbb_cell_id) {\n",
       "                        if (nbb_cells[i].get_text() == nbb_unformatted_code) {\n",
       "                             nbb_cells[i].set_text(nbb_formatted_code);\n",
       "                        }\n",
       "                        break;\n",
       "                    }\n",
       "                }\n",
       "            }, 500);\n",
       "            "
      ],
      "text/plain": [
       "<IPython.core.display.Javascript object>"
      ]
     },
     "metadata": {},
     "output_type": "display_data"
    }
   ],
   "source": [
    "x_train3 = x_train2[selected_features]\n",
    "x_test3 = x_test2[selected_features]"
   ]
  },
  {
   "cell_type": "code",
   "execution_count": 296,
   "metadata": {},
   "outputs": [
    {
     "name": "stdout",
     "output_type": "stream",
     "text": [
      "                              OLS Regression Results                             \n",
      "=================================================================================\n",
      "Dep. Variable:     normalized_used_price   R-squared:                       0.754\n",
      "Model:                               OLS   Adj. R-squared:                  0.752\n",
      "Method:                    Least Squares   F-statistic:                     387.0\n",
      "Date:                   Sun, 22 May 2022   Prob (F-statistic):               0.00\n",
      "Time:                           07:51:32   Log-Likelihood:                -129.66\n",
      "No. Observations:                   2417   AIC:                             299.3\n",
      "Df Residuals:                       2397   BIC:                             415.1\n",
      "Df Model:                             19                                         \n",
      "Covariance Type:               nonrobust                                         \n",
      "=========================================================================================\n",
      "                            coef    std err          t      P>|t|      [0.025      0.975]\n",
      "-----------------------------------------------------------------------------------------\n",
      "const                     1.8092      0.056     32.363      0.000       1.700       1.919\n",
      "main_camera_mp            0.0224      0.002     12.975      0.000       0.019       0.026\n",
      "selfie_camera_mp          0.0113      0.002      6.754      0.000       0.008       0.015\n",
      "int_memory                0.0020      0.000      9.483      0.000       0.002       0.002\n",
      "battery                2.222e-05   7.53e-06      2.952      0.003    7.46e-06     3.7e-05\n",
      "weight                    0.0013    9.9e-05     13.484      0.000       0.001       0.002\n",
      "days_used                -0.0001   2.77e-05     -4.569      0.000      -0.000   -7.23e-05\n",
      "normalized_new_price      0.3687      0.012     30.150      0.000       0.345       0.393\n",
      "brand_name_Apple         -0.9916      0.187     -5.309      0.000      -1.358      -0.625\n",
      "brand_name_BlackBerry    -0.1774      0.065     -2.718      0.007      -0.305      -0.049\n",
      "brand_name_Celkon         0.3296      0.053      6.235      0.000       0.226       0.433\n",
      "brand_name_LG            -0.0490      0.023     -2.102      0.036      -0.095      -0.003\n",
      "brand_name_Realme         0.1491      0.053      2.826      0.005       0.046       0.252\n",
      "brand_name_Samsung       -0.0397      0.018     -2.165      0.030      -0.076      -0.004\n",
      "brand_name_Sony          -0.0807      0.032     -2.496      0.013      -0.144      -0.017\n",
      "brand_name_Xiaomi         0.0826      0.028      2.968      0.003       0.028       0.137\n",
      "os_Others                 0.1907      0.030      6.424      0.000       0.132       0.249\n",
      "os_iOS                    0.9370      0.193      4.864      0.000       0.559       1.315\n",
      "4g_yes                    0.0976      0.016      6.211      0.000       0.067       0.128\n",
      "5g_yes                    0.1396      0.031      4.572      0.000       0.080       0.199\n",
      "==============================================================================\n",
      "Omnibus:                      128.055   Durbin-Watson:                   2.038\n",
      "Prob(Omnibus):                  0.000   Jarque-Bera (JB):              418.344\n",
      "Skew:                           0.176   Prob(JB):                     1.44e-91\n",
      "Kurtosis:                       5.007   Cond. No.                     1.76e+05\n",
      "==============================================================================\n",
      "\n",
      "Notes:\n",
      "[1] Standard Errors assume that the covariance matrix of the errors is correctly specified.\n",
      "[2] The condition number is large, 1.76e+05. This might indicate that there are\n",
      "strong multicollinearity or other numerical problems.\n"
     ]
    },
    {
     "data": {
      "application/javascript": [
       "\n",
       "            setTimeout(function() {\n",
       "                var nbb_cell_id = 296;\n",
       "                var nbb_unformatted_code = \"olsmod2 = sm.OLS(y_train, x_train3).fit()\\nprint(olsmod2.summary())\";\n",
       "                var nbb_formatted_code = \"olsmod2 = sm.OLS(y_train, x_train3).fit()\\nprint(olsmod2.summary())\";\n",
       "                var nbb_cells = Jupyter.notebook.get_cells();\n",
       "                for (var i = 0; i < nbb_cells.length; ++i) {\n",
       "                    if (nbb_cells[i].input_prompt_number == nbb_cell_id) {\n",
       "                        if (nbb_cells[i].get_text() == nbb_unformatted_code) {\n",
       "                             nbb_cells[i].set_text(nbb_formatted_code);\n",
       "                        }\n",
       "                        break;\n",
       "                    }\n",
       "                }\n",
       "            }, 500);\n",
       "            "
      ],
      "text/plain": [
       "<IPython.core.display.Javascript object>"
      ]
     },
     "metadata": {},
     "output_type": "display_data"
    },
    {
     "data": {
      "application/javascript": [
       "\n",
       "            setTimeout(function() {\n",
       "                var nbb_cell_id = 296;\n",
       "                var nbb_unformatted_code = \"olsmod2 = sm.OLS(y_train, x_train3).fit()\\nprint(olsmod2.summary())\";\n",
       "                var nbb_formatted_code = \"olsmod2 = sm.OLS(y_train, x_train3).fit()\\nprint(olsmod2.summary())\";\n",
       "                var nbb_cells = Jupyter.notebook.get_cells();\n",
       "                for (var i = 0; i < nbb_cells.length; ++i) {\n",
       "                    if (nbb_cells[i].input_prompt_number == nbb_cell_id) {\n",
       "                        if (nbb_cells[i].get_text() == nbb_unformatted_code) {\n",
       "                             nbb_cells[i].set_text(nbb_formatted_code);\n",
       "                        }\n",
       "                        break;\n",
       "                    }\n",
       "                }\n",
       "            }, 500);\n",
       "            "
      ],
      "text/plain": [
       "<IPython.core.display.Javascript object>"
      ]
     },
     "metadata": {},
     "output_type": "display_data"
    }
   ],
   "source": [
    "olsmod2 = sm.OLS(y_train, x_train3).fit()\n",
    "print(olsmod2.summary())"
   ]
  },
  {
   "cell_type": "code",
   "execution_count": 297,
   "metadata": {},
   "outputs": [
    {
     "name": "stdout",
     "output_type": "stream",
     "text": [
      "Training Performance\n",
      "\n"
     ]
    },
    {
     "data": {
      "text/html": [
       "<div>\n",
       "<style scoped>\n",
       "    .dataframe tbody tr th:only-of-type {\n",
       "        vertical-align: middle;\n",
       "    }\n",
       "\n",
       "    .dataframe tbody tr th {\n",
       "        vertical-align: top;\n",
       "    }\n",
       "\n",
       "    .dataframe thead th {\n",
       "        text-align: right;\n",
       "    }\n",
       "</style>\n",
       "<table border=\"1\" class=\"dataframe\">\n",
       "  <thead>\n",
       "    <tr style=\"text-align: right;\">\n",
       "      <th></th>\n",
       "      <th>RMSE</th>\n",
       "      <th>MAE</th>\n",
       "      <th>R-squared</th>\n",
       "      <th>Adj. R-squared</th>\n",
       "      <th>MAPE</th>\n",
       "    </tr>\n",
       "  </thead>\n",
       "  <tbody>\n",
       "    <tr>\n",
       "      <th>0</th>\n",
       "      <td>0.255305</td>\n",
       "      <td>0.194669</td>\n",
       "      <td>0.754169</td>\n",
       "      <td>0.752117</td>\n",
       "      <td>4.521786</td>\n",
       "    </tr>\n",
       "  </tbody>\n",
       "</table>\n",
       "</div>"
      ],
      "text/plain": [
       "       RMSE       MAE  R-squared  Adj. R-squared      MAPE\n",
       "0  0.255305  0.194669   0.754169        0.752117  4.521786"
      ]
     },
     "execution_count": 297,
     "metadata": {},
     "output_type": "execute_result"
    },
    {
     "data": {
      "application/javascript": [
       "\n",
       "            setTimeout(function() {\n",
       "                var nbb_cell_id = 297;\n",
       "                var nbb_unformatted_code = \"# checking model performance on train set (seen 70% data)\\nprint(\\\"Training Performance\\\\n\\\")\\nolsmod2_train_perf = model_performance_regression(olsmod2, x_train3, y_train)\\nolsmod2_train_perf\";\n",
       "                var nbb_formatted_code = \"# checking model performance on train set (seen 70% data)\\nprint(\\\"Training Performance\\\\n\\\")\\nolsmod2_train_perf = model_performance_regression(olsmod2, x_train3, y_train)\\nolsmod2_train_perf\";\n",
       "                var nbb_cells = Jupyter.notebook.get_cells();\n",
       "                for (var i = 0; i < nbb_cells.length; ++i) {\n",
       "                    if (nbb_cells[i].input_prompt_number == nbb_cell_id) {\n",
       "                        if (nbb_cells[i].get_text() == nbb_unformatted_code) {\n",
       "                             nbb_cells[i].set_text(nbb_formatted_code);\n",
       "                        }\n",
       "                        break;\n",
       "                    }\n",
       "                }\n",
       "            }, 500);\n",
       "            "
      ],
      "text/plain": [
       "<IPython.core.display.Javascript object>"
      ]
     },
     "metadata": {},
     "output_type": "display_data"
    },
    {
     "data": {
      "application/javascript": [
       "\n",
       "            setTimeout(function() {\n",
       "                var nbb_cell_id = 297;\n",
       "                var nbb_unformatted_code = \"# checking model performance on train set (seen 70% data)\\nprint(\\\"Training Performance\\\\n\\\")\\nolsmod2_train_perf = model_performance_regression(olsmod2, x_train3, y_train)\\nolsmod2_train_perf\";\n",
       "                var nbb_formatted_code = \"# checking model performance on train set (seen 70% data)\\nprint(\\\"Training Performance\\\\n\\\")\\nolsmod2_train_perf = model_performance_regression(olsmod2, x_train3, y_train)\\nolsmod2_train_perf\";\n",
       "                var nbb_cells = Jupyter.notebook.get_cells();\n",
       "                for (var i = 0; i < nbb_cells.length; ++i) {\n",
       "                    if (nbb_cells[i].input_prompt_number == nbb_cell_id) {\n",
       "                        if (nbb_cells[i].get_text() == nbb_unformatted_code) {\n",
       "                             nbb_cells[i].set_text(nbb_formatted_code);\n",
       "                        }\n",
       "                        break;\n",
       "                    }\n",
       "                }\n",
       "            }, 500);\n",
       "            "
      ],
      "text/plain": [
       "<IPython.core.display.Javascript object>"
      ]
     },
     "metadata": {},
     "output_type": "display_data"
    }
   ],
   "source": [
    "# checking model performance on train set (seen 70% data)\n",
    "print(\"Training Performance\\n\")\n",
    "olsmod2_train_perf = model_performance_regression(olsmod2, x_train3, y_train)\n",
    "olsmod2_train_perf"
   ]
  },
  {
   "cell_type": "code",
   "execution_count": 298,
   "metadata": {},
   "outputs": [
    {
     "name": "stdout",
     "output_type": "stream",
     "text": [
      "Test Performance\n",
      "\n"
     ]
    },
    {
     "data": {
      "text/html": [
       "<div>\n",
       "<style scoped>\n",
       "    .dataframe tbody tr th:only-of-type {\n",
       "        vertical-align: middle;\n",
       "    }\n",
       "\n",
       "    .dataframe tbody tr th {\n",
       "        vertical-align: top;\n",
       "    }\n",
       "\n",
       "    .dataframe thead th {\n",
       "        text-align: right;\n",
       "    }\n",
       "</style>\n",
       "<table border=\"1\" class=\"dataframe\">\n",
       "  <thead>\n",
       "    <tr style=\"text-align: right;\">\n",
       "      <th></th>\n",
       "      <th>RMSE</th>\n",
       "      <th>MAE</th>\n",
       "      <th>R-squared</th>\n",
       "      <th>Adj. R-squared</th>\n",
       "      <th>MAPE</th>\n",
       "    </tr>\n",
       "  </thead>\n",
       "  <tbody>\n",
       "    <tr>\n",
       "      <th>0</th>\n",
       "      <td>0.260588</td>\n",
       "      <td>0.198696</td>\n",
       "      <td>0.746845</td>\n",
       "      <td>0.741861</td>\n",
       "      <td>4.628005</td>\n",
       "    </tr>\n",
       "  </tbody>\n",
       "</table>\n",
       "</div>"
      ],
      "text/plain": [
       "       RMSE       MAE  R-squared  Adj. R-squared      MAPE\n",
       "0  0.260588  0.198696   0.746845        0.741861  4.628005"
      ]
     },
     "execution_count": 298,
     "metadata": {},
     "output_type": "execute_result"
    },
    {
     "data": {
      "application/javascript": [
       "\n",
       "            setTimeout(function() {\n",
       "                var nbb_cell_id = 298;\n",
       "                var nbb_unformatted_code = \"# checking model performance on test set (seen 30% data)\\nprint(\\\"Test Performance\\\\n\\\")\\nolsmod2_test_perf = model_performance_regression(olsmod2, x_test3, y_test)\\nolsmod2_test_perf\";\n",
       "                var nbb_formatted_code = \"# checking model performance on test set (seen 30% data)\\nprint(\\\"Test Performance\\\\n\\\")\\nolsmod2_test_perf = model_performance_regression(olsmod2, x_test3, y_test)\\nolsmod2_test_perf\";\n",
       "                var nbb_cells = Jupyter.notebook.get_cells();\n",
       "                for (var i = 0; i < nbb_cells.length; ++i) {\n",
       "                    if (nbb_cells[i].input_prompt_number == nbb_cell_id) {\n",
       "                        if (nbb_cells[i].get_text() == nbb_unformatted_code) {\n",
       "                             nbb_cells[i].set_text(nbb_formatted_code);\n",
       "                        }\n",
       "                        break;\n",
       "                    }\n",
       "                }\n",
       "            }, 500);\n",
       "            "
      ],
      "text/plain": [
       "<IPython.core.display.Javascript object>"
      ]
     },
     "metadata": {},
     "output_type": "display_data"
    },
    {
     "data": {
      "application/javascript": [
       "\n",
       "            setTimeout(function() {\n",
       "                var nbb_cell_id = 298;\n",
       "                var nbb_unformatted_code = \"# checking model performance on test set (seen 30% data)\\nprint(\\\"Test Performance\\\\n\\\")\\nolsmod2_test_perf = model_performance_regression(olsmod2, x_test3, y_test)\\nolsmod2_test_perf\";\n",
       "                var nbb_formatted_code = \"# checking model performance on test set (seen 30% data)\\nprint(\\\"Test Performance\\\\n\\\")\\nolsmod2_test_perf = model_performance_regression(olsmod2, x_test3, y_test)\\nolsmod2_test_perf\";\n",
       "                var nbb_cells = Jupyter.notebook.get_cells();\n",
       "                for (var i = 0; i < nbb_cells.length; ++i) {\n",
       "                    if (nbb_cells[i].input_prompt_number == nbb_cell_id) {\n",
       "                        if (nbb_cells[i].get_text() == nbb_unformatted_code) {\n",
       "                             nbb_cells[i].set_text(nbb_formatted_code);\n",
       "                        }\n",
       "                        break;\n",
       "                    }\n",
       "                }\n",
       "            }, 500);\n",
       "            "
      ],
      "text/plain": [
       "<IPython.core.display.Javascript object>"
      ]
     },
     "metadata": {},
     "output_type": "display_data"
    }
   ],
   "source": [
    "# checking model performance on test set (seen 30% data)\n",
    "print(\"Test Performance\\n\")\n",
    "olsmod2_test_perf = model_performance_regression(olsmod2, x_test3, y_test)\n",
    "olsmod2_test_perf"
   ]
  },
  {
   "cell_type": "markdown",
   "metadata": {},
   "source": [
    "Observation\n",
    "* All the features with p-values above 0.05 have been removed. X_train3 now contains the new features to use and olsmod2 is the final model to work with. \n",
    "* The new adjusted R-squared is 0.754, indicating that the model fitted is able to explain approximately 75% of the data. This is considered a good fit.\n",
    "* Comparing the new adjusted R-squared with the one in olsmod1 (0.752) shows that the variables dropped did not impact the model so much.\n",
    "* The values RMSE and MAE are comparable. This is an indication that the model is not having the problem of overfitting."
   ]
  },
  {
   "cell_type": "code",
   "execution_count": null,
   "metadata": {},
   "outputs": [],
   "source": []
  },
  {
   "cell_type": "markdown",
   "metadata": {},
   "source": [
    "## Test for Linearity and Independence"
   ]
  },
  {
   "cell_type": "code",
   "execution_count": 299,
   "metadata": {},
   "outputs": [
    {
     "data": {
      "text/html": [
       "<div>\n",
       "<style scoped>\n",
       "    .dataframe tbody tr th:only-of-type {\n",
       "        vertical-align: middle;\n",
       "    }\n",
       "\n",
       "    .dataframe tbody tr th {\n",
       "        vertical-align: top;\n",
       "    }\n",
       "\n",
       "    .dataframe thead th {\n",
       "        text-align: right;\n",
       "    }\n",
       "</style>\n",
       "<table border=\"1\" class=\"dataframe\">\n",
       "  <thead>\n",
       "    <tr style=\"text-align: right;\">\n",
       "      <th></th>\n",
       "      <th>Actual Values</th>\n",
       "      <th>Fitted Values</th>\n",
       "      <th>Residuals</th>\n",
       "    </tr>\n",
       "  </thead>\n",
       "  <tbody>\n",
       "    <tr>\n",
       "      <th>961</th>\n",
       "      <td>3.171784</td>\n",
       "      <td>3.985920</td>\n",
       "      <td>-0.814136</td>\n",
       "    </tr>\n",
       "    <tr>\n",
       "      <th>900</th>\n",
       "      <td>4.192076</td>\n",
       "      <td>4.338710</td>\n",
       "      <td>-0.146634</td>\n",
       "    </tr>\n",
       "    <tr>\n",
       "      <th>1728</th>\n",
       "      <td>4.799832</td>\n",
       "      <td>4.552357</td>\n",
       "      <td>0.247475</td>\n",
       "    </tr>\n",
       "    <tr>\n",
       "      <th>2998</th>\n",
       "      <td>4.151197</td>\n",
       "      <td>4.338509</td>\n",
       "      <td>-0.187311</td>\n",
       "    </tr>\n",
       "    <tr>\n",
       "      <th>3202</th>\n",
       "      <td>4.856474</td>\n",
       "      <td>5.284583</td>\n",
       "      <td>-0.428109</td>\n",
       "    </tr>\n",
       "  </tbody>\n",
       "</table>\n",
       "</div>"
      ],
      "text/plain": [
       "      Actual Values  Fitted Values  Residuals\n",
       "961        3.171784       3.985920  -0.814136\n",
       "900        4.192076       4.338710  -0.146634\n",
       "1728       4.799832       4.552357   0.247475\n",
       "2998       4.151197       4.338509  -0.187311\n",
       "3202       4.856474       5.284583  -0.428109"
      ]
     },
     "execution_count": 299,
     "metadata": {},
     "output_type": "execute_result"
    },
    {
     "data": {
      "application/javascript": [
       "\n",
       "            setTimeout(function() {\n",
       "                var nbb_cell_id = 299;\n",
       "                var nbb_unformatted_code = \"# let us create a dataframe with actual, fitted and residual values\\ndf_pred = pd.DataFrame()\\n\\ndf_pred[\\\"Actual Values\\\"] = y_train  # actual values\\ndf_pred[\\\"Fitted Values\\\"] = olsmod2.fittedvalues  # predicted values\\ndf_pred[\\\"Residuals\\\"] = olsmod2.resid  # residuals\\n\\ndf_pred.head()\";\n",
       "                var nbb_formatted_code = \"# let us create a dataframe with actual, fitted and residual values\\ndf_pred = pd.DataFrame()\\n\\ndf_pred[\\\"Actual Values\\\"] = y_train  # actual values\\ndf_pred[\\\"Fitted Values\\\"] = olsmod2.fittedvalues  # predicted values\\ndf_pred[\\\"Residuals\\\"] = olsmod2.resid  # residuals\\n\\ndf_pred.head()\";\n",
       "                var nbb_cells = Jupyter.notebook.get_cells();\n",
       "                for (var i = 0; i < nbb_cells.length; ++i) {\n",
       "                    if (nbb_cells[i].input_prompt_number == nbb_cell_id) {\n",
       "                        if (nbb_cells[i].get_text() == nbb_unformatted_code) {\n",
       "                             nbb_cells[i].set_text(nbb_formatted_code);\n",
       "                        }\n",
       "                        break;\n",
       "                    }\n",
       "                }\n",
       "            }, 500);\n",
       "            "
      ],
      "text/plain": [
       "<IPython.core.display.Javascript object>"
      ]
     },
     "metadata": {},
     "output_type": "display_data"
    },
    {
     "data": {
      "application/javascript": [
       "\n",
       "            setTimeout(function() {\n",
       "                var nbb_cell_id = 299;\n",
       "                var nbb_unformatted_code = \"# let us create a dataframe with actual, fitted and residual values\\ndf_pred = pd.DataFrame()\\n\\ndf_pred[\\\"Actual Values\\\"] = y_train  # actual values\\ndf_pred[\\\"Fitted Values\\\"] = olsmod2.fittedvalues  # predicted values\\ndf_pred[\\\"Residuals\\\"] = olsmod2.resid  # residuals\\n\\ndf_pred.head()\";\n",
       "                var nbb_formatted_code = \"# let us create a dataframe with actual, fitted and residual values\\ndf_pred = pd.DataFrame()\\n\\ndf_pred[\\\"Actual Values\\\"] = y_train  # actual values\\ndf_pred[\\\"Fitted Values\\\"] = olsmod2.fittedvalues  # predicted values\\ndf_pred[\\\"Residuals\\\"] = olsmod2.resid  # residuals\\n\\ndf_pred.head()\";\n",
       "                var nbb_cells = Jupyter.notebook.get_cells();\n",
       "                for (var i = 0; i < nbb_cells.length; ++i) {\n",
       "                    if (nbb_cells[i].input_prompt_number == nbb_cell_id) {\n",
       "                        if (nbb_cells[i].get_text() == nbb_unformatted_code) {\n",
       "                             nbb_cells[i].set_text(nbb_formatted_code);\n",
       "                        }\n",
       "                        break;\n",
       "                    }\n",
       "                }\n",
       "            }, 500);\n",
       "            "
      ],
      "text/plain": [
       "<IPython.core.display.Javascript object>"
      ]
     },
     "metadata": {},
     "output_type": "display_data"
    }
   ],
   "source": [
    "# Create a dataframe with actual, fitted and residual values\n",
    "df_pred = pd.DataFrame()\n",
    "\n",
    "df_pred[\"Actual Values\"] = y_train  # actual values\n",
    "df_pred[\"Fitted Values\"] = olsmod2.fittedvalues  # predicted values\n",
    "df_pred[\"Residuals\"] = olsmod2.resid  # residuals\n",
    "\n",
    "df_pred.head()"
   ]
  },
  {
   "cell_type": "code",
   "execution_count": 300,
   "metadata": {},
   "outputs": [
    {
     "data": {
      "image/png": "[encoded data removed]",
      "text/plain": [
       "<Figure size 432x288 with 1 Axes>"
      ]
     },
     "metadata": {
      "needs_background": "light"
     },
     "output_type": "display_data"
    },
    {
     "data": {
      "application/javascript": [
       "\n",
       "            setTimeout(function() {\n",
       "                var nbb_cell_id = 300;\n",
       "                var nbb_unformatted_code = \"# let's plot the fitted values vs residuals\\n\\nsns.residplot(\\n    data=df_pred, x=\\\"Fitted Values\\\", y=\\\"Residuals\\\", color=\\\"purple\\\", lowess=True\\n)\\nplt.xlabel(\\\"Fitted Values\\\")\\nplt.ylabel(\\\"Residuals\\\")\\nplt.title(\\\"Fitted vs Residual plot\\\")\\nplt.show()\";\n",
       "                var nbb_formatted_code = \"# let's plot the fitted values vs residuals\\n\\nsns.residplot(\\n    data=df_pred, x=\\\"Fitted Values\\\", y=\\\"Residuals\\\", color=\\\"purple\\\", lowess=True\\n)\\nplt.xlabel(\\\"Fitted Values\\\")\\nplt.ylabel(\\\"Residuals\\\")\\nplt.title(\\\"Fitted vs Residual plot\\\")\\nplt.show()\";\n",
       "                var nbb_cells = Jupyter.notebook.get_cells();\n",
       "                for (var i = 0; i < nbb_cells.length; ++i) {\n",
       "                    if (nbb_cells[i].input_prompt_number == nbb_cell_id) {\n",
       "                        if (nbb_cells[i].get_text() == nbb_unformatted_code) {\n",
       "                             nbb_cells[i].set_text(nbb_formatted_code);\n",
       "                        }\n",
       "                        break;\n",
       "                    }\n",
       "                }\n",
       "            }, 500);\n",
       "            "
      ],
      "text/plain": [
       "<IPython.core.display.Javascript object>"
      ]
     },
     "metadata": {},
     "output_type": "display_data"
    },
    {
     "data": {
      "application/javascript": [
       "\n",
       "            setTimeout(function() {\n",
       "                var nbb_cell_id = 300;\n",
       "                var nbb_unformatted_code = \"# let's plot the fitted values vs residuals\\n\\nsns.residplot(\\n    data=df_pred, x=\\\"Fitted Values\\\", y=\\\"Residuals\\\", color=\\\"purple\\\", lowess=True\\n)\\nplt.xlabel(\\\"Fitted Values\\\")\\nplt.ylabel(\\\"Residuals\\\")\\nplt.title(\\\"Fitted vs Residual plot\\\")\\nplt.show()\";\n",
       "                var nbb_formatted_code = \"# let's plot the fitted values vs residuals\\n\\nsns.residplot(\\n    data=df_pred, x=\\\"Fitted Values\\\", y=\\\"Residuals\\\", color=\\\"purple\\\", lowess=True\\n)\\nplt.xlabel(\\\"Fitted Values\\\")\\nplt.ylabel(\\\"Residuals\\\")\\nplt.title(\\\"Fitted vs Residual plot\\\")\\nplt.show()\";\n",
       "                var nbb_cells = Jupyter.notebook.get_cells();\n",
       "                for (var i = 0; i < nbb_cells.length; ++i) {\n",
       "                    if (nbb_cells[i].input_prompt_number == nbb_cell_id) {\n",
       "                        if (nbb_cells[i].get_text() == nbb_unformatted_code) {\n",
       "                             nbb_cells[i].set_text(nbb_formatted_code);\n",
       "                        }\n",
       "                        break;\n",
       "                    }\n",
       "                }\n",
       "            }, 500);\n",
       "            "
      ],
      "text/plain": [
       "<IPython.core.display.Javascript object>"
      ]
     },
     "metadata": {},
     "output_type": "display_data"
    }
   ],
   "source": [
    "# Plot the fitted values vs residuals\n",
    "\n",
    "sns.residplot(\n",
    "    data=df_pred, x=\"Fitted Values\", y=\"Residuals\", color=\"purple\", lowess=True\n",
    ")\n",
    "plt.xlabel(\"Fitted Values\")\n",
    "plt.ylabel(\"Residuals\")\n",
    "plt.title(\"Fitted vs Residual plot\")\n",
    "plt.show()"
   ]
  },
  {
   "cell_type": "markdown",
   "metadata": {},
   "source": [
    "Observation\n",
    "\n",
    "* The scatter plot above plots the distribution of residuals (errors) against fitted values (predicted values).\n",
    "* Presence of a pattern indicates that there is non-linearity in the model, while absence of data indicates otherwise.\n",
    "* There is no definite pattern in the scatter plot, so the assumptions of linearity and independence are satisfied."
   ]
  },
  {
   "cell_type": "code",
   "execution_count": null,
   "metadata": {},
   "outputs": [],
   "source": []
  },
  {
   "cell_type": "markdown",
   "metadata": {},
   "source": [
    "## Test for Normality"
   ]
  },
  {
   "cell_type": "code",
   "execution_count": 301,
   "metadata": {},
   "outputs": [
    {
     "data": {
      "image/png": "[encoded data removed]",
      "text/plain": [
       "<Figure size 432x288 with 1 Axes>"
      ]
     },
     "metadata": {
      "needs_background": "light"
     },
     "output_type": "display_data"
    },
    {
     "data": {
      "application/javascript": [
       "\n",
       "            setTimeout(function() {\n",
       "                var nbb_cell_id = 301;\n",
       "                var nbb_unformatted_code = \"sns.histplot(data=df_pred, x=\\\"Residuals\\\", kde=True)\\nplt.title(\\\"Normality of residuals\\\")\\nplt.show()\";\n",
       "                var nbb_formatted_code = \"sns.histplot(data=df_pred, x=\\\"Residuals\\\", kde=True)\\nplt.title(\\\"Normality of residuals\\\")\\nplt.show()\";\n",
       "                var nbb_cells = Jupyter.notebook.get_cells();\n",
       "                for (var i = 0; i < nbb_cells.length; ++i) {\n",
       "                    if (nbb_cells[i].input_prompt_number == nbb_cell_id) {\n",
       "                        if (nbb_cells[i].get_text() == nbb_unformatted_code) {\n",
       "                             nbb_cells[i].set_text(nbb_formatted_code);\n",
       "                        }\n",
       "                        break;\n",
       "                    }\n",
       "                }\n",
       "            }, 500);\n",
       "            "
      ],
      "text/plain": [
       "<IPython.core.display.Javascript object>"
      ]
     },
     "metadata": {},
     "output_type": "display_data"
    },
    {
     "data": {
      "application/javascript": [
       "\n",
       "            setTimeout(function() {\n",
       "                var nbb_cell_id = 301;\n",
       "                var nbb_unformatted_code = \"sns.histplot(data=df_pred, x=\\\"Residuals\\\", kde=True)\\nplt.title(\\\"Normality of residuals\\\")\\nplt.show()\";\n",
       "                var nbb_formatted_code = \"sns.histplot(data=df_pred, x=\\\"Residuals\\\", kde=True)\\nplt.title(\\\"Normality of residuals\\\")\\nplt.show()\";\n",
       "                var nbb_cells = Jupyter.notebook.get_cells();\n",
       "                for (var i = 0; i < nbb_cells.length; ++i) {\n",
       "                    if (nbb_cells[i].input_prompt_number == nbb_cell_id) {\n",
       "                        if (nbb_cells[i].get_text() == nbb_unformatted_code) {\n",
       "                             nbb_cells[i].set_text(nbb_formatted_code);\n",
       "                        }\n",
       "                        break;\n",
       "                    }\n",
       "                }\n",
       "            }, 500);\n",
       "            "
      ],
      "text/plain": [
       "<IPython.core.display.Javascript object>"
      ]
     },
     "metadata": {},
     "output_type": "display_data"
    }
   ],
   "source": [
    "sns.histplot(data=df_pred, x=\"Residuals\", kde=True)\n",
    "plt.title(\"Normality of residuals\")\n",
    "plt.show()"
   ]
  },
  {
   "cell_type": "markdown",
   "metadata": {},
   "source": [
    "Observation\n",
    "- The histogram of residuals does have a bell shape.\n"
   ]
  },
  {
   "cell_type": "markdown",
   "metadata": {},
   "source": [
    "## A look at the Q-Q Plot"
   ]
  },
  {
   "cell_type": "code",
   "execution_count": 302,
   "metadata": {},
   "outputs": [
    {
     "data": {
      "image/png": "[encoded data removed]",
      "text/plain": [
       "<Figure size 432x288 with 1 Axes>"
      ]
     },
     "metadata": {
      "needs_background": "light"
     },
     "output_type": "display_data"
    },
    {
     "data": {
      "application/javascript": [
       "\n",
       "            setTimeout(function() {\n",
       "                var nbb_cell_id = 302;\n",
       "                var nbb_unformatted_code = \"import pylab\\nimport scipy.stats as stats\\n\\nstats.probplot(df_pred[\\\"Residuals\\\"], dist=\\\"norm\\\", plot=pylab)\\nplt.show()\";\n",
       "                var nbb_formatted_code = \"import pylab\\nimport scipy.stats as stats\\n\\nstats.probplot(df_pred[\\\"Residuals\\\"], dist=\\\"norm\\\", plot=pylab)\\nplt.show()\";\n",
       "                var nbb_cells = Jupyter.notebook.get_cells();\n",
       "                for (var i = 0; i < nbb_cells.length; ++i) {\n",
       "                    if (nbb_cells[i].input_prompt_number == nbb_cell_id) {\n",
       "                        if (nbb_cells[i].get_text() == nbb_unformatted_code) {\n",
       "                             nbb_cells[i].set_text(nbb_formatted_code);\n",
       "                        }\n",
       "                        break;\n",
       "                    }\n",
       "                }\n",
       "            }, 500);\n",
       "            "
      ],
      "text/plain": [
       "<IPython.core.display.Javascript object>"
      ]
     },
     "metadata": {},
     "output_type": "display_data"
    },
    {
     "data": {
      "application/javascript": [
       "\n",
       "            setTimeout(function() {\n",
       "                var nbb_cell_id = 302;\n",
       "                var nbb_unformatted_code = \"import pylab\\nimport scipy.stats as stats\\n\\nstats.probplot(df_pred[\\\"Residuals\\\"], dist=\\\"norm\\\", plot=pylab)\\nplt.show()\";\n",
       "                var nbb_formatted_code = \"import pylab\\nimport scipy.stats as stats\\n\\nstats.probplot(df_pred[\\\"Residuals\\\"], dist=\\\"norm\\\", plot=pylab)\\nplt.show()\";\n",
       "                var nbb_cells = Jupyter.notebook.get_cells();\n",
       "                for (var i = 0; i < nbb_cells.length; ++i) {\n",
       "                    if (nbb_cells[i].input_prompt_number == nbb_cell_id) {\n",
       "                        if (nbb_cells[i].get_text() == nbb_unformatted_code) {\n",
       "                             nbb_cells[i].set_text(nbb_formatted_code);\n",
       "                        }\n",
       "                        break;\n",
       "                    }\n",
       "                }\n",
       "            }, 500);\n",
       "            "
      ],
      "text/plain": [
       "<IPython.core.display.Javascript object>"
      ]
     },
     "metadata": {},
     "output_type": "display_data"
    }
   ],
   "source": [
    "import pylab\n",
    "import scipy.stats as stats\n",
    "\n",
    "stats.probplot(df_pred[\"Residuals\"], dist=\"norm\", plot=pylab)\n",
    "plt.show()"
   ]
  },
  {
   "cell_type": "markdown",
   "metadata": {},
   "source": [
    "\n",
    "- The residual follows a straight line except for the tails.\n"
   ]
  },
  {
   "cell_type": "code",
   "execution_count": 303,
   "metadata": {},
   "outputs": [
    {
     "data": {
      "text/plain": [
       "ShapiroResult(statistic=0.9762494564056396, pvalue=1.2323419483876262e-19)"
      ]
     },
     "execution_count": 303,
     "metadata": {},
     "output_type": "execute_result"
    },
    {
     "data": {
      "application/javascript": [
       "\n",
       "            setTimeout(function() {\n",
       "                var nbb_cell_id = 303;\n",
       "                var nbb_unformatted_code = \"stats.shapiro(df_pred[\\\"Residuals\\\"])\";\n",
       "                var nbb_formatted_code = \"stats.shapiro(df_pred[\\\"Residuals\\\"])\";\n",
       "                var nbb_cells = Jupyter.notebook.get_cells();\n",
       "                for (var i = 0; i < nbb_cells.length; ++i) {\n",
       "                    if (nbb_cells[i].input_prompt_number == nbb_cell_id) {\n",
       "                        if (nbb_cells[i].get_text() == nbb_unformatted_code) {\n",
       "                             nbb_cells[i].set_text(nbb_formatted_code);\n",
       "                        }\n",
       "                        break;\n",
       "                    }\n",
       "                }\n",
       "            }, 500);\n",
       "            "
      ],
      "text/plain": [
       "<IPython.core.display.Javascript object>"
      ]
     },
     "metadata": {},
     "output_type": "display_data"
    },
    {
     "data": {
      "application/javascript": [
       "\n",
       "            setTimeout(function() {\n",
       "                var nbb_cell_id = 303;\n",
       "                var nbb_unformatted_code = \"stats.shapiro(df_pred[\\\"Residuals\\\"])\";\n",
       "                var nbb_formatted_code = \"stats.shapiro(df_pred[\\\"Residuals\\\"])\";\n",
       "                var nbb_cells = Jupyter.notebook.get_cells();\n",
       "                for (var i = 0; i < nbb_cells.length; ++i) {\n",
       "                    if (nbb_cells[i].input_prompt_number == nbb_cell_id) {\n",
       "                        if (nbb_cells[i].get_text() == nbb_unformatted_code) {\n",
       "                             nbb_cells[i].set_text(nbb_formatted_code);\n",
       "                        }\n",
       "                        break;\n",
       "                    }\n",
       "                }\n",
       "            }, 500);\n",
       "            "
      ],
      "text/plain": [
       "<IPython.core.display.Javascript object>"
      ]
     },
     "metadata": {},
     "output_type": "display_data"
    }
   ],
   "source": [
    "stats.shapiro(df_pred[\"Residuals\"])"
   ]
  },
  {
   "cell_type": "markdown",
   "metadata": {},
   "source": [
    "- The p-value obtained is less than 0.05, indicating that  the residuals are not normal.\n",
    "- Strictly speaking, the residuals are not normal.\n",
    "- However, as an approximation, we can say the distribution as close to being normal as possible. \n",
    "- The assumption of normality is therefore satisfied."
   ]
  },
  {
   "cell_type": "markdown",
   "metadata": {},
   "source": [
    "## Test for Homoscedasticity"
   ]
  },
  {
   "cell_type": "code",
   "execution_count": 305,
   "metadata": {},
   "outputs": [
    {
     "data": {
      "text/plain": [
       "[('F statistic', 1.069290074464985), ('p-value', 0.12410014610789008)]"
      ]
     },
     "execution_count": 305,
     "metadata": {},
     "output_type": "execute_result"
    },
    {
     "data": {
      "application/javascript": [
       "\n",
       "            setTimeout(function() {\n",
       "                var nbb_cell_id = 305;\n",
       "                var nbb_unformatted_code = \"import statsmodels.stats.api as sms\\nfrom statsmodels.compat import lzip\\n\\nname = [\\\"F statistic\\\", \\\"p-value\\\"]\\ntest = sms.het_goldfeldquandt(df_pred[\\\"Residuals\\\"], x_train3)\\nlzip(name, test)\";\n",
       "                var nbb_formatted_code = \"import statsmodels.stats.api as sms\\nfrom statsmodels.compat import lzip\\n\\nname = [\\\"F statistic\\\", \\\"p-value\\\"]\\ntest = sms.het_goldfeldquandt(df_pred[\\\"Residuals\\\"], x_train3)\\nlzip(name, test)\";\n",
       "                var nbb_cells = Jupyter.notebook.get_cells();\n",
       "                for (var i = 0; i < nbb_cells.length; ++i) {\n",
       "                    if (nbb_cells[i].input_prompt_number == nbb_cell_id) {\n",
       "                        if (nbb_cells[i].get_text() == nbb_unformatted_code) {\n",
       "                             nbb_cells[i].set_text(nbb_formatted_code);\n",
       "                        }\n",
       "                        break;\n",
       "                    }\n",
       "                }\n",
       "            }, 500);\n",
       "            "
      ],
      "text/plain": [
       "<IPython.core.display.Javascript object>"
      ]
     },
     "metadata": {},
     "output_type": "display_data"
    },
    {
     "data": {
      "application/javascript": [
       "\n",
       "            setTimeout(function() {\n",
       "                var nbb_cell_id = 305;\n",
       "                var nbb_unformatted_code = \"import statsmodels.stats.api as sms\\nfrom statsmodels.compat import lzip\\n\\nname = [\\\"F statistic\\\", \\\"p-value\\\"]\\ntest = sms.het_goldfeldquandt(df_pred[\\\"Residuals\\\"], x_train3)\\nlzip(name, test)\";\n",
       "                var nbb_formatted_code = \"import statsmodels.stats.api as sms\\nfrom statsmodels.compat import lzip\\n\\nname = [\\\"F statistic\\\", \\\"p-value\\\"]\\ntest = sms.het_goldfeldquandt(df_pred[\\\"Residuals\\\"], x_train3)\\nlzip(name, test)\";\n",
       "                var nbb_cells = Jupyter.notebook.get_cells();\n",
       "                for (var i = 0; i < nbb_cells.length; ++i) {\n",
       "                    if (nbb_cells[i].input_prompt_number == nbb_cell_id) {\n",
       "                        if (nbb_cells[i].get_text() == nbb_unformatted_code) {\n",
       "                             nbb_cells[i].set_text(nbb_formatted_code);\n",
       "                        }\n",
       "                        break;\n",
       "                    }\n",
       "                }\n",
       "            }, 500);\n",
       "            "
      ],
      "text/plain": [
       "<IPython.core.display.Javascript object>"
      ]
     },
     "metadata": {},
     "output_type": "display_data"
    }
   ],
   "source": [
    "import statsmodels.stats.api as sms\n",
    "from statsmodels.compat import lzip\n",
    "\n",
    "name = [\"F statistic\", \"p-value\"]\n",
    "test = sms.het_goldfeldquandt(df_pred[\"Residuals\"], x_train3)\n",
    "lzip(name, test)"
   ]
  },
  {
   "cell_type": "markdown",
   "metadata": {},
   "source": [
    "- Homoscedasticicity is a situation where the variance of the residuals is symmetrically distributed across the regression line. In other words, the variance of the residuals is constant.\n",
    "- The p-value obtained from the test is 0.12, a value greater than 0.05.\n",
    "- We can say that the residuals are homoscedastic. So, this assumption is satisfied."
   ]
  },
  {
   "cell_type": "markdown",
   "metadata": {},
   "source": [
    "## Prediction on the test data"
   ]
  },
  {
   "cell_type": "code",
   "execution_count": 306,
   "metadata": {},
   "outputs": [
    {
     "data": {
      "text/html": [
       "<div>\n",
       "<style scoped>\n",
       "    .dataframe tbody tr th:only-of-type {\n",
       "        vertical-align: middle;\n",
       "    }\n",
       "\n",
       "    .dataframe tbody tr th {\n",
       "        vertical-align: top;\n",
       "    }\n",
       "\n",
       "    .dataframe thead th {\n",
       "        text-align: right;\n",
       "    }\n",
       "</style>\n",
       "<table border=\"1\" class=\"dataframe\">\n",
       "  <thead>\n",
       "    <tr style=\"text-align: right;\">\n",
       "      <th></th>\n",
       "      <th>Actual</th>\n",
       "      <th>Predicted</th>\n",
       "    </tr>\n",
       "  </thead>\n",
       "  <tbody>\n",
       "    <tr>\n",
       "      <th>1502</th>\n",
       "      <td>3.993234</td>\n",
       "      <td>4.023564</td>\n",
       "    </tr>\n",
       "    <tr>\n",
       "      <th>3155</th>\n",
       "      <td>3.864722</td>\n",
       "      <td>3.838349</td>\n",
       "    </tr>\n",
       "    <tr>\n",
       "      <th>2513</th>\n",
       "      <td>4.235989</td>\n",
       "      <td>4.208150</td>\n",
       "    </tr>\n",
       "    <tr>\n",
       "      <th>1125</th>\n",
       "      <td>4.765417</td>\n",
       "      <td>4.731720</td>\n",
       "    </tr>\n",
       "    <tr>\n",
       "      <th>320</th>\n",
       "      <td>4.805577</td>\n",
       "      <td>4.630041</td>\n",
       "    </tr>\n",
       "    <tr>\n",
       "      <th>3197</th>\n",
       "      <td>4.837709</td>\n",
       "      <td>4.672180</td>\n",
       "    </tr>\n",
       "    <tr>\n",
       "      <th>591</th>\n",
       "      <td>4.720550</td>\n",
       "      <td>4.672199</td>\n",
       "    </tr>\n",
       "    <tr>\n",
       "      <th>478</th>\n",
       "      <td>4.560800</td>\n",
       "      <td>4.315979</td>\n",
       "    </tr>\n",
       "    <tr>\n",
       "      <th>3402</th>\n",
       "      <td>5.031287</td>\n",
       "      <td>5.052126</td>\n",
       "    </tr>\n",
       "    <tr>\n",
       "      <th>2702</th>\n",
       "      <td>4.377391</td>\n",
       "      <td>4.576357</td>\n",
       "    </tr>\n",
       "  </tbody>\n",
       "</table>\n",
       "</div>"
      ],
      "text/plain": [
       "        Actual  Predicted\n",
       "1502  3.993234   4.023564\n",
       "3155  3.864722   3.838349\n",
       "2513  4.235989   4.208150\n",
       "1125  4.765417   4.731720\n",
       "320   4.805577   4.630041\n",
       "3197  4.837709   4.672180\n",
       "591   4.720550   4.672199\n",
       "478   4.560800   4.315979\n",
       "3402  5.031287   5.052126\n",
       "2702  4.377391   4.576357"
      ]
     },
     "execution_count": 306,
     "metadata": {},
     "output_type": "execute_result"
    },
    {
     "data": {
      "application/javascript": [
       "\n",
       "            setTimeout(function() {\n",
       "                var nbb_cell_id = 306;\n",
       "                var nbb_unformatted_code = \"# predictions on the test set\\npred = olsmod2.predict(x_test3)\\n\\ndf_pred_test = pd.DataFrame({\\\"Actual\\\": y_test, \\\"Predicted\\\": pred})\\ndf_pred_test.sample(10, random_state=12)\";\n",
       "                var nbb_formatted_code = \"# predictions on the test set\\npred = olsmod2.predict(x_test3)\\n\\ndf_pred_test = pd.DataFrame({\\\"Actual\\\": y_test, \\\"Predicted\\\": pred})\\ndf_pred_test.sample(10, random_state=12)\";\n",
       "                var nbb_cells = Jupyter.notebook.get_cells();\n",
       "                for (var i = 0; i < nbb_cells.length; ++i) {\n",
       "                    if (nbb_cells[i].input_prompt_number == nbb_cell_id) {\n",
       "                        if (nbb_cells[i].get_text() == nbb_unformatted_code) {\n",
       "                             nbb_cells[i].set_text(nbb_formatted_code);\n",
       "                        }\n",
       "                        break;\n",
       "                    }\n",
       "                }\n",
       "            }, 500);\n",
       "            "
      ],
      "text/plain": [
       "<IPython.core.display.Javascript object>"
      ]
     },
     "metadata": {},
     "output_type": "display_data"
    },
    {
     "data": {
      "application/javascript": [
       "\n",
       "            setTimeout(function() {\n",
       "                var nbb_cell_id = 306;\n",
       "                var nbb_unformatted_code = \"# predictions on the test set\\npred = olsmod2.predict(x_test3)\\n\\ndf_pred_test = pd.DataFrame({\\\"Actual\\\": y_test, \\\"Predicted\\\": pred})\\ndf_pred_test.sample(10, random_state=12)\";\n",
       "                var nbb_formatted_code = \"# predictions on the test set\\npred = olsmod2.predict(x_test3)\\n\\ndf_pred_test = pd.DataFrame({\\\"Actual\\\": y_test, \\\"Predicted\\\": pred})\\ndf_pred_test.sample(10, random_state=12)\";\n",
       "                var nbb_cells = Jupyter.notebook.get_cells();\n",
       "                for (var i = 0; i < nbb_cells.length; ++i) {\n",
       "                    if (nbb_cells[i].input_prompt_number == nbb_cell_id) {\n",
       "                        if (nbb_cells[i].get_text() == nbb_unformatted_code) {\n",
       "                             nbb_cells[i].set_text(nbb_formatted_code);\n",
       "                        }\n",
       "                        break;\n",
       "                    }\n",
       "                }\n",
       "            }, 500);\n",
       "            "
      ],
      "text/plain": [
       "<IPython.core.display.Javascript object>"
      ]
     },
     "metadata": {},
     "output_type": "display_data"
    }
   ],
   "source": [
    "# predictions on the test set\n",
    "pred = olsmod2.predict(x_test3)\n",
    "\n",
    "df_pred_test = pd.DataFrame({\"Actual\": y_test, \"Predicted\": pred})\n",
    "df_pred_test.sample(10, random_state=12)"
   ]
  },
  {
   "cell_type": "markdown",
   "metadata": {},
   "source": [
    "* The actual values and the predicted values are comparable. This is an indication that we have pretty good results from the model."
   ]
  },
  {
   "cell_type": "code",
   "execution_count": null,
   "metadata": {
    "id": "k3e6gzxdMKti"
   },
   "outputs": [],
   "source": []
  },
  {
   "cell_type": "markdown",
   "metadata": {
    "id": "jRYSDgFZMKtm"
   },
   "source": [
    "## Final Model"
   ]
  },
  {
   "cell_type": "code",
   "execution_count": 307,
   "metadata": {
    "id": "x_Sqvs4TMKtn"
   },
   "outputs": [
    {
     "data": {
      "application/javascript": [
       "\n",
       "            setTimeout(function() {\n",
       "                var nbb_cell_id = 307;\n",
       "                var nbb_unformatted_code = \"x_train_final = x_train3.copy()\\nx_test_final = x_test3.copy()\";\n",
       "                var nbb_formatted_code = \"x_train_final = x_train3.copy()\\nx_test_final = x_test3.copy()\";\n",
       "                var nbb_cells = Jupyter.notebook.get_cells();\n",
       "                for (var i = 0; i < nbb_cells.length; ++i) {\n",
       "                    if (nbb_cells[i].input_prompt_number == nbb_cell_id) {\n",
       "                        if (nbb_cells[i].get_text() == nbb_unformatted_code) {\n",
       "                             nbb_cells[i].set_text(nbb_formatted_code);\n",
       "                        }\n",
       "                        break;\n",
       "                    }\n",
       "                }\n",
       "            }, 500);\n",
       "            "
      ],
      "text/plain": [
       "<IPython.core.display.Javascript object>"
      ]
     },
     "metadata": {},
     "output_type": "display_data"
    },
    {
     "data": {
      "application/javascript": [
       "\n",
       "            setTimeout(function() {\n",
       "                var nbb_cell_id = 307;\n",
       "                var nbb_unformatted_code = \"x_train_final = x_train3.copy()\\nx_test_final = x_test3.copy()\";\n",
       "                var nbb_formatted_code = \"x_train_final = x_train3.copy()\\nx_test_final = x_test3.copy()\";\n",
       "                var nbb_cells = Jupyter.notebook.get_cells();\n",
       "                for (var i = 0; i < nbb_cells.length; ++i) {\n",
       "                    if (nbb_cells[i].input_prompt_number == nbb_cell_id) {\n",
       "                        if (nbb_cells[i].get_text() == nbb_unformatted_code) {\n",
       "                             nbb_cells[i].set_text(nbb_formatted_code);\n",
       "                        }\n",
       "                        break;\n",
       "                    }\n",
       "                }\n",
       "            }, 500);\n",
       "            "
      ],
      "text/plain": [
       "<IPython.core.display.Javascript object>"
      ]
     },
     "metadata": {},
     "output_type": "display_data"
    }
   ],
   "source": [
    "x_train_final = x_train3.copy()\n",
    "x_test_final = x_test3.copy()"
   ]
  },
  {
   "cell_type": "code",
   "execution_count": 308,
   "metadata": {},
   "outputs": [
    {
     "name": "stdout",
     "output_type": "stream",
     "text": [
      "                              OLS Regression Results                             \n",
      "=================================================================================\n",
      "Dep. Variable:     normalized_used_price   R-squared:                       0.754\n",
      "Model:                               OLS   Adj. R-squared:                  0.752\n",
      "Method:                    Least Squares   F-statistic:                     387.0\n",
      "Date:                   Sun, 22 May 2022   Prob (F-statistic):               0.00\n",
      "Time:                           08:02:27   Log-Likelihood:                -129.66\n",
      "No. Observations:                   2417   AIC:                             299.3\n",
      "Df Residuals:                       2397   BIC:                             415.1\n",
      "Df Model:                             19                                         \n",
      "Covariance Type:               nonrobust                                         \n",
      "=========================================================================================\n",
      "                            coef    std err          t      P>|t|      [0.025      0.975]\n",
      "-----------------------------------------------------------------------------------------\n",
      "const                     1.8092      0.056     32.363      0.000       1.700       1.919\n",
      "main_camera_mp            0.0224      0.002     12.975      0.000       0.019       0.026\n",
      "selfie_camera_mp          0.0113      0.002      6.754      0.000       0.008       0.015\n",
      "int_memory                0.0020      0.000      9.483      0.000       0.002       0.002\n",
      "battery                2.222e-05   7.53e-06      2.952      0.003    7.46e-06     3.7e-05\n",
      "weight                    0.0013    9.9e-05     13.484      0.000       0.001       0.002\n",
      "days_used                -0.0001   2.77e-05     -4.569      0.000      -0.000   -7.23e-05\n",
      "normalized_new_price      0.3687      0.012     30.150      0.000       0.345       0.393\n",
      "brand_name_Apple         -0.9916      0.187     -5.309      0.000      -1.358      -0.625\n",
      "brand_name_BlackBerry    -0.1774      0.065     -2.718      0.007      -0.305      -0.049\n",
      "brand_name_Celkon         0.3296      0.053      6.235      0.000       0.226       0.433\n",
      "brand_name_LG            -0.0490      0.023     -2.102      0.036      -0.095      -0.003\n",
      "brand_name_Realme         0.1491      0.053      2.826      0.005       0.046       0.252\n",
      "brand_name_Samsung       -0.0397      0.018     -2.165      0.030      -0.076      -0.004\n",
      "brand_name_Sony          -0.0807      0.032     -2.496      0.013      -0.144      -0.017\n",
      "brand_name_Xiaomi         0.0826      0.028      2.968      0.003       0.028       0.137\n",
      "os_Others                 0.1907      0.030      6.424      0.000       0.132       0.249\n",
      "os_iOS                    0.9370      0.193      4.864      0.000       0.559       1.315\n",
      "4g_yes                    0.0976      0.016      6.211      0.000       0.067       0.128\n",
      "5g_yes                    0.1396      0.031      4.572      0.000       0.080       0.199\n",
      "==============================================================================\n",
      "Omnibus:                      128.055   Durbin-Watson:                   2.038\n",
      "Prob(Omnibus):                  0.000   Jarque-Bera (JB):              418.344\n",
      "Skew:                           0.176   Prob(JB):                     1.44e-91\n",
      "Kurtosis:                       5.007   Cond. No.                     1.76e+05\n",
      "==============================================================================\n",
      "\n",
      "Notes:\n",
      "[1] Standard Errors assume that the covariance matrix of the errors is correctly specified.\n",
      "[2] The condition number is large, 1.76e+05. This might indicate that there are\n",
      "strong multicollinearity or other numerical problems.\n"
     ]
    },
    {
     "data": {
      "application/javascript": [
       "\n",
       "            setTimeout(function() {\n",
       "                var nbb_cell_id = 308;\n",
       "                var nbb_unformatted_code = \"olsmodel_final = sm.OLS(y_train, x_train_final).fit()\\nprint(olsmodel_final.summary())\";\n",
       "                var nbb_formatted_code = \"olsmodel_final = sm.OLS(y_train, x_train_final).fit()\\nprint(olsmodel_final.summary())\";\n",
       "                var nbb_cells = Jupyter.notebook.get_cells();\n",
       "                for (var i = 0; i < nbb_cells.length; ++i) {\n",
       "                    if (nbb_cells[i].input_prompt_number == nbb_cell_id) {\n",
       "                        if (nbb_cells[i].get_text() == nbb_unformatted_code) {\n",
       "                             nbb_cells[i].set_text(nbb_formatted_code);\n",
       "                        }\n",
       "                        break;\n",
       "                    }\n",
       "                }\n",
       "            }, 500);\n",
       "            "
      ],
      "text/plain": [
       "<IPython.core.display.Javascript object>"
      ]
     },
     "metadata": {},
     "output_type": "display_data"
    },
    {
     "data": {
      "application/javascript": [
       "\n",
       "            setTimeout(function() {\n",
       "                var nbb_cell_id = 308;\n",
       "                var nbb_unformatted_code = \"olsmodel_final = sm.OLS(y_train, x_train_final).fit()\\nprint(olsmodel_final.summary())\";\n",
       "                var nbb_formatted_code = \"olsmodel_final = sm.OLS(y_train, x_train_final).fit()\\nprint(olsmodel_final.summary())\";\n",
       "                var nbb_cells = Jupyter.notebook.get_cells();\n",
       "                for (var i = 0; i < nbb_cells.length; ++i) {\n",
       "                    if (nbb_cells[i].input_prompt_number == nbb_cell_id) {\n",
       "                        if (nbb_cells[i].get_text() == nbb_unformatted_code) {\n",
       "                             nbb_cells[i].set_text(nbb_formatted_code);\n",
       "                        }\n",
       "                        break;\n",
       "                    }\n",
       "                }\n",
       "            }, 500);\n",
       "            "
      ],
      "text/plain": [
       "<IPython.core.display.Javascript object>"
      ]
     },
     "metadata": {},
     "output_type": "display_data"
    }
   ],
   "source": [
    "olsmodel_final = sm.OLS(y_train, x_train_final).fit()\n",
    "print(olsmodel_final.summary())"
   ]
  },
  {
   "cell_type": "code",
   "execution_count": 309,
   "metadata": {},
   "outputs": [
    {
     "name": "stdout",
     "output_type": "stream",
     "text": [
      "Training Performance\n",
      "\n"
     ]
    },
    {
     "data": {
      "text/html": [
       "<div>\n",
       "<style scoped>\n",
       "    .dataframe tbody tr th:only-of-type {\n",
       "        vertical-align: middle;\n",
       "    }\n",
       "\n",
       "    .dataframe tbody tr th {\n",
       "        vertical-align: top;\n",
       "    }\n",
       "\n",
       "    .dataframe thead th {\n",
       "        text-align: right;\n",
       "    }\n",
       "</style>\n",
       "<table border=\"1\" class=\"dataframe\">\n",
       "  <thead>\n",
       "    <tr style=\"text-align: right;\">\n",
       "      <th></th>\n",
       "      <th>RMSE</th>\n",
       "      <th>MAE</th>\n",
       "      <th>R-squared</th>\n",
       "      <th>Adj. R-squared</th>\n",
       "      <th>MAPE</th>\n",
       "    </tr>\n",
       "  </thead>\n",
       "  <tbody>\n",
       "    <tr>\n",
       "      <th>0</th>\n",
       "      <td>0.255305</td>\n",
       "      <td>0.194669</td>\n",
       "      <td>0.754169</td>\n",
       "      <td>0.752117</td>\n",
       "      <td>4.521786</td>\n",
       "    </tr>\n",
       "  </tbody>\n",
       "</table>\n",
       "</div>"
      ],
      "text/plain": [
       "       RMSE       MAE  R-squared  Adj. R-squared      MAPE\n",
       "0  0.255305  0.194669   0.754169        0.752117  4.521786"
      ]
     },
     "execution_count": 309,
     "metadata": {},
     "output_type": "execute_result"
    },
    {
     "data": {
      "application/javascript": [
       "\n",
       "            setTimeout(function() {\n",
       "                var nbb_cell_id = 309;\n",
       "                var nbb_unformatted_code = \"# checking model performance on train set (seen 70% data)\\nprint(\\\"Training Performance\\\\n\\\")\\nolsmodel_final_train_perf = model_performance_regression(\\n    olsmodel_final, x_train_final, y_train\\n)\\nolsmodel_final_train_perf\";\n",
       "                var nbb_formatted_code = \"# checking model performance on train set (seen 70% data)\\nprint(\\\"Training Performance\\\\n\\\")\\nolsmodel_final_train_perf = model_performance_regression(\\n    olsmodel_final, x_train_final, y_train\\n)\\nolsmodel_final_train_perf\";\n",
       "                var nbb_cells = Jupyter.notebook.get_cells();\n",
       "                for (var i = 0; i < nbb_cells.length; ++i) {\n",
       "                    if (nbb_cells[i].input_prompt_number == nbb_cell_id) {\n",
       "                        if (nbb_cells[i].get_text() == nbb_unformatted_code) {\n",
       "                             nbb_cells[i].set_text(nbb_formatted_code);\n",
       "                        }\n",
       "                        break;\n",
       "                    }\n",
       "                }\n",
       "            }, 500);\n",
       "            "
      ],
      "text/plain": [
       "<IPython.core.display.Javascript object>"
      ]
     },
     "metadata": {},
     "output_type": "display_data"
    },
    {
     "data": {
      "application/javascript": [
       "\n",
       "            setTimeout(function() {\n",
       "                var nbb_cell_id = 309;\n",
       "                var nbb_unformatted_code = \"# checking model performance on train set (seen 70% data)\\nprint(\\\"Training Performance\\\\n\\\")\\nolsmodel_final_train_perf = model_performance_regression(\\n    olsmodel_final, x_train_final, y_train\\n)\\nolsmodel_final_train_perf\";\n",
       "                var nbb_formatted_code = \"# checking model performance on train set (seen 70% data)\\nprint(\\\"Training Performance\\\\n\\\")\\nolsmodel_final_train_perf = model_performance_regression(\\n    olsmodel_final, x_train_final, y_train\\n)\\nolsmodel_final_train_perf\";\n",
       "                var nbb_cells = Jupyter.notebook.get_cells();\n",
       "                for (var i = 0; i < nbb_cells.length; ++i) {\n",
       "                    if (nbb_cells[i].input_prompt_number == nbb_cell_id) {\n",
       "                        if (nbb_cells[i].get_text() == nbb_unformatted_code) {\n",
       "                             nbb_cells[i].set_text(nbb_formatted_code);\n",
       "                        }\n",
       "                        break;\n",
       "                    }\n",
       "                }\n",
       "            }, 500);\n",
       "            "
      ],
      "text/plain": [
       "<IPython.core.display.Javascript object>"
      ]
     },
     "metadata": {},
     "output_type": "display_data"
    }
   ],
   "source": [
    "# Check model performance on train set.\n",
    "print(\"Training Performance\\n\")\n",
    "olsmodel_final_train_perf = model_performance_regression(\n",
    "    olsmodel_final, x_train_final, y_train\n",
    ")\n",
    "olsmodel_final_train_perf"
   ]
  },
  {
   "cell_type": "code",
   "execution_count": 310,
   "metadata": {},
   "outputs": [
    {
     "name": "stdout",
     "output_type": "stream",
     "text": [
      "Test Performance\n",
      "\n"
     ]
    },
    {
     "data": {
      "text/html": [
       "<div>\n",
       "<style scoped>\n",
       "    .dataframe tbody tr th:only-of-type {\n",
       "        vertical-align: middle;\n",
       "    }\n",
       "\n",
       "    .dataframe tbody tr th {\n",
       "        vertical-align: top;\n",
       "    }\n",
       "\n",
       "    .dataframe thead th {\n",
       "        text-align: right;\n",
       "    }\n",
       "</style>\n",
       "<table border=\"1\" class=\"dataframe\">\n",
       "  <thead>\n",
       "    <tr style=\"text-align: right;\">\n",
       "      <th></th>\n",
       "      <th>RMSE</th>\n",
       "      <th>MAE</th>\n",
       "      <th>R-squared</th>\n",
       "      <th>Adj. R-squared</th>\n",
       "      <th>MAPE</th>\n",
       "    </tr>\n",
       "  </thead>\n",
       "  <tbody>\n",
       "    <tr>\n",
       "      <th>0</th>\n",
       "      <td>0.260588</td>\n",
       "      <td>0.198696</td>\n",
       "      <td>0.746845</td>\n",
       "      <td>0.741861</td>\n",
       "      <td>4.628005</td>\n",
       "    </tr>\n",
       "  </tbody>\n",
       "</table>\n",
       "</div>"
      ],
      "text/plain": [
       "       RMSE       MAE  R-squared  Adj. R-squared      MAPE\n",
       "0  0.260588  0.198696   0.746845        0.741861  4.628005"
      ]
     },
     "execution_count": 310,
     "metadata": {},
     "output_type": "execute_result"
    },
    {
     "data": {
      "application/javascript": [
       "\n",
       "            setTimeout(function() {\n",
       "                var nbb_cell_id = 310;\n",
       "                var nbb_unformatted_code = \"# checking model performance on test set (seen 30% data)\\nprint(\\\"Test Performance\\\\n\\\")\\nolsmodel_final_test_perf = model_performance_regression(\\n    olsmodel_final, x_test_final, y_test\\n)\\nolsmodel_final_test_perf\";\n",
       "                var nbb_formatted_code = \"# checking model performance on test set (seen 30% data)\\nprint(\\\"Test Performance\\\\n\\\")\\nolsmodel_final_test_perf = model_performance_regression(\\n    olsmodel_final, x_test_final, y_test\\n)\\nolsmodel_final_test_perf\";\n",
       "                var nbb_cells = Jupyter.notebook.get_cells();\n",
       "                for (var i = 0; i < nbb_cells.length; ++i) {\n",
       "                    if (nbb_cells[i].input_prompt_number == nbb_cell_id) {\n",
       "                        if (nbb_cells[i].get_text() == nbb_unformatted_code) {\n",
       "                             nbb_cells[i].set_text(nbb_formatted_code);\n",
       "                        }\n",
       "                        break;\n",
       "                    }\n",
       "                }\n",
       "            }, 500);\n",
       "            "
      ],
      "text/plain": [
       "<IPython.core.display.Javascript object>"
      ]
     },
     "metadata": {},
     "output_type": "display_data"
    },
    {
     "data": {
      "application/javascript": [
       "\n",
       "            setTimeout(function() {\n",
       "                var nbb_cell_id = 310;\n",
       "                var nbb_unformatted_code = \"# checking model performance on test set (seen 30% data)\\nprint(\\\"Test Performance\\\\n\\\")\\nolsmodel_final_test_perf = model_performance_regression(\\n    olsmodel_final, x_test_final, y_test\\n)\\nolsmodel_final_test_perf\";\n",
       "                var nbb_formatted_code = \"# checking model performance on test set (seen 30% data)\\nprint(\\\"Test Performance\\\\n\\\")\\nolsmodel_final_test_perf = model_performance_regression(\\n    olsmodel_final, x_test_final, y_test\\n)\\nolsmodel_final_test_perf\";\n",
       "                var nbb_cells = Jupyter.notebook.get_cells();\n",
       "                for (var i = 0; i < nbb_cells.length; ++i) {\n",
       "                    if (nbb_cells[i].input_prompt_number == nbb_cell_id) {\n",
       "                        if (nbb_cells[i].get_text() == nbb_unformatted_code) {\n",
       "                             nbb_cells[i].set_text(nbb_formatted_code);\n",
       "                        }\n",
       "                        break;\n",
       "                    }\n",
       "                }\n",
       "            }, 500);\n",
       "            "
      ],
      "text/plain": [
       "<IPython.core.display.Javascript object>"
      ]
     },
     "metadata": {},
     "output_type": "display_data"
    }
   ],
   "source": [
    "# Check model performance on test set.\n",
    "print(\"Test Performance\\n\")\n",
    "olsmodel_final_test_perf = model_performance_regression(\n",
    "    olsmodel_final, x_test_final, y_test\n",
    ")\n",
    "olsmodel_final_test_perf"
   ]
  },
  {
   "cell_type": "code",
   "execution_count": null,
   "metadata": {},
   "outputs": [],
   "source": []
  },
  {
   "cell_type": "markdown",
   "metadata": {
    "id": "2BkZh6eHluZK"
   },
   "source": [
    "## Actionable Insights and Recommendations "
   ]
  },
  {
   "cell_type": "markdown",
   "metadata": {
    "id": "Mh_zkgqs4rqN"
   },
   "source": [
    "\n",
    "1. This model explins approximately 75% of the variation in the model. \n",
    "- This is an indication that the model obtained performs well for prediction. \n",
    "- Also, the model is suitable for making inferences.\n",
    "\n",
    "2. According to the model, a unit increase in resolution of main camera will increaase price of a used phone by 0.0224 euros, holding all other variables constant.\n",
    "\n",
    "3. A unit increase in resolution of selfie camera will increase price of a used phone by 0.0113 euros, holding all other variables constant.\n",
    "\n",
    "4. A unit increase in internal memory increase price of a used phone by 0.0020 euros, holding all other variables constant.\n",
    "\n",
    "5. A unit increase in battery capacity will increase the price of a used phone by 0.00002 euros, holding all otther variables constant.\n",
    "6. A unit increase in number of days the phone has been used will decrease the price of the phone by 0.0001 euros, holding all other variables constant.\n",
    "7. A unit increase in the price of the phone when new will increase price of a used phone by 0.0113 units, holding all other variables constant.\n",
    "8. The price of a used phone when there are no factors driving it will be 1.80 euros. \n",
    "\n",
    "9. Engaging in media advertising for used phones will be a good strategy for the company to improve its sales.\n",
    "\n",
    "10. Highlighting the benefits used phones offer will help to increase the popularity of the company's products among the buyers.\n",
    "11. Conducting widespread promotional sales can serve as a major boost for the sales and popularity of the used devices sold by the company.\n",
    "12. The company should also ensure it understands the demography of people who spend more on gadgets, especially used ones.\n",
    "\n",
    "\n"
   ]
  },
  {
   "cell_type": "markdown",
   "metadata": {
    "id": "bWXXovuh4rqN"
   },
   "source": [
    "___"
   ]
  }
 ],
 "metadata": {
  "colab": {
   "collapsed_sections": [
    "3SntBY974rqJ",
    "v_-uuGqH-qTt",
    "xxhpZv9y-qTw",
    "UvpMDcaaMKtI",
    "__7ciGcIDPyk",
    "pVn5toJ7MKte",
    "KNzFis7eEaXj",
    "HeUzI1OB4rqM",
    "jvoU3F6oMKti",
    "a9GxSQf-qH8e",
    "jRYSDgFZMKtm",
    "2BkZh6eHluZK"
   ],
   "name": "SLF_Project_LearnerNotebook_FullCode.ipynb",
   "provenance": []
  },
  "kernelspec": {
   "display_name": "Python 3 (ipykernel)",
   "language": "python",
   "name": "python3"
  },
  "language_info": {
   "codemirror_mode": {
    "name": "ipython",
    "version": 3
   },
   "file_extension": ".py",
   "mimetype": "text/x-python",
   "name": "python",
   "nbconvert_exporter": "python",
   "pygments_lexer": "ipython3",
   "version": "3.9.7"
  }
 },
 "nbformat": 4,
 "nbformat_minor": 1
}
